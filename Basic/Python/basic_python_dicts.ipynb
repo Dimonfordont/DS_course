{
  "nbformat": 4,
  "nbformat_minor": 0,
  "metadata": {
    "colab": {
      "provenance": [],
      "authorship_tag": "ABX9TyPEVNgo/NGKkKohLjM5TnFM",
      "include_colab_link": true
    },
    "kernelspec": {
      "name": "python3",
      "display_name": "Python 3"
    },
    "language_info": {
      "name": "python"
    }
  },
  "cells": [
    {
      "cell_type": "markdown",
      "metadata": {
        "id": "view-in-github",
        "colab_type": "text"
      },
      "source": [
        "<a href=\"https://colab.research.google.com/github/Dimonfordont/DS_course/blob/main/Basic/Python/basic_python_dicts.ipynb\" target=\"_parent\"><img src=\"https://colab.research.google.com/assets/colab-badge.svg\" alt=\"Open In Colab\"/></a>"
      ]
    },
    {
      "cell_type": "markdown",
      "source": [
        "# Словари"
      ],
      "metadata": {
        "id": "xfBdlPjW9wi7"
      }
    },
    {
      "cell_type": "code",
      "source": [
        "passed = 'test passed'"
      ],
      "metadata": {
        "id": "bCf0OyA3CM4w"
      },
      "execution_count": null,
      "outputs": []
    },
    {
      "cell_type": "markdown",
      "source": [
        "## Введение в словари\n",
        "\n",
        "### Что такое\n",
        "\n",
        "dict - это структура данных, которая хранит пары \"ключ-значение\". Каждый элемент словаря состоит из двух частей:\n",
        "\n",
        "* Ключ - уникальный идентификатор (например, строка, число и т. д.).\n",
        "* Значение - данные, связанные с этим ключом (например, строка, число или даже другой словарь).\n",
        "\n",
        "\n",
        "**Пример**: У нас есть словарь, который хранит информацию о человеке:\n",
        "\n",
        "* Имя (ключ) значение: \"Тесс\" (Имя: Тесс)\n",
        "* Возраст (ключ) значение: 35 (Возраст: 35)"
      ],
      "metadata": {
        "id": "m7h4Nbu890EM"
      }
    },
    {
      "cell_type": "code",
      "execution_count": null,
      "metadata": {
        "id": "r-1IHXki7dwC"
      },
      "outputs": [],
      "source": [
        "person = {\n",
        "          \"Имя\": \"Тесс\",\n",
        "          \"Возраст\": 35\n",
        "          }"
      ]
    },
    {
      "cell_type": "code",
      "source": [
        "person"
      ],
      "metadata": {
        "id": "Olvxzt-U_MVp"
      },
      "execution_count": null,
      "outputs": []
    },
    {
      "cell_type": "markdown",
      "source": [
        "### Как создать\n",
        "\n",
        "Чтобы создать словарь, мы используем фигурные скобки ```{}``` и пишем пары ключ-значение через двоеточие как было указано выше."
      ],
      "metadata": {
        "id": "1p-lXlAE-jwm"
      }
    },
    {
      "cell_type": "code",
      "source": [
        "person = {\n",
        "          \"Имя\": \"Тесс\",\n",
        "          \"Возраст\": 35\n",
        "          }"
      ],
      "metadata": {
        "id": "7YdQykqm-f7O"
      },
      "execution_count": null,
      "outputs": []
    },
    {
      "cell_type": "markdown",
      "source": [
        "Пустой словарь создается с помощью фигурных скобок или вызова встроенного метода dict()"
      ],
      "metadata": {
        "id": "dEkgBZQY--6q"
      }
    },
    {
      "cell_type": "code",
      "source": [
        "empty_dict_1 = {}"
      ],
      "metadata": {
        "id": "kmonTPSm_Gor"
      },
      "execution_count": null,
      "outputs": []
    },
    {
      "cell_type": "code",
      "source": [
        "empty_dict_1  # что внутри?"
      ],
      "metadata": {
        "id": "cg_zP9vh_j-Y"
      },
      "execution_count": null,
      "outputs": []
    },
    {
      "cell_type": "code",
      "source": [
        "empty_dict_2 = dict()\n",
        "\n",
        "empty_dict_2  # что внутри?"
      ],
      "metadata": {
        "colab": {
          "base_uri": "https://localhost:8080/"
        },
        "id": "x3h5Dazh_G6d",
        "outputId": "5f7c6208-e39b-42d2-c75f-dea5d51234ec"
      },
      "execution_count": null,
      "outputs": [
        {
          "output_type": "execute_result",
          "data": {
            "text/plain": [
              "{}"
            ]
          },
          "metadata": {},
          "execution_count": 3
        }
      ]
    },
    {
      "cell_type": "markdown",
      "source": [
        "убедимся что empty_dict_1 пуст и является словарем\n",
        "\n",
        "(не обращаем внимания на эту ячейку)"
      ],
      "metadata": {
        "id": "OjFQEGZX_aaM"
      }
    },
    {
      "cell_type": "code",
      "source": [
        "assert type(empty_dict_1) is dict\n",
        "assert not empty_dict_1\n",
        "assert type(empty_dict_2) is dict\n",
        "assert not empty_dict_2\n",
        "passed"
      ],
      "metadata": {
        "colab": {
          "base_uri": "https://localhost:8080/",
          "height": 36
        },
        "id": "bDr4Qla-_pzb",
        "outputId": "f12292dc-1f3f-4943-be4c-44cf8181fb2f"
      },
      "execution_count": null,
      "outputs": [
        {
          "output_type": "execute_result",
          "data": {
            "text/plain": [
              "'test passed'"
            ],
            "application/vnd.google.colaboratory.intrinsic+json": {
              "type": "string"
            }
          },
          "metadata": {},
          "execution_count": 12
        }
      ]
    },
    {
      "cell_type": "markdown",
      "source": [
        "## Доступ к значениям словаря\n",
        "\n",
        "\n",
        "Чтобы получить значение по ключу, мы используем квадратные скобки ```[]```."
      ],
      "metadata": {
        "id": "7irQZE-nAS6V"
      }
    },
    {
      "cell_type": "code",
      "source": [
        "person"
      ],
      "metadata": {
        "colab": {
          "base_uri": "https://localhost:8080/"
        },
        "id": "TgzCDz6qAnFB",
        "outputId": "f5d62034-6983-4aa5-dcac-0d6f2f7f3c26"
      },
      "execution_count": null,
      "outputs": [
        {
          "output_type": "execute_result",
          "data": {
            "text/plain": [
              "{'Имя': 'Тесс', 'Возраст': 35}"
            ]
          },
          "metadata": {},
          "execution_count": 7
        }
      ]
    },
    {
      "cell_type": "markdown",
      "source": [
        "Итак помним, что у нас словарь с двумя ключами - \"Имя\" и \"Возраст\" (Если наш ключ строка - не забываем кавычки). Чтоб получить значение привязанное к этому ключу нам необходимо исопльзовать ключ в квадратных скобках после имени переменной.\n",
        "\n",
        "Таким образом чтоб узнать имя, мы запрашиваем в квадратных скобках ключ \"Имя\" в словаре который мы назвали person:"
      ],
      "metadata": {
        "id": "JHPTAIeLAnTd"
      }
    },
    {
      "cell_type": "code",
      "source": [
        "print(person['Имя'])"
      ],
      "metadata": {
        "colab": {
          "base_uri": "https://localhost:8080/",
          "height": 36
        },
        "id": "pqG8W5bBAng2",
        "outputId": "d73b4ce2-a6e0-4f3e-c38a-6cd64f81b278"
      },
      "execution_count": null,
      "outputs": [
        {
          "output_type": "execute_result",
          "data": {
            "text/plain": [
              "'Тесс'"
            ],
            "application/vnd.google.colaboratory.intrinsic+json": {
              "type": "string"
            }
          },
          "metadata": {},
          "execution_count": 8
        }
      ]
    },
    {
      "cell_type": "markdown",
      "source": [
        "Также мы можем использовать переменную хранящую значение в качестве ключа"
      ],
      "metadata": {
        "id": "knzSMLTrM3ic"
      }
    },
    {
      "cell_type": "code",
      "source": [
        "name_key = 'Имя'\n",
        "\n",
        "print(person[name_key])"
      ],
      "metadata": {
        "colab": {
          "base_uri": "https://localhost:8080/"
        },
        "id": "ypQafuhaM3v-",
        "outputId": "0f6ef32b-baa3-42a0-b3c4-c1cd5862574f"
      },
      "execution_count": null,
      "outputs": [
        {
          "output_type": "stream",
          "name": "stdout",
          "text": [
            "Тесс\n"
          ]
        }
      ]
    },
    {
      "cell_type": "markdown",
      "source": [
        "Если мы хотим использовать это значение где-то помимо этого словаря, стоит передать его в переменную"
      ],
      "metadata": {
        "id": "96rRisB-Bql7"
      }
    },
    {
      "cell_type": "code",
      "source": [
        "name = person['Имя']\n",
        "print(name)"
      ],
      "metadata": {
        "colab": {
          "base_uri": "https://localhost:8080/"
        },
        "id": "ib4cgRu2B85A",
        "outputId": "bd358377-58af-419b-f7d2-964d9b0b3766"
      },
      "execution_count": null,
      "outputs": [
        {
          "output_type": "stream",
          "name": "stdout",
          "text": [
            "Тесс\n"
          ]
        }
      ]
    },
    {
      "cell_type": "code",
      "source": [
        "name, name"
      ],
      "metadata": {
        "colab": {
          "base_uri": "https://localhost:8080/"
        },
        "id": "vwAP9TMqCW1F",
        "outputId": "040dbe88-5259-4d74-bd4c-39e3c36754e6"
      },
      "execution_count": null,
      "outputs": [
        {
          "output_type": "execute_result",
          "data": {
            "text/plain": [
              "('Тесс', 'Тесс')"
            ]
          },
          "metadata": {},
          "execution_count": 15
        }
      ]
    },
    {
      "cell_type": "markdown",
      "source": [
        "#### Ошибки\n",
        "Если ключа нет в словаре, питон выдаст ошибку KeyError. Если у нас ключами служат строки, то они конечно же чувствительны к регистру"
      ],
      "metadata": {
        "id": "fRHc54n-CqKx"
      }
    },
    {
      "cell_type": "code",
      "source": [
        "person['Язык']"
      ],
      "metadata": {
        "colab": {
          "base_uri": "https://localhost:8080/",
          "height": 146
        },
        "id": "KHPqGO-TCpDC",
        "outputId": "43d625b4-056f-4fe9-ca63-9ee9d3bc5ddd"
      },
      "execution_count": null,
      "outputs": [
        {
          "output_type": "error",
          "ename": "KeyError",
          "evalue": "'Язык'",
          "traceback": [
            "\u001b[0;31m---------------------------------------------------------------------------\u001b[0m",
            "\u001b[0;31mKeyError\u001b[0m                                  Traceback (most recent call last)",
            "\u001b[0;32m<ipython-input-27-3865d36b67a0>\u001b[0m in \u001b[0;36m<cell line: 1>\u001b[0;34m()\u001b[0m\n\u001b[0;32m----> 1\u001b[0;31m \u001b[0mperson\u001b[0m\u001b[0;34m[\u001b[0m\u001b[0;34m'Язык'\u001b[0m\u001b[0;34m]\u001b[0m\u001b[0;34m\u001b[0m\u001b[0;34m\u001b[0m\u001b[0m\n\u001b[0m",
            "\u001b[0;31mKeyError\u001b[0m: 'Язык'"
          ]
        }
      ]
    },
    {
      "cell_type": "code",
      "source": [
        "person['имя']"
      ],
      "metadata": {
        "colab": {
          "base_uri": "https://localhost:8080/",
          "height": 146
        },
        "id": "woYo6VzMDBdq",
        "outputId": "9f99654b-9c14-4ddf-b50b-c6ec28374f00"
      },
      "execution_count": null,
      "outputs": [
        {
          "output_type": "error",
          "ename": "KeyError",
          "evalue": "'имя'",
          "traceback": [
            "\u001b[0;31m---------------------------------------------------------------------------\u001b[0m",
            "\u001b[0;31mKeyError\u001b[0m                                  Traceback (most recent call last)",
            "\u001b[0;32m<ipython-input-17-9b14d660de73>\u001b[0m in \u001b[0;36m<cell line: 1>\u001b[0;34m()\u001b[0m\n\u001b[0;32m----> 1\u001b[0;31m \u001b[0mperson\u001b[0m\u001b[0;34m[\u001b[0m\u001b[0;34m'имя'\u001b[0m\u001b[0;34m]\u001b[0m\u001b[0;34m\u001b[0m\u001b[0;34m\u001b[0m\u001b[0m\n\u001b[0m",
            "\u001b[0;31mKeyError\u001b[0m: 'имя'"
          ]
        }
      ]
    },
    {
      "cell_type": "markdown",
      "source": [
        "### Изменение значений словаря\n",
        "\n",
        "Чтобы изменить значение, просто присваиваем новое значение существующему ключу та как мы его вызывали и используем ```=``` и желаемое нами значения."
      ],
      "metadata": {
        "id": "GByCcctBDLdr"
      }
    },
    {
      "cell_type": "code",
      "source": [
        "print(\"Возраст до изменения:\", person['Возраст'])\n",
        "person['Возраст'] = 25\n",
        "print(\"Возраст после изменения:\", person['Возраст'])"
      ],
      "metadata": {
        "colab": {
          "base_uri": "https://localhost:8080/"
        },
        "id": "jkKLwsbMDFoX",
        "outputId": "dc4c7939-d761-49c3-adf2-1f22c3055362"
      },
      "execution_count": null,
      "outputs": [
        {
          "output_type": "stream",
          "name": "stdout",
          "text": [
            "Возраст до изменения: 35\n",
            "Возраст после изменения: 25\n"
          ]
        }
      ]
    },
    {
      "cell_type": "markdown",
      "source": [
        "Но помним что если мы создавали переменную, то в общем случае ее значение не поменяемся (другие случаи и способы взаимодействия с памятью разных типов данных будем изучать позже)."
      ],
      "metadata": {
        "id": "DFosj4uRD0-_"
      }
    },
    {
      "cell_type": "code",
      "source": [
        "person['Возраст'] = 35\n",
        "\n",
        "age = person['Возраст']\n",
        "print(\"Возраст в словаре до изменения в словаре:\", person['Возраст'])\n",
        "print(\"Возраст в переменной до изменения в словаре:\", age)\n",
        "print()\n",
        "\n",
        "person['Возраст'] = age + 7\n",
        "print(\"Возраст в словаре после изменения в словаре:\", person['Возраст'])\n",
        "print(\"Возраст в переменной после изменения в словаре:\", age, '  # переменная не поменялась')\n",
        "\n",
        "print('\\n\\nА что будет если менять переменную, а не значение в словаре?\\n\\n')\n",
        "\n",
        "print(\"Возраст в словаре до изменения в переменной:\", person['Возраст'])\n",
        "print(\"Возраст в переменной до изменения в переменной:\", age)\n",
        "print()\n",
        "\n",
        "age -= 6\n",
        "print(\"Возраст в словаре после изменения в переменной:\", person['Возраст'], '  # значение в словаре не поменялась')\n",
        "print(\"Возраст в переменной после изменения в переменной:\", age)"
      ],
      "metadata": {
        "colab": {
          "base_uri": "https://localhost:8080/"
        },
        "id": "f9374sS_ENcZ",
        "outputId": "de7c8c34-cc00-4209-c339-edc9a6b73fb4"
      },
      "execution_count": null,
      "outputs": [
        {
          "output_type": "stream",
          "name": "stdout",
          "text": [
            "Возраст в словаре до изменения в словаре: 35\n",
            "Возраст в переменной до изменения в словаре: 35\n",
            "\n",
            "Возраст в словаре после изменения в словаре: 42\n",
            "Возраст в переменной после изменения в словаре: 35   # переменная не поменялась\n",
            "\n",
            "\n",
            "А что будет если менять переменную, а не значение в словаре?\n",
            "\n",
            "\n",
            "Возраст в словаре до изменения в переменной: 42\n",
            "Возраст в переменной до изменения в переменной: 35\n",
            "\n",
            "Возраст в словаре после изменения в переменной: 42   # значение в словаре не поменялась\n",
            "Возраст в переменной после изменения в переменной: 29\n"
          ]
        }
      ]
    },
    {
      "cell_type": "markdown",
      "source": [
        "## Добавление новых элементов\n",
        "\n",
        "Чтобы добавить новый элемент в словарь, просто присваиваем значение новому ключу, которого не было в словаре.\n",
        "\n",
        "Ключа \"Языки\" в нашем словаре person не было"
      ],
      "metadata": {
        "id": "EYDDiCbkFtQX"
      }
    },
    {
      "cell_type": "code",
      "source": [
        "person"
      ],
      "metadata": {
        "colab": {
          "base_uri": "https://localhost:8080/"
        },
        "id": "WZBdLSFoJd8h",
        "outputId": "b8ec9ad9-5c1e-4f41-f467-564d3de754c7"
      },
      "execution_count": null,
      "outputs": [
        {
          "output_type": "execute_result",
          "data": {
            "text/plain": [
              "{'Имя': 'Тесс', 'Возраст': 42}"
            ]
          },
          "metadata": {},
          "execution_count": 42
        }
      ]
    },
    {
      "cell_type": "code",
      "source": [
        "person['Языки']"
      ],
      "metadata": {
        "colab": {
          "base_uri": "https://localhost:8080/",
          "height": 146
        },
        "id": "kc7YRQdJJXzB",
        "outputId": "8fc757b9-daac-420c-cdfd-04f371773065"
      },
      "execution_count": null,
      "outputs": [
        {
          "output_type": "error",
          "ename": "KeyError",
          "evalue": "'Языки'",
          "traceback": [
            "\u001b[0;31m---------------------------------------------------------------------------\u001b[0m",
            "\u001b[0;31mKeyError\u001b[0m                                  Traceback (most recent call last)",
            "\u001b[0;32m<ipython-input-40-6d05e4c67556>\u001b[0m in \u001b[0;36m<cell line: 1>\u001b[0;34m()\u001b[0m\n\u001b[0;32m----> 1\u001b[0;31m \u001b[0mperson\u001b[0m\u001b[0;34m[\u001b[0m\u001b[0;34m'Языки'\u001b[0m\u001b[0;34m]\u001b[0m\u001b[0;34m\u001b[0m\u001b[0;34m\u001b[0m\u001b[0m\n\u001b[0m",
            "\u001b[0;31mKeyError\u001b[0m: 'Языки'"
          ]
        }
      ]
    },
    {
      "cell_type": "markdown",
      "source": [
        "Так же как когда мы меняли значение используем квадратные скобки, теперь используем новый ключ \"Язык\" и значение которое хотим задать"
      ],
      "metadata": {
        "id": "CtTOA68-J9vc"
      }
    },
    {
      "cell_type": "code",
      "source": [
        "person[\"Языки\"] = [\"Русский\", \"Английский\", \"Китайский\", \"python\", \"C\", \"C++\", \"JS\"]\n",
        "print(person)"
      ],
      "metadata": {
        "colab": {
          "base_uri": "https://localhost:8080/"
        },
        "id": "ykW6hmmTFsaI",
        "outputId": "3da53aac-ca3a-4914-ff66-63e52e3ba973"
      },
      "execution_count": null,
      "outputs": [
        {
          "output_type": "stream",
          "name": "stdout",
          "text": [
            "{'Имя': 'Тесс', 'Возраст': 42, 'Языки': ['Русский', 'Английский', 'Китайский', 'python', 'C', 'C++', 'JS']}\n"
          ]
        }
      ]
    },
    {
      "cell_type": "code",
      "source": [
        "person[\"Языки\"]"
      ],
      "metadata": {
        "colab": {
          "base_uri": "https://localhost:8080/"
        },
        "id": "Jd1Djo5kKnTH",
        "outputId": "8f8572c2-982a-48db-f0e5-0398f1b2bbd4"
      },
      "execution_count": null,
      "outputs": [
        {
          "output_type": "execute_result",
          "data": {
            "text/plain": [
              "['Русский', 'Английский', 'Китайский', 'python', 'C', 'C++']"
            ]
          },
          "metadata": {},
          "execution_count": 44
        }
      ]
    },
    {
      "cell_type": "markdown",
      "source": [
        "## Удаление элементов\n",
        "Для удаления элемента словаря используется команда del."
      ],
      "metadata": {
        "id": "W7IpYpNSJBm6"
      }
    },
    {
      "cell_type": "code",
      "source": [
        "person"
      ],
      "metadata": {
        "colab": {
          "base_uri": "https://localhost:8080/"
        },
        "id": "nyuMJ5zbKxOz",
        "outputId": "29d00707-2ea2-4757-b572-fc9336f9430d"
      },
      "execution_count": null,
      "outputs": [
        {
          "output_type": "execute_result",
          "data": {
            "text/plain": [
              "{'Имя': 'Тесс',\n",
              " 'Возраст': 42,\n",
              " 'Языки': ['Русский', 'Английский', 'Китайский', 'python', 'C', 'C++', 'JS']}"
            ]
          },
          "metadata": {},
          "execution_count": 55
        }
      ]
    },
    {
      "cell_type": "code",
      "source": [
        "del person['Возраст']\n",
        "print(person)"
      ],
      "metadata": {
        "colab": {
          "base_uri": "https://localhost:8080/"
        },
        "id": "txU-4dvAJB4K",
        "outputId": "c21038a3-66ee-4967-f696-0750eeb3f06d"
      },
      "execution_count": null,
      "outputs": [
        {
          "output_type": "stream",
          "name": "stdout",
          "text": [
            "{'Имя': 'Тесс', 'Языки': ['Русский', 'Английский', 'Китайский', 'python', 'C', 'C++', 'JS']}\n"
          ]
        }
      ]
    },
    {
      "cell_type": "markdown",
      "source": [
        "Как видим - больше нет значений свзяанных с удаленным ключем.\n",
        "Однако следует помнить, если мы постараемся удалить ключ которго не существует или он уже был удален - мы получим ```KeyError```"
      ],
      "metadata": {
        "id": "cc1T017TK8vf"
      }
    },
    {
      "cell_type": "code",
      "source": [
        "del person['Возраст']"
      ],
      "metadata": {
        "colab": {
          "base_uri": "https://localhost:8080/",
          "height": 146
        },
        "id": "mZ7PD59uK3Tf",
        "outputId": "f9e20d54-6555-4009-d08f-c9ce56810b20"
      },
      "execution_count": null,
      "outputs": [
        {
          "output_type": "error",
          "ename": "KeyError",
          "evalue": "'Возраст'",
          "traceback": [
            "\u001b[0;31m---------------------------------------------------------------------------\u001b[0m",
            "\u001b[0;31mKeyError\u001b[0m                                  Traceback (most recent call last)",
            "\u001b[0;32m<ipython-input-57-f8f52d8f2330>\u001b[0m in \u001b[0;36m<cell line: 1>\u001b[0;34m()\u001b[0m\n\u001b[0;32m----> 1\u001b[0;31m \u001b[0;32mdel\u001b[0m \u001b[0mperson\u001b[0m\u001b[0;34m[\u001b[0m\u001b[0;34m'Возраст'\u001b[0m\u001b[0;34m]\u001b[0m\u001b[0;34m\u001b[0m\u001b[0;34m\u001b[0m\u001b[0m\n\u001b[0m",
            "\u001b[0;31mKeyError\u001b[0m: 'Возраст'"
          ]
        }
      ]
    },
    {
      "cell_type": "code",
      "source": [
        "person['Возраст'] = 69 # Вновь создадим ключ \"Возраст\""
      ],
      "metadata": {
        "id": "x9ehOuURNOvG"
      },
      "execution_count": null,
      "outputs": []
    },
    {
      "cell_type": "markdown",
      "source": [
        "## Перебор элементов словаря\n",
        "Можно пройтись по всем ключам и значениям в словаре с помощью цикла ```for```."
      ],
      "metadata": {
        "id": "06hg55d_Lj3m"
      }
    },
    {
      "cell_type": "markdown",
      "source": [
        "### По ключам"
      ],
      "metadata": {
        "id": "OiU_I-1gNcA5"
      }
    },
    {
      "cell_type": "markdown",
      "source": [
        "Для прохода по всем ключам используем метод ```.keys()``` или просто вхождение в переменную словаря.\n",
        "\n",
        "Сперва выведем ключи:"
      ],
      "metadata": {
        "id": "O3jqvou5LuV6"
      }
    },
    {
      "cell_type": "code",
      "source": [
        "for key in person:\n",
        "  print('Ключ:', key)"
      ],
      "metadata": {
        "colab": {
          "base_uri": "https://localhost:8080/"
        },
        "id": "lhmN2f4nLtX8",
        "outputId": "63dc232c-440b-4db4-e21e-fdc5875322dc"
      },
      "execution_count": null,
      "outputs": [
        {
          "output_type": "stream",
          "name": "stdout",
          "text": [
            "Ключ: Имя\n",
            "Ключ: Языки\n",
            "Ключ: Возраст\n"
          ]
        }
      ]
    },
    {
      "cell_type": "markdown",
      "source": [
        "\n",
        "Теперь по этим ключам получим значения но теперь для разнообразия эксплиситно используем метод .keys()"
      ],
      "metadata": {
        "id": "IaNShQR6MNBi"
      }
    },
    {
      "cell_type": "code",
      "source": [
        "for key in person:\n",
        "  print('Ключ:', key, '| Значение:', person[key])"
      ],
      "metadata": {
        "colab": {
          "base_uri": "https://localhost:8080/"
        },
        "id": "DP6_kroHMkcW",
        "outputId": "076e7e38-a6b1-4f0d-e70b-a82ffb42ed8a"
      },
      "execution_count": null,
      "outputs": [
        {
          "output_type": "stream",
          "name": "stdout",
          "text": [
            "Ключ: Имя | Значение: Тесс\n",
            "Ключ: Языки | Значение: ['Русский', 'Английский', 'Китайский', 'python', 'C', 'C++', 'JS']\n",
            "Ключ: Возраст | Значение: 69\n"
          ]
        }
      ]
    },
    {
      "cell_type": "markdown",
      "source": [
        "### По значениям\n",
        "\n",
        "Также мы можем осуществлять доступ по значениям, хоть это и не так полезно зачастую.\n",
        "Для прохода по всем значениям используем метод ```.values()```\n"
      ],
      "metadata": {
        "id": "deMM3C1GNaig"
      }
    },
    {
      "cell_type": "code",
      "source": [
        "for tess_param in person.values():\n",
        "  print(tess_param)"
      ],
      "metadata": {
        "colab": {
          "base_uri": "https://localhost:8080/"
        },
        "id": "J8pydrOzNzLC",
        "outputId": "225a9cf8-e5d4-44ac-a293-d53fba44d55d"
      },
      "execution_count": null,
      "outputs": [
        {
          "output_type": "stream",
          "name": "stdout",
          "text": [
            "Тесс\n",
            "['Русский', 'Английский', 'Китайский', 'python', 'C', 'C++', 'JS']\n",
            "69\n"
          ]
        }
      ]
    },
    {
      "cell_type": "markdown",
      "source": [
        "## По значениям и ключам\n",
        "\n",
        "Очень удобный метод который позволяет одновременноиметь доступ и к ключу и к значению благодаря распаковке словаря. Для этого мы используем метод ```.items()```\n",
        "Таким образом, нам не нужно вызывать значение по ключу через квадратные скобки как мы это делали при методе ```.keys()```"
      ],
      "metadata": {
        "id": "5sKKTTUhNgXg"
      }
    },
    {
      "cell_type": "code",
      "source": [
        "for key, value in person.items():\n",
        "    print(f\"Ключ: {key}, Значение: {value}\")\n"
      ],
      "metadata": {
        "colab": {
          "base_uri": "https://localhost:8080/"
        },
        "id": "8izwYSlJOXQx",
        "outputId": "61b25bf1-29cc-4954-917f-ad46e5bce423"
      },
      "execution_count": null,
      "outputs": [
        {
          "output_type": "stream",
          "name": "stdout",
          "text": [
            "Ключ: Имя, Значение: Тесс\n",
            "Ключ: Языки, Значение: ['Русский', 'Английский', 'Китайский', 'python', 'C', 'C++', 'JS']\n",
            "Ключ: Возраст, Значение: 69\n"
          ]
        }
      ]
    },
    {
      "cell_type": "markdown",
      "source": [
        "## Объединение словарей\n",
        "\n",
        "Объединять словари можно с помощью ```.update()``` который именяет словарь методом которго он был вызван (первый), дополняя данные вторым словарем, при этом перезаписывая те значения которые есть в обоих словарях, меняя их на значения второго словаря (который в скобках)"
      ],
      "metadata": {
        "id": "rnpkvvLrOlB7"
      }
    },
    {
      "cell_type": "code",
      "source": [
        "# создадим новый словарь\n",
        "more_data = {\n",
        "             'Жив': True,\n",
        "             'Хобби': {\n",
        "                       \"Книги\": [\"Фантастика\", \"Фентези\"],\n",
        "                       \"Дисциплины\": [\"Всемирная история\", \"История древнего мира\", \"Геополитика\", \"Теория Цивилизаций\"],\n",
        "                      }\n",
        "            }\n",
        "# добавим данных\n",
        "more_data['Питомцы'] = ['Кот']\n",
        "\n",
        "# добавим данные что будут пересекаться\n",
        "more_data['Возраст'] = 'Cуперстар'"
      ],
      "metadata": {
        "id": "n8tAa_WTPWcn"
      },
      "execution_count": null,
      "outputs": []
    },
    {
      "cell_type": "markdown",
      "source": [
        "Наконец объединим словари записав новые данные в первый словарь person"
      ],
      "metadata": {
        "id": "52ORlzqvRGkk"
      }
    },
    {
      "cell_type": "code",
      "source": [
        "person"
      ],
      "metadata": {
        "colab": {
          "base_uri": "https://localhost:8080/"
        },
        "id": "odPS_sugO2-d",
        "outputId": "8289dd1c-ba2b-452f-aae2-eca061dc97c1"
      },
      "execution_count": null,
      "outputs": [
        {
          "output_type": "execute_result",
          "data": {
            "text/plain": [
              "{'Имя': 'Тесс',\n",
              " 'Языки': ['Русский', 'Английский', 'Китайский', 'python', 'C', 'C++', 'JS'],\n",
              " 'Возраст': 69}"
            ]
          },
          "metadata": {},
          "execution_count": 69
        }
      ]
    },
    {
      "cell_type": "code",
      "source": [
        "person.update(more_data) # замети что метод ничего не возвращает"
      ],
      "metadata": {
        "id": "HMbRcF-iRFyN"
      },
      "execution_count": null,
      "outputs": []
    },
    {
      "cell_type": "code",
      "source": [
        "person"
      ],
      "metadata": {
        "colab": {
          "base_uri": "https://localhost:8080/"
        },
        "id": "00Th01AoRYqs",
        "outputId": "e9aa7567-f94d-4d5d-9d32-4630d7850a90"
      },
      "execution_count": null,
      "outputs": [
        {
          "output_type": "execute_result",
          "data": {
            "text/plain": [
              "{'Имя': 'Тесс',\n",
              " 'Языки': ['Русский', 'Английский', 'Китайский', 'python', 'C', 'C++', 'JS'],\n",
              " 'Возраст': 'Cуперстар',\n",
              " 'Жив': True,\n",
              " 'Хобби': {'Книги': ['Фантастика', 'Фентези'],\n",
              "  'Дисциплины': ['Всемирная история',\n",
              "   'История древнего мира',\n",
              "   'Геополитика',\n",
              "   'Теория Цивилизаций']},\n",
              " 'Питомцы': ['Кот']}"
            ]
          },
          "metadata": {},
          "execution_count": 74
        }
      ]
    },
    {
      "cell_type": "markdown",
      "source": [
        "Проверим данные во втором словаре"
      ],
      "metadata": {
        "id": "DEhocb7IRidG"
      }
    },
    {
      "cell_type": "code",
      "source": [
        "more_data"
      ],
      "metadata": {
        "colab": {
          "base_uri": "https://localhost:8080/"
        },
        "id": "I3ME2ZiqRhbi",
        "outputId": "73b727b5-1d42-4843-fde8-128e4ac4e4f6"
      },
      "execution_count": null,
      "outputs": [
        {
          "output_type": "execute_result",
          "data": {
            "text/plain": [
              "{'Жив': True,\n",
              " 'Хобби': {'Книги': ['Фантастика', 'Фентези'],\n",
              "  'Дисциплины': ['Всемирная история',\n",
              "   'История древнего мира',\n",
              "   'Геополитика',\n",
              "   'Теория Цивилизаций']},\n",
              " 'Питомцы': ['Кот'],\n",
              " 'Возраст': 'Cуперстар'}"
            ]
          },
          "metadata": {},
          "execution_count": 75
        }
      ]
    },
    {
      "cell_type": "markdown",
      "source": [
        "Также мы можем разархивировать словари с помощью **"
      ],
      "metadata": {
        "id": "ny05ux5TRseJ"
      }
    },
    {
      "cell_type": "markdown",
      "source": [
        "Стоит обратить внимание на то что мы создали новый словарь перезаписывая пересекающиеся в словарх данные в порядке очереди"
      ],
      "metadata": {
        "id": "uInYFFZdSo_L"
      }
    },
    {
      "cell_type": "code",
      "source": [
        "dwarf = {'Имя': 'Лютокусь',\n",
        "            'Языки': ['Общий', 'Друидспич', \"Дворфий\"],\n",
        "            'Возраст': 183}"
      ],
      "metadata": {
        "id": "-IfUndNzRyJC"
      },
      "execution_count": null,
      "outputs": []
    },
    {
      "cell_type": "code",
      "source": [
        "creatures = {**person, **dwarf}\n",
        "creatures"
      ],
      "metadata": {
        "colab": {
          "base_uri": "https://localhost:8080/"
        },
        "id": "5MuHSOd5SDbq",
        "outputId": "c312ea0b-dfc5-4076-87d2-c97d7a4f81a2"
      },
      "execution_count": null,
      "outputs": [
        {
          "output_type": "execute_result",
          "data": {
            "text/plain": [
              "{'Имя': 'Лютокусь',\n",
              " 'Языки': ['Общий', 'Друидспич', 'Дворфий'],\n",
              " 'Возраст': 183,\n",
              " 'Жив': True,\n",
              " 'Хобби': {'Книги': ['Фантастика', 'Фентези'],\n",
              "  'Дисциплины': ['Всемирная история',\n",
              "   'История древнего мира',\n",
              "   'Геополитика',\n",
              "   'Теория Цивилизаций']},\n",
              " 'Питомцы': ['Кот']}"
            ]
          },
          "metadata": {},
          "execution_count": 80
        }
      ]
    },
    {
      "cell_type": "markdown",
      "source": [
        "При этом мы не изменили оригинальные словари"
      ],
      "metadata": {
        "id": "WM6JYEacS6Xp"
      }
    },
    {
      "cell_type": "code",
      "source": [
        "print(person)\n",
        "print(dwarf)"
      ],
      "metadata": {
        "colab": {
          "base_uri": "https://localhost:8080/"
        },
        "id": "cdaOsvYsS90_",
        "outputId": "cf88487e-453c-4afd-8740-6766f2ceb751"
      },
      "execution_count": null,
      "outputs": [
        {
          "output_type": "stream",
          "name": "stdout",
          "text": [
            "{'Имя': 'Тесс', 'Языки': ['Русский', 'Английский', 'Китайский', 'python', 'C', 'C++', 'JS'], 'Возраст': 'Cуперстар', 'Жив': True, 'Хобби': {'Книги': ['Фантастика', 'Фентези'], 'Дисциплины': ['Всемирная история', 'История древнего мира', 'Геополитика', 'Теория Цивилизаций']}, 'Питомцы': ['Кот']}\n",
            "{'Имя': 'Лютокусь', 'Языки': ['Общий', 'Друидспич', 'Дворфий'], 'Возраст': 183}\n"
          ]
        }
      ]
    },
    {
      "cell_type": "markdown",
      "source": [
        "## Подкапот"
      ],
      "metadata": {
        "id": "asOaLy8kTKCr"
      }
    },
    {
      "cell_type": "markdown",
      "source": [
        "Словари в Python реализованы с использованием хэш-таблиц. Хэш-таблица - это структура данных, которая позволяет эффективно хранить и искать элементы по ключу используя хэширование с помощью функции.\n"
      ],
      "metadata": {
        "id": "BQzswoSPUIUy"
      }
    },
    {
      "cell_type": "markdown",
      "source": [
        "![image.png](data:image/png;base64,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)"
      ],
      "metadata": {
        "id": "KVdT_2V8Upbj"
      }
    },
    {
      "cell_type": "markdown",
      "source": [
        "[Источник картинки и примера с сыром](https://proproprogs.ru/structure_data/std-hash-tablicy-chto-eto-takoe-i-kak-rabotayut)\n"
      ],
      "metadata": {
        "id": "6ArdgClxUZBG"
      }
    },
    {
      "cell_type": "markdown",
      "source": [
        "## Хэш-таблица:\n",
        "\n",
        "Это структура данных, которая хранит пары ключ-значение в определённых ячейках памяти, определённых хэш-функцией.\n",
        "\n",
        "* Если индекс свободен, пара вставляется напрямую.\n",
        "* Если индекс занят, возникает коллизия, и необходимо решить, куда поместить новый элемент."
      ],
      "metadata": {
        "id": "owJO1ll_aL0W"
      }
    },
    {
      "cell_type": "markdown",
      "source": [
        "#### Преимущества хэш-таблицы:\n",
        "\n",
        "* Быстрый доступ: Поиск элемента выполняется за O(1) — почти мгновенно.\n",
        "* Гибкость: Ключами могут быть любые неизменяемые типы данных (например, строки, числа, кортежи).\n",
        "\n",
        "#### Недостатки:\n",
        "* Коллизии: Если слишком много коллизий, производительность замедляется. Питон решает это с помощью цепочек и хороших хэш-функций.\n",
        "* Расширение таблицы: При заполнении таблицы Python увеличивает её размер и перераспределяет элементы (рехэширование)."
      ],
      "metadata": {
        "id": "pttIQ30OcQwv"
      }
    },
    {
      "cell_type": "markdown",
      "source": [
        "\n",
        "### Хэш-функция\n",
        "Каждое слово (например, \"Бананы\", \"Багеты\", \"Брокколи\") проходит через хэш-функцию, которая преобразует его в индекс — позицию в хэш-таблице.\n",
        "\n",
        "\n",
        "Например:\n",
        "\n",
        "* \"Бананы\" → индекс 1\n",
        "* \"Багеты\" → тоже индекс 1 (возникает коллизия! о них ниже)\n",
        "* \"Брокколи\" → индекс 4\n",
        "* \"Сыр «Папандос»\" → индекс 5"
      ],
      "metadata": {
        "id": "ESskWQN3U8ln"
      }
    },
    {
      "cell_type": "markdown",
      "source": [
        "### Коллизии\n",
        "\n",
        "В нашем примере слово \"Багеты\" и \"Бананы\" попали в один индекс (1). Это называется коллизией ведь доступ может быть только к одному объекту\n",
        "\n",
        "\n",
        "**Решение**\n",
        "\n",
        "В хэш-таблице используется метод цепочек: в одном индексе создается связанный список, куда помещаются все элементы с одинаковым индексом.\n",
        "\n",
        "\"Бананы\" хранятся первыми, а \"Багеты\" добавляются в тот же индекс с ссылкой на следующий элемент."
      ],
      "metadata": {
        "id": "Sq-ggtNJaZ1c"
      }
    },
    {
      "cell_type": "markdown",
      "source": [
        "#### Почему возникают коллизии?\n",
        "Хэш-функция преобразует любой ключ (например, строку или число) в числовое значение (хэш-значение).\n",
        "\n",
        "\n",
        "Хэш-значение затем используется для определения индекса в хэш-таблице. Индекс вычисляется как остаток от деления хэш-значения на размер таблицы:\n",
        "\n",
        "$$индекс = hash(ключ)\\ \\%\\ размер\\ таблицы $$\n",
        "\n",
        "Итак: если два разных ключа дают одинаковый индекс при вычислении, это приводит к коллизии.\n",
        "\n",
        "В воображаемом примере с бананами и багетами мы предполагаем что хэш функция может не учитывать всю строку, а только часть данных или символов. А оба ключа начинаются с \"ба\"\n",
        "\n",
        "Если у хэш таблицы небольшой, сильно ограниченный размер (количество ячеек), то вероятность коллизий увеличивается.\n",
        "\n",
        "Пример:"
      ],
      "metadata": {
        "id": "alg6Oy05aEqU"
      }
    },
    {
      "cell_type": "code",
      "source": [
        "# хэш-функция\n",
        "def simple_hash(key, table_size):\n",
        "  print(f\"Значения букв в ASCII { {x:ord(x) for x in key} }\")# {}\")\n",
        "  total_sum = sum(ord(char) for char in key)\n",
        "  print(f\"Остаток (%) суммы на размер таблицы: {total_sum} % {table_size} = {total_sum % table_size}\")\n",
        "  return sum(ord(char) for char in key) % table_size"
      ],
      "metadata": {
        "id": "HKvuIaFjgfwz"
      },
      "execution_count": null,
      "outputs": []
    },
    {
      "cell_type": "code",
      "source": [
        "# Исходная хэш-таблица\n",
        "hash_table = {\n",
        "              1: [\"Эльф\", \"Фея\"],          # Индекс 1\n",
        "              4: [\"Дварф\", \"Гоблин\"],      # Индекс 4\n",
        "              5: [\"Человек\", \"Двергар\"],   # Индекс 5\n",
        "              }\n",
        "\n",
        "new_item = \"Дроу\"\n",
        "table_size = 7\n",
        "\n",
        "# Добавление нового элемента\n",
        "index = simple_hash(new_item, table_size)\n",
        "print(f\"Индекс для '{new_item}':\", index)\n",
        "\n",
        "# Добавление в хэш-таблицу\n",
        "if index in hash_table:\n",
        "    hash_table[index].append(new_item)\n",
        "else:\n",
        "    hash_table[index] = [new_item]\n",
        "\n",
        "print(\"Хэш-таблица после добавления:\", hash_table)"
      ],
      "metadata": {
        "colab": {
          "base_uri": "https://localhost:8080/"
        },
        "id": "-6Ys6wB4UqIz",
        "outputId": "b3e05189-83ee-402f-9df2-0e7d420847a2"
      },
      "execution_count": null,
      "outputs": [
        {
          "output_type": "stream",
          "name": "stdout",
          "text": [
            "Значения букв в ASCII {'Д': 1044, 'р': 1088, 'о': 1086, 'у': 1091}\n",
            "Остаток (%) суммы на размер таблицы: 4309 % 7 = 4\n",
            "Индекс для 'Дроу': 4\n",
            "Хэш-таблица после добавления: {1: ['Эльф', 'Фея'], 4: ['Дварф', 'Гоблин', 'Дроу'], 5: ['Человек', 'Двергар']}\n"
          ]
        }
      ]
    },
    {
      "cell_type": "markdown",
      "source": [
        "В настоящей реализации в питоне размер хэш-таблицы автоматически увеличивается, и он не фиксирован. Это происходит по мере добавления новых элементов для поддержания высокой производительности операций поиска, добавления и удаления."
      ],
      "metadata": {
        "id": "doMu8DWufDo6"
      }
    }
  ]
}