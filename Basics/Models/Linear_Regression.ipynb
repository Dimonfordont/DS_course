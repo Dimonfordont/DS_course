{
  "cells": [
    {
      "cell_type": "markdown",
      "metadata": {
        "id": "view-in-github",
        "colab_type": "text"
      },
      "source": [
        "<a href=\"https://colab.research.google.com/github/Dimonfordont/DS_course/blob/main/Basics/Models/Linear_Regression.ipynb\" target=\"_parent\"><img src=\"https://colab.research.google.com/assets/colab-badge.svg\" alt=\"Open In Colab\"/></a>"
      ]
    },
    {
      "cell_type": "markdown",
      "metadata": {
        "id": "LkTpaRRWZNc3"
      },
      "source": [
        "# Линейная регрессия\n"
      ]
    },
    {
      "cell_type": "markdown",
      "metadata": {
        "id": "Y5HVNycSZNc5"
      },
      "source": [
        "Загрузим необходимые библиотеки"
      ]
    },
    {
      "cell_type": "code",
      "execution_count": null,
      "metadata": {
        "id": "Lrhz2sFvZNc7"
      },
      "outputs": [],
      "source": [
        "import numpy as np\n",
        "import pandas as pd\n",
        "from matplotlib import pyplot as plt\n",
        "plt.style.use('ggplot')\n",
        "%matplotlib inline"
      ]
    },
    {
      "cell_type": "markdown",
      "metadata": {
        "id": "BqWbfcF3ZNdB"
      },
      "source": [
        "# Линейная регрессия"
      ]
    },
    {
      "cell_type": "markdown",
      "metadata": {
        "id": "Ro-ttLpiZNdC"
      },
      "source": [
        "Линейные методы предполагают, что между признаками объекта и целевой переменной существует линейная зависимость, то есть:\n",
        "$$ y = w_1 x_1 + w_2 x_2 + ... + w_k x_k + b,$$\n",
        "где у - целевая переменная (что мы хотим предсказать), $x_i$ -- признак объекта х, $w_i$ -- вес i-го признака, b -- bias (смещение, свободный член)\n",
        "\n",
        "Часто предполагают, что объект х содержит в себе фиктивный признак, который всегда равен 1, тогда bias это есть вес этого признака. В этом случае формула принимает простой вид:\n",
        "$$ y = <w, x>. $$\n",
        "\n",
        "В матричной форме, в случае, когда у нас есть n объектов формулу можно переписать следующим образом:\n",
        "$$ Y = Xw,$$\n",
        "Y -- вектор размера n, X -- матрица объекты-признаки размера $n \\times k$, w -- вектор весов размера k.\n",
        "\n",
        "Решение по методу наименьших квадратов дает\n",
        "$$ w = (X^TX)^{-1}X^TY $$"
      ]
    },
    {
      "cell_type": "markdown",
      "metadata": {
        "id": "aStEfJYSZNdE"
      },
      "source": [
        "Сгенерируем искусственные данные."
      ]
    },
    {
      "cell_type": "code",
      "execution_count": null,
      "metadata": {
        "id": "d3tzSTkrZNdF"
      },
      "outputs": [],
      "source": [
        "def generate_data(n_points=20):\n",
        "  \"\"\"\n",
        "    Принимает на вход n_points точек\n",
        "    Возвращает данные для обучения и теста\n",
        "  \"\"\"\n",
        "  X = np.linspace(-5, 5, n_points)\n",
        "  y = 10 * X - 7\n",
        "  print(y)\n",
        "  X_train = X[0::2].reshape(-1, 1)\n",
        "  y_train = y[0::2] + np.random.randn(int(n_points/2)) * 10\n",
        "\n",
        "  X_test = X[1::2].reshape(-1, 1)\n",
        "  y_test = y[1::2] + np.random.randn(int(n_points/2)) * 10\n",
        "\n",
        "  print(f'Generated {len(X_train)} train samples and {len(X_test)} test samples')\n",
        "  return X, y, X_train, y_train, X_test, y_test"
      ]
    },
    {
      "cell_type": "code",
      "execution_count": null,
      "metadata": {
        "colab": {
          "base_uri": "https://localhost:8080/"
        },
        "id": "bnYHO2TjZNdJ",
        "outputId": "94ed91df-e1bb-4510-c556-632f4477f5ae"
      },
      "outputs": [
        {
          "output_type": "stream",
          "name": "stdout",
          "text": [
            "[-57.         -55.98989899 -54.97979798 -53.96969697 -52.95959596\n",
            " -51.94949495 -50.93939394 -49.92929293 -48.91919192 -47.90909091\n",
            " -46.8989899  -45.88888889 -44.87878788 -43.86868687 -42.85858586\n",
            " -41.84848485 -40.83838384 -39.82828283 -38.81818182 -37.80808081\n",
            " -36.7979798  -35.78787879 -34.77777778 -33.76767677 -32.75757576\n",
            " -31.74747475 -30.73737374 -29.72727273 -28.71717172 -27.70707071\n",
            " -26.6969697  -25.68686869 -24.67676768 -23.66666667 -22.65656566\n",
            " -21.64646465 -20.63636364 -19.62626263 -18.61616162 -17.60606061\n",
            " -16.5959596  -15.58585859 -14.57575758 -13.56565657 -12.55555556\n",
            " -11.54545455 -10.53535354  -9.52525253  -8.51515152  -7.50505051\n",
            "  -6.49494949  -5.48484848  -4.47474747  -3.46464646  -2.45454545\n",
            "  -1.44444444  -0.43434343   0.57575758   1.58585859   2.5959596\n",
            "   3.60606061   4.61616162   5.62626263   6.63636364   7.64646465\n",
            "   8.65656566   9.66666667  10.67676768  11.68686869  12.6969697\n",
            "  13.70707071  14.71717172  15.72727273  16.73737374  17.74747475\n",
            "  18.75757576  19.76767677  20.77777778  21.78787879  22.7979798\n",
            "  23.80808081  24.81818182  25.82828283  26.83838384  27.84848485\n",
            "  28.85858586  29.86868687  30.87878788  31.88888889  32.8989899\n",
            "  33.90909091  34.91919192  35.92929293  36.93939394  37.94949495\n",
            "  38.95959596  39.96969697  40.97979798  41.98989899  43.        ]\n",
            "Generated 50 train samples and 50 test samples\n"
          ]
        }
      ],
      "source": [
        "X, y, X_train, y_train, X_test, y_test = generate_data(100)"
      ]
    },
    {
      "cell_type": "markdown",
      "metadata": {
        "id": "qNoMoAS_ZNdN"
      },
      "source": [
        "Визуализируем данные, используя библиотеку matplotlib."
      ]
    },
    {
      "cell_type": "code",
      "execution_count": null,
      "metadata": {
        "colab": {
          "base_uri": "https://localhost:8080/",
          "height": 320
        },
        "id": "NhP-hMcZZNdO",
        "outputId": "9ea3a3cd-bc8b-42f1-df78-c7a9c46279eb"
      },
      "outputs": [
        {
          "output_type": "display_data",
          "data": {
            "text/plain": [
              "<Figure size 720x360 with 1 Axes>"
            ],
            "image/png": "[encoded data removed]"
          },
          "metadata": {
            "needs_background": "light"
          }
        }
      ],
      "source": [
        "plt.figure(figsize=(10, 5))\n",
        "plt.plot(X, y, label='real')\n",
        "plt.scatter(X_train, y_train, label='train')\n",
        "plt.scatter(X_test, y_test, label='test')\n",
        "plt.legend(loc='best')\n",
        "plt.show()"
      ]
    },
    {
      "cell_type": "markdown",
      "metadata": {
        "id": "d9YIzZZbZNdS"
      },
      "source": [
        "Поработаем с простейшим одномерным случаем регрессии. Обучим нашу модель на тренировочной выборке и предскажем значения на тестовой выброке.\n",
        "Предсказанные ответы сохраним в переменную $\\textbf{predictions}$, а веса модели сохраним в переменные $\\textbf{w}$, $b$."
      ]
    },
    {
      "cell_type": "code",
      "execution_count": null,
      "metadata": {
        "id": "OZdxUF6bZNdU"
      },
      "outputs": [],
      "source": [
        "from sklearn.linear_model import LinearRegression"
      ]
    },
    {
      "cell_type": "code",
      "execution_count": null,
      "metadata": {
        "id": "f_4FQwTFZNdX"
      },
      "outputs": [],
      "source": [
        "model = LinearRegression()\n",
        "\n",
        "model.fit(X_train, y_train) # обучение модели\n",
        "\n",
        "w = model.coef_\n",
        "b = model.intercept_"
      ]
    },
    {
      "cell_type": "code",
      "execution_count": null,
      "metadata": {
        "colab": {
          "base_uri": "https://localhost:8080/"
        },
        "id": "a2y8H_BZZNdZ",
        "outputId": "73e701ec-88d4-4ef0-fa7c-94c4c04b6d16"
      },
      "outputs": [
        {
          "output_type": "execute_result",
          "data": {
            "text/plain": [
              "(array([9.93856852]), -3.404193134581374)"
            ]
          },
          "metadata": {},
          "execution_count": 14
        }
      ],
      "source": [
        "w, b"
      ]
    },
    {
      "cell_type": "code",
      "source": [
        "X[1::2]"
      ],
      "metadata": {
        "colab": {
          "base_uri": "https://localhost:8080/"
        },
        "id": "U8csYgq1sLfy",
        "outputId": "5f8b0021-6946-42bd-af64-dc8d78949995"
      },
      "execution_count": null,
      "outputs": [
        {
          "output_type": "execute_result",
          "data": {
            "text/plain": [
              "array([-4.8989899 , -4.6969697 , -4.49494949, -4.29292929, -4.09090909,\n",
              "       -3.88888889, -3.68686869, -3.48484848, -3.28282828, -3.08080808,\n",
              "       -2.87878788, -2.67676768, -2.47474747, -2.27272727, -2.07070707,\n",
              "       -1.86868687, -1.66666667, -1.46464646, -1.26262626, -1.06060606,\n",
              "       -0.85858586, -0.65656566, -0.45454545, -0.25252525, -0.05050505,\n",
              "        0.15151515,  0.35353535,  0.55555556,  0.75757576,  0.95959596,\n",
              "        1.16161616,  1.36363636,  1.56565657,  1.76767677,  1.96969697,\n",
              "        2.17171717,  2.37373737,  2.57575758,  2.77777778,  2.97979798,\n",
              "        3.18181818,  3.38383838,  3.58585859,  3.78787879,  3.98989899,\n",
              "        4.19191919,  4.39393939,  4.5959596 ,  4.7979798 ,  5.        ])"
            ]
          },
          "metadata": {},
          "execution_count": 22
        }
      ]
    },
    {
      "cell_type": "markdown",
      "metadata": {
        "id": "RckNQHn1ZNdc"
      },
      "source": [
        "Визуализируем предсказания."
      ]
    },
    {
      "cell_type": "code",
      "execution_count": null,
      "metadata": {
        "colab": {
          "base_uri": "https://localhost:8080/",
          "height": 320
        },
        "id": "4VsfN70CZNdd",
        "outputId": "a863b76f-7201-4e4f-97e0-255bce47e261"
      },
      "outputs": [
        {
          "output_type": "display_data",
          "data": {
            "text/plain": [
              "<Figure size 720x360 with 1 Axes>"
            ],
            "image/png": "[encoded data removed]"
          },
          "metadata": {
            "needs_background": "light"
          }
        }
      ],
      "source": [
        "plt.figure(figsize=(10, 5))\n",
        "plt.plot(X, y, label='real')\n",
        "plt.scatter(X_train, y_train, label='train')\n",
        "plt.scatter(X_test, y_test, label='test')\n",
        "plt.plot(X[1::2], X[1::2].reshape(-1, 1).dot(w) + b, label='predicted')\n",
        "plt.legend()\n",
        "plt.show()"
      ]
    },
    {
      "cell_type": "markdown",
      "metadata": {
        "id": "dFQqRj1lZNdg"
      },
      "source": [
        "## Оценка результатов\n",
        "\n",
        "Вычислим среднеквадратичную ошибку на трейне и на тесте. Также вычислим среднюю абсолютную ошибку."
      ]
    },
    {
      "cell_type": "code",
      "execution_count": null,
      "metadata": {
        "colab": {
          "base_uri": "https://localhost:8080/"
        },
        "id": "_4zvxDHyZNdh",
        "outputId": "f8fff732-79b2-4886-d583-12c0b1533920",
        "scrolled": true
      },
      "outputs": [
        {
          "output_type": "stream",
          "name": "stdout",
          "text": [
            "Train MSE:  73.67897200481738\n",
            "Test MSE:  99.28116614801891\n"
          ]
        }
      ],
      "source": [
        "from sklearn.metrics import mean_squared_error\n",
        "\n",
        "y_train_predicted = model.predict(X_train)\n",
        "y_test_predicted = model.predict(X_test)\n",
        "\n",
        "print('Train MSE: ', mean_squared_error(y_train, y_train_predicted))\n",
        "print('Test MSE: ', mean_squared_error(y_test, y_test_predicted))"
      ]
    },
    {
      "cell_type": "code",
      "execution_count": null,
      "metadata": {
        "colab": {
          "base_uri": "https://localhost:8080/"
        },
        "id": "yfxuHthgZNdk",
        "outputId": "dacaf78d-7dd5-48e3-f2ab-5cdd6a3b3f27"
      },
      "outputs": [
        {
          "output_type": "stream",
          "name": "stdout",
          "text": [
            "Train MAE:  6.766838502737872\n",
            "Test MAE:  8.222371993782488\n"
          ]
        }
      ],
      "source": [
        "from sklearn.metrics import mean_absolute_error\n",
        "\n",
        "print('Train MAE: ', mean_absolute_error(y_train, y_train_predicted))\n",
        "print('Test MAE: ', mean_absolute_error(y_test, y_test_predicted))"
      ]
    },
    {
      "cell_type": "markdown",
      "metadata": {
        "id": "feMIFS82ZNdn"
      },
      "source": [
        "# Реальный датасет"
      ]
    },
    {
      "cell_type": "markdown",
      "metadata": {
        "id": "_NVLc80wZNdn"
      },
      "source": [
        "Будем работать с датасетом Boston. Этот датасет описывает средние цены на недвижимость в районах Бостона в $1000.\n",
        "Примеры признаков города: количество преступлений на душу населения, процент старых домов в районе, количество учеников на одного учителя и т.д. Обратите внимание на то, что данные уже оцифрованы там, где изначально признаки были качественными."
      ]
    },
    {
      "cell_type": "markdown",
      "metadata": {
        "id": "yMC-plFGZNdo"
      },
      "source": [
        "Загрузим датасет, выведем информацию"
      ]
    },
    {
      "cell_type": "code",
      "execution_count": null,
      "metadata": {
        "colab": {
          "base_uri": "https://localhost:8080/",
          "height": 380
        },
        "id": "ZN6sApHcZNdo",
        "outputId": "fbb37629-092a-41a6-e889-c20afbbff0bf"
      },
      "outputs": [
        {
          "output_type": "error",
          "ename": "ValueError",
          "evalue": "ignored",
          "traceback": [
            "\u001b[0;31m---------------------------------------------------------------------------\u001b[0m",
            "\u001b[0;31mValueError\u001b[0m                                Traceback (most recent call last)",
            "\u001b[0;32m<ipython-input-51-db5adcd3aefe>\u001b[0m in \u001b[0;36m<module>\u001b[0;34m\u001b[0m\n\u001b[1;32m      3\u001b[0m \u001b[0mdata_url\u001b[0m \u001b[0;34m=\u001b[0m \u001b[0;34m\"http://lib.stat.cmu.edu/datasets/boston\"\u001b[0m\u001b[0;34m\u001b[0m\u001b[0;34m\u001b[0m\u001b[0m\n\u001b[1;32m      4\u001b[0m \u001b[0mraw_df\u001b[0m \u001b[0;34m=\u001b[0m \u001b[0mpd\u001b[0m\u001b[0;34m.\u001b[0m\u001b[0mread_csv\u001b[0m\u001b[0;34m(\u001b[0m\u001b[0mdata_url\u001b[0m\u001b[0;34m,\u001b[0m \u001b[0msep\u001b[0m\u001b[0;34m=\u001b[0m\u001b[0;34m\"\\s+\"\u001b[0m\u001b[0;34m,\u001b[0m \u001b[0mskiprows\u001b[0m\u001b[0;34m=\u001b[0m\u001b[0;36m22\u001b[0m\u001b[0;34m,\u001b[0m \u001b[0mheader\u001b[0m\u001b[0;34m=\u001b[0m\u001b[0;32mNone\u001b[0m\u001b[0;34m)\u001b[0m\u001b[0;34m\u001b[0m\u001b[0;34m\u001b[0m\u001b[0m\n\u001b[0;32m----> 5\u001b[0;31m \u001b[0mraw_df\u001b[0m\u001b[0;34m.\u001b[0m\u001b[0mcolumns\u001b[0m \u001b[0;34m=\u001b[0m \u001b[0;34m[\u001b[0m\u001b[0;34m'CRIM'\u001b[0m\u001b[0;34m,\u001b[0m\u001b[0;34m'ZN'\u001b[0m\u001b[0;34m,\u001b[0m \u001b[0;34m'INDUS'\u001b[0m\u001b[0;34m,\u001b[0m \u001b[0;34m'CHAS'\u001b[0m\u001b[0;34m,\u001b[0m \u001b[0;34m'NOX'\u001b[0m\u001b[0;34m,\u001b[0m \u001b[0;34m'RM'\u001b[0m\u001b[0;34m,\u001b[0m \u001b[0;34m'AGE'\u001b[0m\u001b[0;34m,\u001b[0m \u001b[0;34m'DIS'\u001b[0m\u001b[0;34m,\u001b[0m\u001b[0;34m'RAD'\u001b[0m\u001b[0;34m,\u001b[0m \u001b[0;34m'TAX'\u001b[0m\u001b[0;34m,\u001b[0m\u001b[0;34m'PTRATIO'\u001b[0m\u001b[0;34m,\u001b[0m \u001b[0;34m'B'\u001b[0m\u001b[0;34m,\u001b[0m\u001b[0;34m'LSTAT'\u001b[0m\u001b[0;34m,\u001b[0m \u001b[0;34m'MEDV'\u001b[0m\u001b[0;34m]\u001b[0m\u001b[0;31m# 2,3,4,5,6,7,8,9,0,0]\u001b[0m\u001b[0;34m\u001b[0m\u001b[0;34m\u001b[0m\u001b[0m\n\u001b[0m\u001b[1;32m      6\u001b[0m \u001b[0;31m#data = np.hstack([raw_df.values[::2, :], raw_df.values[1::2, :2]])\u001b[0m\u001b[0;34m\u001b[0m\u001b[0;34m\u001b[0m\u001b[0m\n\u001b[1;32m      7\u001b[0m \u001b[0;31m#target = raw_df.values[1::2, 2]\u001b[0m\u001b[0;34m\u001b[0m\u001b[0;34m\u001b[0m\u001b[0m\n",
            "\u001b[0;32m/usr/local/lib/python3.9/dist-packages/pandas/core/generic.py\u001b[0m in \u001b[0;36m__setattr__\u001b[0;34m(self, name, value)\u001b[0m\n\u001b[1;32m   5586\u001b[0m         \u001b[0;32mtry\u001b[0m\u001b[0;34m:\u001b[0m\u001b[0;34m\u001b[0m\u001b[0;34m\u001b[0m\u001b[0m\n\u001b[1;32m   5587\u001b[0m             \u001b[0mobject\u001b[0m\u001b[0;34m.\u001b[0m\u001b[0m__getattribute__\u001b[0m\u001b[0;34m(\u001b[0m\u001b[0mself\u001b[0m\u001b[0;34m,\u001b[0m \u001b[0mname\u001b[0m\u001b[0;34m)\u001b[0m\u001b[0;34m\u001b[0m\u001b[0;34m\u001b[0m\u001b[0m\n\u001b[0;32m-> 5588\u001b[0;31m             \u001b[0;32mreturn\u001b[0m \u001b[0mobject\u001b[0m\u001b[0;34m.\u001b[0m\u001b[0m__setattr__\u001b[0m\u001b[0;34m(\u001b[0m\u001b[0mself\u001b[0m\u001b[0;34m,\u001b[0m \u001b[0mname\u001b[0m\u001b[0;34m,\u001b[0m \u001b[0mvalue\u001b[0m\u001b[0;34m)\u001b[0m\u001b[0;34m\u001b[0m\u001b[0;34m\u001b[0m\u001b[0m\n\u001b[0m\u001b[1;32m   5589\u001b[0m         \u001b[0;32mexcept\u001b[0m \u001b[0mAttributeError\u001b[0m\u001b[0;34m:\u001b[0m\u001b[0;34m\u001b[0m\u001b[0;34m\u001b[0m\u001b[0m\n\u001b[1;32m   5590\u001b[0m             \u001b[0;32mpass\u001b[0m\u001b[0;34m\u001b[0m\u001b[0;34m\u001b[0m\u001b[0m\n",
            "\u001b[0;32m/usr/local/lib/python3.9/dist-packages/pandas/_libs/properties.pyx\u001b[0m in \u001b[0;36mpandas._libs.properties.AxisProperty.__set__\u001b[0;34m()\u001b[0m\n",
            "\u001b[0;32m/usr/local/lib/python3.9/dist-packages/pandas/core/generic.py\u001b[0m in \u001b[0;36m_set_axis\u001b[0;34m(self, axis, labels)\u001b[0m\n\u001b[1;32m    767\u001b[0m     \u001b[0;32mdef\u001b[0m \u001b[0m_set_axis\u001b[0m\u001b[0;34m(\u001b[0m\u001b[0mself\u001b[0m\u001b[0;34m,\u001b[0m \u001b[0maxis\u001b[0m\u001b[0;34m:\u001b[0m \u001b[0mint\u001b[0m\u001b[0;34m,\u001b[0m \u001b[0mlabels\u001b[0m\u001b[0;34m:\u001b[0m \u001b[0mIndex\u001b[0m\u001b[0;34m)\u001b[0m \u001b[0;34m->\u001b[0m \u001b[0;32mNone\u001b[0m\u001b[0;34m:\u001b[0m\u001b[0;34m\u001b[0m\u001b[0;34m\u001b[0m\u001b[0m\n\u001b[1;32m    768\u001b[0m         \u001b[0mlabels\u001b[0m \u001b[0;34m=\u001b[0m \u001b[0mensure_index\u001b[0m\u001b[0;34m(\u001b[0m\u001b[0mlabels\u001b[0m\u001b[0;34m)\u001b[0m\u001b[0;34m\u001b[0m\u001b[0;34m\u001b[0m\u001b[0m\n\u001b[0;32m--> 769\u001b[0;31m         \u001b[0mself\u001b[0m\u001b[0;34m.\u001b[0m\u001b[0m_mgr\u001b[0m\u001b[0;34m.\u001b[0m\u001b[0mset_axis\u001b[0m\u001b[0;34m(\u001b[0m\u001b[0maxis\u001b[0m\u001b[0;34m,\u001b[0m \u001b[0mlabels\u001b[0m\u001b[0;34m)\u001b[0m\u001b[0;34m\u001b[0m\u001b[0;34m\u001b[0m\u001b[0m\n\u001b[0m\u001b[1;32m    770\u001b[0m         \u001b[0mself\u001b[0m\u001b[0;34m.\u001b[0m\u001b[0m_clear_item_cache\u001b[0m\u001b[0;34m(\u001b[0m\u001b[0;34m)\u001b[0m\u001b[0;34m\u001b[0m\u001b[0;34m\u001b[0m\u001b[0m\n\u001b[1;32m    771\u001b[0m \u001b[0;34m\u001b[0m\u001b[0m\n",
            "\u001b[0;32m/usr/local/lib/python3.9/dist-packages/pandas/core/internals/managers.py\u001b[0m in \u001b[0;36mset_axis\u001b[0;34m(self, axis, new_labels)\u001b[0m\n\u001b[1;32m    212\u001b[0m     \u001b[0;32mdef\u001b[0m \u001b[0mset_axis\u001b[0m\u001b[0;34m(\u001b[0m\u001b[0mself\u001b[0m\u001b[0;34m,\u001b[0m \u001b[0maxis\u001b[0m\u001b[0;34m:\u001b[0m \u001b[0mint\u001b[0m\u001b[0;34m,\u001b[0m \u001b[0mnew_labels\u001b[0m\u001b[0;34m:\u001b[0m \u001b[0mIndex\u001b[0m\u001b[0;34m)\u001b[0m \u001b[0;34m->\u001b[0m \u001b[0;32mNone\u001b[0m\u001b[0;34m:\u001b[0m\u001b[0;34m\u001b[0m\u001b[0;34m\u001b[0m\u001b[0m\n\u001b[1;32m    213\u001b[0m         \u001b[0;31m# Caller is responsible for ensuring we have an Index object.\u001b[0m\u001b[0;34m\u001b[0m\u001b[0;34m\u001b[0m\u001b[0m\n\u001b[0;32m--> 214\u001b[0;31m         \u001b[0mself\u001b[0m\u001b[0;34m.\u001b[0m\u001b[0m_validate_set_axis\u001b[0m\u001b[0;34m(\u001b[0m\u001b[0maxis\u001b[0m\u001b[0;34m,\u001b[0m \u001b[0mnew_labels\u001b[0m\u001b[0;34m)\u001b[0m\u001b[0;34m\u001b[0m\u001b[0;34m\u001b[0m\u001b[0m\n\u001b[0m\u001b[1;32m    215\u001b[0m         \u001b[0mself\u001b[0m\u001b[0;34m.\u001b[0m\u001b[0maxes\u001b[0m\u001b[0;34m[\u001b[0m\u001b[0maxis\u001b[0m\u001b[0;34m]\u001b[0m \u001b[0;34m=\u001b[0m \u001b[0mnew_labels\u001b[0m\u001b[0;34m\u001b[0m\u001b[0;34m\u001b[0m\u001b[0m\n\u001b[1;32m    216\u001b[0m \u001b[0;34m\u001b[0m\u001b[0m\n",
            "\u001b[0;32m/usr/local/lib/python3.9/dist-packages/pandas/core/internals/base.py\u001b[0m in \u001b[0;36m_validate_set_axis\u001b[0;34m(self, axis, new_labels)\u001b[0m\n\u001b[1;32m     67\u001b[0m \u001b[0;34m\u001b[0m\u001b[0m\n\u001b[1;32m     68\u001b[0m         \u001b[0;32melif\u001b[0m \u001b[0mnew_len\u001b[0m \u001b[0;34m!=\u001b[0m \u001b[0mold_len\u001b[0m\u001b[0;34m:\u001b[0m\u001b[0;34m\u001b[0m\u001b[0;34m\u001b[0m\u001b[0m\n\u001b[0;32m---> 69\u001b[0;31m             raise ValueError(\n\u001b[0m\u001b[1;32m     70\u001b[0m                 \u001b[0;34mf\"Length mismatch: Expected axis has {old_len} elements, new \"\u001b[0m\u001b[0;34m\u001b[0m\u001b[0;34m\u001b[0m\u001b[0m\n\u001b[1;32m     71\u001b[0m                 \u001b[0;34mf\"values have {new_len} elements\"\u001b[0m\u001b[0;34m\u001b[0m\u001b[0;34m\u001b[0m\u001b[0m\n",
            "\u001b[0;31mValueError\u001b[0m: Length mismatch: Expected axis has 11 elements, new values have 14 elements"
          ]
        }
      ],
      "source": [
        "#from sklearn.datasets import load_boston\n",
        "from sklearn.metrics import accuracy_score, roc_curve, roc_auc_score, f1_score\n",
        "data_url = \"http://lib.stat.cmu.edu/datasets/boston\"\n",
        "raw_df = pd.read_csv(data_url, sep=\"\\s+\", skiprows=22, header=None)\n",
        "raw_df.columns = ['CRIM','ZN', 'INDUS', 'CHAS', 'NOX', 'RM', 'AGE', 'DIS','RAD', 'TAX','PTRATIO', 'B','LSTAT', 'MEDV']# 2,3,4,5,6,7,8,9,0,0]\n",
        "#data = np.hstack([raw_df.values[::2, :], raw_df.values[1::2, :2]])\n",
        "#target = raw_df.values[1::2, 2]\n",
        "\n",
        "raw_df.head()"
      ]
    },
    {
      "cell_type": "code",
      "execution_count": null,
      "metadata": {
        "id": "YBgnP7HcZNdq"
      },
      "outputs": [],
      "source": [
        "h#ouse_data = load_boston()"
      ]
    },
    {
      "cell_type": "code",
      "execution_count": null,
      "metadata": {
        "id": "xEVoaQjaZNdu"
      },
      "outputs": [],
      "source": [
        "X = data#pd.DataFrame(house_data['data'], columns=house_data['feature_names'])\n",
        "y = target# = house_data['target']"
      ]
    },
    {
      "cell_type": "code",
      "execution_count": null,
      "metadata": {
        "colab": {
          "base_uri": "https://localhost:8080/",
          "height": 182
        },
        "id": "rb3z1v7oZNdy",
        "outputId": "0180d304-4b6c-4890-be12-46fec34176f4"
      },
      "outputs": [
        {
          "output_type": "error",
          "ename": "IndexError",
          "evalue": "ignored",
          "traceback": [
            "\u001b[0;31m---------------------------------------------------------------------------\u001b[0m",
            "\u001b[0;31mIndexError\u001b[0m                                Traceback (most recent call last)",
            "\u001b[0;32m<ipython-input-29-649acf566b77>\u001b[0m in \u001b[0;36m<module>\u001b[0;34m\u001b[0m\n\u001b[0;32m----> 1\u001b[0;31m \u001b[0mX\u001b[0m\u001b[0;34m[\u001b[0m\u001b[0;34m'my_feature'\u001b[0m\u001b[0;34m]\u001b[0m \u001b[0;34m=\u001b[0m \u001b[0mX\u001b[0m\u001b[0;34m[\u001b[0m\u001b[0;34m'CRIM'\u001b[0m\u001b[0;34m]\u001b[0m \u001b[0;34m*\u001b[0m \u001b[0mX\u001b[0m\u001b[0;34m[\u001b[0m\u001b[0;34m'ZN'\u001b[0m\u001b[0;34m]\u001b[0m\u001b[0;34m\u001b[0m\u001b[0;34m\u001b[0m\u001b[0m\n\u001b[0m\u001b[1;32m      2\u001b[0m \u001b[0mX\u001b[0m\u001b[0;34m\u001b[0m\u001b[0;34m\u001b[0m\u001b[0m\n",
            "\u001b[0;31mIndexError\u001b[0m: only integers, slices (`:`), ellipsis (`...`), numpy.newaxis (`None`) and integer or boolean arrays are valid indices"
          ]
        }
      ],
      "source": [
        "X['my_feature'] = X['CRIM'] * X['ZN']\n",
        "X"
      ]
    },
    {
      "cell_type": "markdown",
      "metadata": {
        "id": "CoQsbQuNZNd0"
      },
      "source": [
        "Визуализируем распределения признаков в датасете"
      ]
    },
    {
      "cell_type": "code",
      "execution_count": null,
      "metadata": {
        "id": "Yg_KNjVwZNd0"
      },
      "outputs": [],
      "source": [
        "_ = X.hist(X.columns, figsize=(10, 10))"
      ]
    },
    {
      "cell_type": "markdown",
      "metadata": {
        "id": "NooZ9aKZdT-p"
      },
      "source": [
        "Посмотрим на то, как скоррелированы данные"
      ]
    },
    {
      "cell_type": "code",
      "execution_count": null,
      "metadata": {
        "id": "cyfN1MHdZNd3"
      },
      "outputs": [],
      "source": [
        "import seaborn as sns\n",
        "\n",
        "sns.heatmap(X.corr())"
      ]
    },
    {
      "cell_type": "markdown",
      "metadata": {
        "id": "RGWh_vjvZNd4"
      },
      "source": [
        "Сделаем предсказание: какие факторы окажутся наиболее значимыми и в какую сторону?"
      ]
    },
    {
      "cell_type": "markdown",
      "metadata": {
        "id": "YuLPyVk0ZNd5"
      },
      "source": [
        "## Обучение на реальных данных\n",
        "\n",
        "Разобьём выборку на train и test в соотношении 70/30."
      ]
    },
    {
      "cell_type": "code",
      "execution_count": null,
      "metadata": {
        "id": "xuKzTLNoZNd5"
      },
      "outputs": [],
      "source": [
        "from sklearn.model_selection import train_test_split\n",
        "\n",
        "X_train, X_test, y_train, y_test = train_test_split(X, y, train_size=0.7)"
      ]
    },
    {
      "cell_type": "code",
      "execution_count": null,
      "metadata": {
        "id": "DLotzZGfZNd7"
      },
      "outputs": [],
      "source": [
        "y_train.shape, y_test.shape"
      ]
    },
    {
      "cell_type": "markdown",
      "metadata": {
        "id": "Nx6qQ1DhZNd9"
      },
      "source": [
        "Выполним нормировку данных"
      ]
    },
    {
      "cell_type": "code",
      "execution_count": null,
      "metadata": {
        "id": "Zlnwdj1zZNd9"
      },
      "outputs": [],
      "source": [
        "from sklearn.preprocessing import StandardScaler\n",
        "\n",
        "scaler = StandardScaler()\n",
        "\n",
        "X_train = scaler.fit_transform(X_train)\n",
        "X_test = scaler.transform(X_test)"
      ]
    },
    {
      "cell_type": "markdown",
      "metadata": {
        "id": "xalTD7QhZNeA"
      },
      "source": [
        "Обучим линейную регрессию и подсчитаем её качество на тесте."
      ]
    },
    {
      "cell_type": "code",
      "execution_count": null,
      "metadata": {
        "id": "QN5tHR5cZNeA"
      },
      "outputs": [],
      "source": [
        "model = LinearRegression()\n",
        "\n",
        "model.fit(X_train, y_train)\n",
        "\n",
        "y_train_prediction = model.predict(X_train)\n",
        "y_test_prediction = model.predict(X_test)"
      ]
    },
    {
      "cell_type": "code",
      "execution_count": null,
      "metadata": {
        "id": "AxBaxPBlZNeC"
      },
      "outputs": [],
      "source": [
        "print('Train MSE: ', mean_squared_error(y_train, y_train_prediction))\n",
        "print('Test MSE: ', mean_squared_error(y_test, y_test_prediction))\n",
        "\n",
        "print('Train MAE: ', mean_absolute_error(y_train, y_train_prediction))\n",
        "print('Test MAE: ', mean_absolute_error(y_test, y_test_prediction))"
      ]
    },
    {
      "cell_type": "markdown",
      "metadata": {
        "id": "ifKs5lU9ZNeD"
      },
      "source": [
        "Визуализируем получившиеся веса"
      ]
    },
    {
      "cell_type": "code",
      "execution_count": null,
      "metadata": {
        "id": "JzEISYKVZNeE"
      },
      "outputs": [],
      "source": [
        "plt.figure(figsize=(20, 8))\n",
        "plt.bar(X.columns, model.coef_)"
      ]
    },
    {
      "cell_type": "markdown",
      "metadata": {
        "id": "DQQn1Y-fZNeH"
      },
      "source": [
        "## Ridge & Lasso\n",
        "\n",
        "Попытаемся исправить проблему переобучения для линейной регрессии. Замечено, что линейная регрессия переобучается, когда вектор весов имеет очень большие значения. Постараемся избежать этого, прибавив к функции потерь дополнительное слагаемое.\n",
        "\n",
        "### Ridge regression:\n",
        "$$L(x, y) = \\overline{(<w, x> - y_{true})^2} + \\lambda ||w||^2 \\rightarrow \\min_{w}.$$\n",
        "\n",
        "### Lasso regression:\n",
        "\n",
        "$$L(x, y) = \\overline{(<w, x> - y_{true})^2} + \\lambda ||w|| \\rightarrow \\min_{w}.$$"
      ]
    },
    {
      "cell_type": "code",
      "execution_count": null,
      "metadata": {
        "id": "otS4C5rRZNeH"
      },
      "outputs": [],
      "source": [
        "from sklearn.linear_model import Ridge, Lasso"
      ]
    },
    {
      "cell_type": "markdown",
      "metadata": {
        "id": "pMy5mYrSZNeJ"
      },
      "source": [
        "Ridge (L2-регуляризация) сильно штрафует за слишком большие веса и не очень за малые. При увеличении коэффициента перед регуляризатором веса меняются плавно"
      ]
    },
    {
      "cell_type": "code",
      "execution_count": null,
      "metadata": {
        "id": "Oap5fAZWZNeJ"
      },
      "outputs": [],
      "source": [
        "alphas = np.linspace(1, 1000, 100)\n",
        "\n",
        "weights = np.empty((len(X.columns), 0))\n",
        "for alpha in alphas:\n",
        "    ridge_regressor = Ridge(alpha)\n",
        "    ridge_regressor.fit(X_train, y_train)\n",
        "    weights = np.hstack((weights, ridge_regressor.coef_.reshape(-1, 1)))\n",
        "plt.figure(figsize=(15,8))\n",
        "plt.plot(alphas, weights.T)\n",
        "plt.show()"
      ]
    },
    {
      "cell_type": "markdown",
      "metadata": {
        "id": "6RByTtFvZNeL"
      },
      "source": [
        "Lasso одинаково сильно штрафует малые и большие веса, поэтому при достаточно большом коэффициенте регуляризации многие признаки становятся равными нулю, при этом остаются только наиболее инфромативные. Этот факт можно использовать для решения задачи отбора признаков."
      ]
    },
    {
      "cell_type": "code",
      "execution_count": null,
      "metadata": {
        "id": "eJYxVCXFZNeL"
      },
      "outputs": [],
      "source": [
        "alphas = np.linspace(0.1, 1, 100)\n",
        "\n",
        "plt.figure(figsize=(10, 5))\n",
        "weights = np.empty((len(X.columns), 0))\n",
        "for alpha in alphas:\n",
        "    lasso_regressor = Lasso(alpha)\n",
        "    lasso_regressor.fit(X_train, y_train)\n",
        "    weights = np.hstack((weights, lasso_regressor.coef_.reshape(-1, 1)))\n",
        "plt.figure(figsize=(15,8))\n",
        "plt.plot(alphas, weights.T)\n",
        "plt.grid()\n",
        "plt.show()"
      ]
    },
    {
      "cell_type": "markdown",
      "metadata": {
        "id": "cY0OimI5fbfF"
      },
      "source": [
        "# Предсказание отклика на маркетинговую кампанию"
      ]
    },
    {
      "cell_type": "markdown",
      "metadata": {
        "id": "BOCl3mOtZNex"
      },
      "source": [
        "Возьмем датасет содержащий информацию о клиентах и маркетинговой кампании некоторого банка. Наша задача --- предсказать успешность кампании для каждого клиента. Признаками являются различные характеристики клиента и кампании."
      ]
    },
    {
      "cell_type": "markdown",
      "metadata": {
        "id": "BX9DR2iOZNex"
      },
      "source": [
        "Какие признаки вы бы использовали?"
      ]
    },
    {
      "cell_type": "markdown",
      "metadata": {
        "id": "4mzAhrbnZNex"
      },
      "source": [
        "http://archive.ics.uci.edu/ml/datasets/Bank+Marketing"
      ]
    },
    {
      "cell_type": "code",
      "execution_count": null,
      "metadata": {
        "id": "cMt0yBeLZNey"
      },
      "outputs": [],
      "source": [
        "# Считаем данные\n",
        "data = pd.read_csv('bank.csv', sep=';')"
      ]
    },
    {
      "cell_type": "code",
      "execution_count": null,
      "metadata": {
        "id": "iFRnFlSIZNez"
      },
      "outputs": [],
      "source": [
        "data.head()"
      ]
    },
    {
      "cell_type": "code",
      "execution_count": null,
      "metadata": {
        "id": "_fJs6-GJZNe1"
      },
      "outputs": [],
      "source": [
        "data.info()"
      ]
    },
    {
      "cell_type": "code",
      "execution_count": null,
      "metadata": {
        "id": "Zf4NIGjAZNe3"
      },
      "outputs": [],
      "source": [
        "X = data.iloc[:, :-1].copy()\n",
        "y = data.iloc[:, -1].copy()\n",
        "\n",
        "# Бинаризуем таргет\n",
        "from sklearn.preprocessing import LabelBinarizer\n",
        "y = LabelBinarizer().fit_transform(y).ravel()"
      ]
    },
    {
      "cell_type": "markdown",
      "metadata": {
        "id": "xhlZqXTrZNe4"
      },
      "source": [
        "Классы очень несбалансированы:"
      ]
    },
    {
      "cell_type": "code",
      "execution_count": null,
      "metadata": {
        "id": "kqF4d9GIZNe5"
      },
      "outputs": [],
      "source": [
        "y.mean()"
      ]
    },
    {
      "cell_type": "markdown",
      "metadata": {
        "id": "nq3rBxkYZNe6"
      },
      "source": [
        "Заметим, что среди признаков достаточно много категориальных, в то время как линейные модели работают с числовыми признаками.\n",
        "\n",
        "Одним из способов получить числовые значения категориальных параметров является One-hot encoding. Его суть состоит в том, что для каждого категориального признака $f$ и каждого его значения $v$ создается новый признак, который равен 1 если у объекта значение $f$ равно $v$ и 0 иначе.\n",
        "\n",
        "One-hot encoding с помощью pandas можно сделать одной строчкой:"
      ]
    },
    {
      "cell_type": "code",
      "execution_count": null,
      "metadata": {
        "id": "urbqCU2zZNe6"
      },
      "outputs": [],
      "source": [
        "X = pd.get_dummies(X)\n",
        "\n",
        "# Обратите внимание на признаки\n",
        "X.info()"
      ]
    },
    {
      "cell_type": "markdown",
      "metadata": {
        "id": "_UeZs591ZNe8"
      },
      "source": [
        "Разобьем выборку на трейн и тест"
      ]
    },
    {
      "cell_type": "code",
      "execution_count": null,
      "metadata": {
        "id": "bmBrZLoWZNe8"
      },
      "outputs": [],
      "source": [
        "X_train, X_test, y_train, y_test = train_test_split(X, y, test_size=0.2)"
      ]
    },
    {
      "cell_type": "markdown",
      "metadata": {
        "id": "VtJFKexMZNfB"
      },
      "source": [
        "Обучим линейную регрессию."
      ]
    },
    {
      "cell_type": "code",
      "execution_count": null,
      "metadata": {
        "id": "bOMpsuYnZNfB"
      },
      "outputs": [],
      "source": [
        "model_linear = LinearRegression()\n",
        "model_linear.fit(X_train, y_train)\n",
        "\n",
        "y_predicted = model_linear.predict(X_test)\n"
      ]
    },
    {
      "cell_type": "markdown",
      "metadata": {
        "id": "DTmUWR21f2CT"
      },
      "source": [
        "Наконец, посчитаем метрики"
      ]
    },
    {
      "cell_type": "code",
      "execution_count": null,
      "metadata": {
        "id": "-xZBuldMZNfF"
      },
      "outputs": [],
      "source": [
        "print('Test accuracy: ', accuracy_score(y_test, y_predicted > 0.2))\n",
        "print('Test F measure: ', f1_score(y_test, y_predicted > 0.2))\n",
        "print('Test ROC-AUC: ', roc_auc_score(y_test, y_predicted))"
      ]
    }
  ],
  "metadata": {
    "colab": {
      "provenance": [],
      "include_colab_link": true
    },
    "kernelspec": {
      "display_name": "Python 3",
      "language": "python",
      "name": "python3"
    },
    "language_info": {
      "codemirror_mode": {
        "name": "ipython",
        "version": 3
      },
      "file_extension": ".py",
      "mimetype": "text/x-python",
      "name": "python",
      "nbconvert_exporter": "python",
      "pygments_lexer": "ipython3",
      "version": "3.8.5"
    }
  },
  "nbformat": 4,
  "nbformat_minor": 0
}