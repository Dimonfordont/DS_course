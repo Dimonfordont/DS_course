{
  "nbformat": 4,
  "nbformat_minor": 0,
  "metadata": {
    "colab": {
      "provenance": [],
      "authorship_tag": "ABX9TyMC+AMMTR7/HogrQrKb3fob",
      "include_colab_link": true
    },
    "kernelspec": {
      "name": "python3",
      "display_name": "Python 3"
    },
    "language_info": {
      "name": "python"
    }
  },
  "cells": [
    {
      "cell_type": "markdown",
      "metadata": {
        "id": "view-in-github",
        "colab_type": "text"
      },
      "source": [
        "<a href=\"https://colab.research.google.com/github/Dimonfordont/DS_course/blob/main/Basics/Models/Bank_AB_response_Classifiers.ipynb\" target=\"_parent\"><img src=\"https://colab.research.google.com/assets/colab-badge.svg\" alt=\"Open In Colab\"/></a>"
      ]
    },
    {
      "cell_type": "markdown",
      "source": [
        "# Bank marketing campaign response using Classifiers and encoders"
      ],
      "metadata": {
        "id": "tf0W0BlGnFVm"
      }
    },
    {
      "cell_type": "code",
      "source": [
        "!wget http://archive.ics.uci.edu/ml/machine-learning-databases/00222/bank.zip"
      ],
      "metadata": {
        "colab": {
          "base_uri": "https://localhost:8080/"
        },
        "id": "mu62d_sUnPKO",
        "outputId": "2331c86a-22b4-4fc6-d49a-4733490fcd15"
      },
      "execution_count": null,
      "outputs": [
        {
          "output_type": "stream",
          "name": "stdout",
          "text": [
            "--2023-04-21 17:24:48--  http://archive.ics.uci.edu/ml/machine-learning-databases/00222/bank.zip\n",
            "Resolving archive.ics.uci.edu (archive.ics.uci.edu)... 128.195.10.252\n",
            "Connecting to archive.ics.uci.edu (archive.ics.uci.edu)|128.195.10.252|:80... connected.\n",
            "HTTP request sent, awaiting response... 200 OK\n",
            "Length: 579043 (565K) [application/x-httpd-php]\n",
            "Saving to: ‘bank.zip.2’\n",
            "\n",
            "bank.zip.2          100%[===================>] 565.47K  1.64MB/s    in 0.3s    \n",
            "\n",
            "2023-04-21 17:24:49 (1.64 MB/s) - ‘bank.zip.2’ saved [579043/579043]\n",
            "\n"
          ]
        }
      ]
    },
    {
      "cell_type": "code",
      "execution_count": null,
      "metadata": {
        "id": "W60VlN-dnDvc"
      },
      "outputs": [],
      "source": [
        "import numpy as np\n",
        "import pandas as pd\n",
        "import seaborn as sns\n",
        "\n",
        "from matplotlib import pyplot as plt\n",
        "\n",
        "from sklearn.linear_model import LinearRegression, RidgeClassifier\n",
        "from sklearn.naive_bayes import GaussianNB\n",
        "from sklearn.neighbors import KNeighborsClassifier\n",
        "from sklearn.metrics import roc_auc_score, accuracy_score,f1_score, recall_score,precision_score\n",
        "from sklearn.model_selection import train_test_split\n",
        "\n",
        "from sklearn.preprocessing import LabelEncoder, OneHotEncoder, LabelBinarizer\n",
        "from sklearn import svm\n",
        "from scipy import stats\n",
        "from zipfile import ZipFile"
      ]
    },
    {
      "cell_type": "code",
      "source": [
        "with ZipFile(\"bank.zip\", 'r') as zip:\n",
        "    zip.extractall()\n",
        "\n",
        "df = pd.read_csv(\"bank.csv\", sep = ';')"
      ],
      "metadata": {
        "id": "PpK3fEz1nRQv"
      },
      "execution_count": null,
      "outputs": []
    },
    {
      "cell_type": "markdown",
      "source": [
        "#EDA"
      ],
      "metadata": {
        "id": "ldFz57lVoPM7"
      }
    },
    {
      "cell_type": "code",
      "source": [
        "df.head()"
      ],
      "metadata": {
        "colab": {
          "base_uri": "https://localhost:8080/",
          "height": 206
        },
        "id": "ddX0xd-Nnh-v",
        "outputId": "0a5a3968-ec36-43ef-e46b-ab762209cc60"
      },
      "execution_count": null,
      "outputs": [
        {
          "output_type": "execute_result",
          "data": {
            "text/plain": [
              "   age          job  marital  education default  balance housing loan  \\\n",
              "0   30   unemployed  married    primary      no     1787      no   no   \n",
              "1   33     services  married  secondary      no     4789     yes  yes   \n",
              "2   35   management   single   tertiary      no     1350     yes   no   \n",
              "3   30   management  married   tertiary      no     1476     yes  yes   \n",
              "4   59  blue-collar  married  secondary      no        0     yes   no   \n",
              "\n",
              "    contact  day month  duration  campaign  pdays  previous poutcome   y  \n",
              "0  cellular   19   oct        79         1     -1         0  unknown  no  \n",
              "1  cellular   11   may       220         1    339         4  failure  no  \n",
              "2  cellular   16   apr       185         1    330         1  failure  no  \n",
              "3   unknown    3   jun       199         4     -1         0  unknown  no  \n",
              "4   unknown    5   may       226         1     -1         0  unknown  no  "
            ],
            "text/html": [
              "\n",
              "  <div id=\"df-eb55975d-586c-4f9d-a441-c1c0e2334506\">\n",
              "    <div class=\"colab-df-container\">\n",
              "      <div>\n",
              "<style scoped>\n",
              "    .dataframe tbody tr th:only-of-type {\n",
              "        vertical-align: middle;\n",
              "    }\n",
              "\n",
              "    .dataframe tbody tr th {\n",
              "        vertical-align: top;\n",
              "    }\n",
              "\n",
              "    .dataframe thead th {\n",
              "        text-align: right;\n",
              "    }\n",
              "</style>\n",
              "<table border=\"1\" class=\"dataframe\">\n",
              "  <thead>\n",
              "    <tr style=\"text-align: right;\">\n",
              "      <th></th>\n",
              "      <th>age</th>\n",
              "      <th>job</th>\n",
              "      <th>marital</th>\n",
              "      <th>education</th>\n",
              "      <th>default</th>\n",
              "      <th>balance</th>\n",
              "      <th>housing</th>\n",
              "      <th>loan</th>\n",
              "      <th>contact</th>\n",
              "      <th>day</th>\n",
              "      <th>month</th>\n",
              "      <th>duration</th>\n",
              "      <th>campaign</th>\n",
              "      <th>pdays</th>\n",
              "      <th>previous</th>\n",
              "      <th>poutcome</th>\n",
              "      <th>y</th>\n",
              "    </tr>\n",
              "  </thead>\n",
              "  <tbody>\n",
              "    <tr>\n",
              "      <th>0</th>\n",
              "      <td>30</td>\n",
              "      <td>unemployed</td>\n",
              "      <td>married</td>\n",
              "      <td>primary</td>\n",
              "      <td>no</td>\n",
              "      <td>1787</td>\n",
              "      <td>no</td>\n",
              "      <td>no</td>\n",
              "      <td>cellular</td>\n",
              "      <td>19</td>\n",
              "      <td>oct</td>\n",
              "      <td>79</td>\n",
              "      <td>1</td>\n",
              "      <td>-1</td>\n",
              "      <td>0</td>\n",
              "      <td>unknown</td>\n",
              "      <td>no</td>\n",
              "    </tr>\n",
              "    <tr>\n",
              "      <th>1</th>\n",
              "      <td>33</td>\n",
              "      <td>services</td>\n",
              "      <td>married</td>\n",
              "      <td>secondary</td>\n",
              "      <td>no</td>\n",
              "      <td>4789</td>\n",
              "      <td>yes</td>\n",
              "      <td>yes</td>\n",
              "      <td>cellular</td>\n",
              "      <td>11</td>\n",
              "      <td>may</td>\n",
              "      <td>220</td>\n",
              "      <td>1</td>\n",
              "      <td>339</td>\n",
              "      <td>4</td>\n",
              "      <td>failure</td>\n",
              "      <td>no</td>\n",
              "    </tr>\n",
              "    <tr>\n",
              "      <th>2</th>\n",
              "      <td>35</td>\n",
              "      <td>management</td>\n",
              "      <td>single</td>\n",
              "      <td>tertiary</td>\n",
              "      <td>no</td>\n",
              "      <td>1350</td>\n",
              "      <td>yes</td>\n",
              "      <td>no</td>\n",
              "      <td>cellular</td>\n",
              "      <td>16</td>\n",
              "      <td>apr</td>\n",
              "      <td>185</td>\n",
              "      <td>1</td>\n",
              "      <td>330</td>\n",
              "      <td>1</td>\n",
              "      <td>failure</td>\n",
              "      <td>no</td>\n",
              "    </tr>\n",
              "    <tr>\n",
              "      <th>3</th>\n",
              "      <td>30</td>\n",
              "      <td>management</td>\n",
              "      <td>married</td>\n",
              "      <td>tertiary</td>\n",
              "      <td>no</td>\n",
              "      <td>1476</td>\n",
              "      <td>yes</td>\n",
              "      <td>yes</td>\n",
              "      <td>unknown</td>\n",
              "      <td>3</td>\n",
              "      <td>jun</td>\n",
              "      <td>199</td>\n",
              "      <td>4</td>\n",
              "      <td>-1</td>\n",
              "      <td>0</td>\n",
              "      <td>unknown</td>\n",
              "      <td>no</td>\n",
              "    </tr>\n",
              "    <tr>\n",
              "      <th>4</th>\n",
              "      <td>59</td>\n",
              "      <td>blue-collar</td>\n",
              "      <td>married</td>\n",
              "      <td>secondary</td>\n",
              "      <td>no</td>\n",
              "      <td>0</td>\n",
              "      <td>yes</td>\n",
              "      <td>no</td>\n",
              "      <td>unknown</td>\n",
              "      <td>5</td>\n",
              "      <td>may</td>\n",
              "      <td>226</td>\n",
              "      <td>1</td>\n",
              "      <td>-1</td>\n",
              "      <td>0</td>\n",
              "      <td>unknown</td>\n",
              "      <td>no</td>\n",
              "    </tr>\n",
              "  </tbody>\n",
              "</table>\n",
              "</div>\n",
              "      <button class=\"colab-df-convert\" onclick=\"convertToInteractive('df-eb55975d-586c-4f9d-a441-c1c0e2334506')\"\n",
              "              title=\"Convert this dataframe to an interactive table.\"\n",
              "              style=\"display:none;\">\n",
              "        \n",
              "  <svg xmlns=\"http://www.w3.org/2000/svg\" height=\"24px\"viewBox=\"0 0 24 24\"\n",
              "       width=\"24px\">\n",
              "    <path d=\"M0 0h24v24H0V0z\" fill=\"none\"/>\n",
              "    <path d=\"M18.56 5.44l.94 2.06.94-2.06 2.06-.94-2.06-.94-.94-2.06-.94 2.06-2.06.94zm-11 1L8.5 8.5l.94-2.06 2.06-.94-2.06-.94L8.5 2.5l-.94 2.06-2.06.94zm10 10l.94 2.06.94-2.06 2.06-.94-2.06-.94-.94-2.06-.94 2.06-2.06.94z\"/><path d=\"M17.41 7.96l-1.37-1.37c-.4-.4-.92-.59-1.43-.59-.52 0-1.04.2-1.43.59L10.3 9.45l-7.72 7.72c-.78.78-.78 2.05 0 2.83L4 21.41c.39.39.9.59 1.41.59.51 0 1.02-.2 1.41-.59l7.78-7.78 2.81-2.81c.8-.78.8-2.07 0-2.86zM5.41 20L4 18.59l7.72-7.72 1.47 1.35L5.41 20z\"/>\n",
              "  </svg>\n",
              "      </button>\n",
              "      \n",
              "  <style>\n",
              "    .colab-df-container {\n",
              "      display:flex;\n",
              "      flex-wrap:wrap;\n",
              "      gap: 12px;\n",
              "    }\n",
              "\n",
              "    .colab-df-convert {\n",
              "      background-color: #E8F0FE;\n",
              "      border: none;\n",
              "      border-radius: 50%;\n",
              "      cursor: pointer;\n",
              "      display: none;\n",
              "      fill: #1967D2;\n",
              "      height: 32px;\n",
              "      padding: 0 0 0 0;\n",
              "      width: 32px;\n",
              "    }\n",
              "\n",
              "    .colab-df-convert:hover {\n",
              "      background-color: #E2EBFA;\n",
              "      box-shadow: 0px 1px 2px rgba(60, 64, 67, 0.3), 0px 1px 3px 1px rgba(60, 64, 67, 0.15);\n",
              "      fill: #174EA6;\n",
              "    }\n",
              "\n",
              "    [theme=dark] .colab-df-convert {\n",
              "      background-color: #3B4455;\n",
              "      fill: #D2E3FC;\n",
              "    }\n",
              "\n",
              "    [theme=dark] .colab-df-convert:hover {\n",
              "      background-color: #434B5C;\n",
              "      box-shadow: 0px 1px 3px 1px rgba(0, 0, 0, 0.15);\n",
              "      filter: drop-shadow(0px 1px 2px rgba(0, 0, 0, 0.3));\n",
              "      fill: #FFFFFF;\n",
              "    }\n",
              "  </style>\n",
              "\n",
              "      <script>\n",
              "        const buttonEl =\n",
              "          document.querySelector('#df-eb55975d-586c-4f9d-a441-c1c0e2334506 button.colab-df-convert');\n",
              "        buttonEl.style.display =\n",
              "          google.colab.kernel.accessAllowed ? 'block' : 'none';\n",
              "\n",
              "        async function convertToInteractive(key) {\n",
              "          const element = document.querySelector('#df-eb55975d-586c-4f9d-a441-c1c0e2334506');\n",
              "          const dataTable =\n",
              "            await google.colab.kernel.invokeFunction('convertToInteractive',\n",
              "                                                     [key], {});\n",
              "          if (!dataTable) return;\n",
              "\n",
              "          const docLinkHtml = 'Like what you see? Visit the ' +\n",
              "            '<a target=\"_blank\" href=https://colab.research.google.com/notebooks/data_table.ipynb>data table notebook</a>'\n",
              "            + ' to learn more about interactive tables.';\n",
              "          element.innerHTML = '';\n",
              "          dataTable['output_type'] = 'display_data';\n",
              "          await google.colab.output.renderOutput(dataTable, element);\n",
              "          const docLink = document.createElement('div');\n",
              "          docLink.innerHTML = docLinkHtml;\n",
              "          element.appendChild(docLink);\n",
              "        }\n",
              "      </script>\n",
              "    </div>\n",
              "  </div>\n",
              "  "
            ]
          },
          "metadata": {},
          "execution_count": 31
        }
      ]
    },
    {
      "cell_type": "code",
      "source": [
        "df.info()"
      ],
      "metadata": {
        "colab": {
          "base_uri": "https://localhost:8080/"
        },
        "id": "lAGewgQUnvkY",
        "outputId": "e999999a-c095-46db-94b5-12fb2b90bcde"
      },
      "execution_count": null,
      "outputs": [
        {
          "output_type": "stream",
          "name": "stdout",
          "text": [
            "<class 'pandas.core.frame.DataFrame'>\n",
            "RangeIndex: 4521 entries, 0 to 4520\n",
            "Data columns (total 17 columns):\n",
            " #   Column     Non-Null Count  Dtype \n",
            "---  ------     --------------  ----- \n",
            " 0   age        4521 non-null   int64 \n",
            " 1   job        4521 non-null   object\n",
            " 2   marital    4521 non-null   object\n",
            " 3   education  4521 non-null   object\n",
            " 4   default    4521 non-null   object\n",
            " 5   balance    4521 non-null   int64 \n",
            " 6   housing    4521 non-null   object\n",
            " 7   loan       4521 non-null   object\n",
            " 8   contact    4521 non-null   object\n",
            " 9   day        4521 non-null   int64 \n",
            " 10  month      4521 non-null   object\n",
            " 11  duration   4521 non-null   int64 \n",
            " 12  campaign   4521 non-null   int64 \n",
            " 13  pdays      4521 non-null   int64 \n",
            " 14  previous   4521 non-null   int64 \n",
            " 15  poutcome   4521 non-null   object\n",
            " 16  y          4521 non-null   object\n",
            "dtypes: int64(7), object(10)\n",
            "memory usage: 600.6+ KB\n"
          ]
        }
      ]
    },
    {
      "cell_type": "code",
      "source": [
        "df.describe()"
      ],
      "metadata": {
        "colab": {
          "base_uri": "https://localhost:8080/",
          "height": 300
        },
        "id": "-GxesfW1nxF0",
        "outputId": "0ed9c329-55c2-4485-851b-44ec290e9796"
      },
      "execution_count": null,
      "outputs": [
        {
          "output_type": "execute_result",
          "data": {
            "text/plain": [
              "               age       balance          day     duration     campaign  \\\n",
              "count  4521.000000   4521.000000  4521.000000  4521.000000  4521.000000   \n",
              "mean     41.170095   1422.657819    15.915284   263.961292     2.793630   \n",
              "std      10.576211   3009.638142     8.247667   259.856633     3.109807   \n",
              "min      19.000000  -3313.000000     1.000000     4.000000     1.000000   \n",
              "25%      33.000000     69.000000     9.000000   104.000000     1.000000   \n",
              "50%      39.000000    444.000000    16.000000   185.000000     2.000000   \n",
              "75%      49.000000   1480.000000    21.000000   329.000000     3.000000   \n",
              "max      87.000000  71188.000000    31.000000  3025.000000    50.000000   \n",
              "\n",
              "             pdays     previous  \n",
              "count  4521.000000  4521.000000  \n",
              "mean     39.766645     0.542579  \n",
              "std     100.121124     1.693562  \n",
              "min      -1.000000     0.000000  \n",
              "25%      -1.000000     0.000000  \n",
              "50%      -1.000000     0.000000  \n",
              "75%      -1.000000     0.000000  \n",
              "max     871.000000    25.000000  "
            ],
            "text/html": [
              "\n",
              "  <div id=\"df-9d50f99c-be40-4ca2-9875-3df470e97282\">\n",
              "    <div class=\"colab-df-container\">\n",
              "      <div>\n",
              "<style scoped>\n",
              "    .dataframe tbody tr th:only-of-type {\n",
              "        vertical-align: middle;\n",
              "    }\n",
              "\n",
              "    .dataframe tbody tr th {\n",
              "        vertical-align: top;\n",
              "    }\n",
              "\n",
              "    .dataframe thead th {\n",
              "        text-align: right;\n",
              "    }\n",
              "</style>\n",
              "<table border=\"1\" class=\"dataframe\">\n",
              "  <thead>\n",
              "    <tr style=\"text-align: right;\">\n",
              "      <th></th>\n",
              "      <th>age</th>\n",
              "      <th>balance</th>\n",
              "      <th>day</th>\n",
              "      <th>duration</th>\n",
              "      <th>campaign</th>\n",
              "      <th>pdays</th>\n",
              "      <th>previous</th>\n",
              "    </tr>\n",
              "  </thead>\n",
              "  <tbody>\n",
              "    <tr>\n",
              "      <th>count</th>\n",
              "      <td>4521.000000</td>\n",
              "      <td>4521.000000</td>\n",
              "      <td>4521.000000</td>\n",
              "      <td>4521.000000</td>\n",
              "      <td>4521.000000</td>\n",
              "      <td>4521.000000</td>\n",
              "      <td>4521.000000</td>\n",
              "    </tr>\n",
              "    <tr>\n",
              "      <th>mean</th>\n",
              "      <td>41.170095</td>\n",
              "      <td>1422.657819</td>\n",
              "      <td>15.915284</td>\n",
              "      <td>263.961292</td>\n",
              "      <td>2.793630</td>\n",
              "      <td>39.766645</td>\n",
              "      <td>0.542579</td>\n",
              "    </tr>\n",
              "    <tr>\n",
              "      <th>std</th>\n",
              "      <td>10.576211</td>\n",
              "      <td>3009.638142</td>\n",
              "      <td>8.247667</td>\n",
              "      <td>259.856633</td>\n",
              "      <td>3.109807</td>\n",
              "      <td>100.121124</td>\n",
              "      <td>1.693562</td>\n",
              "    </tr>\n",
              "    <tr>\n",
              "      <th>min</th>\n",
              "      <td>19.000000</td>\n",
              "      <td>-3313.000000</td>\n",
              "      <td>1.000000</td>\n",
              "      <td>4.000000</td>\n",
              "      <td>1.000000</td>\n",
              "      <td>-1.000000</td>\n",
              "      <td>0.000000</td>\n",
              "    </tr>\n",
              "    <tr>\n",
              "      <th>25%</th>\n",
              "      <td>33.000000</td>\n",
              "      <td>69.000000</td>\n",
              "      <td>9.000000</td>\n",
              "      <td>104.000000</td>\n",
              "      <td>1.000000</td>\n",
              "      <td>-1.000000</td>\n",
              "      <td>0.000000</td>\n",
              "    </tr>\n",
              "    <tr>\n",
              "      <th>50%</th>\n",
              "      <td>39.000000</td>\n",
              "      <td>444.000000</td>\n",
              "      <td>16.000000</td>\n",
              "      <td>185.000000</td>\n",
              "      <td>2.000000</td>\n",
              "      <td>-1.000000</td>\n",
              "      <td>0.000000</td>\n",
              "    </tr>\n",
              "    <tr>\n",
              "      <th>75%</th>\n",
              "      <td>49.000000</td>\n",
              "      <td>1480.000000</td>\n",
              "      <td>21.000000</td>\n",
              "      <td>329.000000</td>\n",
              "      <td>3.000000</td>\n",
              "      <td>-1.000000</td>\n",
              "      <td>0.000000</td>\n",
              "    </tr>\n",
              "    <tr>\n",
              "      <th>max</th>\n",
              "      <td>87.000000</td>\n",
              "      <td>71188.000000</td>\n",
              "      <td>31.000000</td>\n",
              "      <td>3025.000000</td>\n",
              "      <td>50.000000</td>\n",
              "      <td>871.000000</td>\n",
              "      <td>25.000000</td>\n",
              "    </tr>\n",
              "  </tbody>\n",
              "</table>\n",
              "</div>\n",
              "      <button class=\"colab-df-convert\" onclick=\"convertToInteractive('df-9d50f99c-be40-4ca2-9875-3df470e97282')\"\n",
              "              title=\"Convert this dataframe to an interactive table.\"\n",
              "              style=\"display:none;\">\n",
              "        \n",
              "  <svg xmlns=\"http://www.w3.org/2000/svg\" height=\"24px\"viewBox=\"0 0 24 24\"\n",
              "       width=\"24px\">\n",
              "    <path d=\"M0 0h24v24H0V0z\" fill=\"none\"/>\n",
              "    <path d=\"M18.56 5.44l.94 2.06.94-2.06 2.06-.94-2.06-.94-.94-2.06-.94 2.06-2.06.94zm-11 1L8.5 8.5l.94-2.06 2.06-.94-2.06-.94L8.5 2.5l-.94 2.06-2.06.94zm10 10l.94 2.06.94-2.06 2.06-.94-2.06-.94-.94-2.06-.94 2.06-2.06.94z\"/><path d=\"M17.41 7.96l-1.37-1.37c-.4-.4-.92-.59-1.43-.59-.52 0-1.04.2-1.43.59L10.3 9.45l-7.72 7.72c-.78.78-.78 2.05 0 2.83L4 21.41c.39.39.9.59 1.41.59.51 0 1.02-.2 1.41-.59l7.78-7.78 2.81-2.81c.8-.78.8-2.07 0-2.86zM5.41 20L4 18.59l7.72-7.72 1.47 1.35L5.41 20z\"/>\n",
              "  </svg>\n",
              "      </button>\n",
              "      \n",
              "  <style>\n",
              "    .colab-df-container {\n",
              "      display:flex;\n",
              "      flex-wrap:wrap;\n",
              "      gap: 12px;\n",
              "    }\n",
              "\n",
              "    .colab-df-convert {\n",
              "      background-color: #E8F0FE;\n",
              "      border: none;\n",
              "      border-radius: 50%;\n",
              "      cursor: pointer;\n",
              "      display: none;\n",
              "      fill: #1967D2;\n",
              "      height: 32px;\n",
              "      padding: 0 0 0 0;\n",
              "      width: 32px;\n",
              "    }\n",
              "\n",
              "    .colab-df-convert:hover {\n",
              "      background-color: #E2EBFA;\n",
              "      box-shadow: 0px 1px 2px rgba(60, 64, 67, 0.3), 0px 1px 3px 1px rgba(60, 64, 67, 0.15);\n",
              "      fill: #174EA6;\n",
              "    }\n",
              "\n",
              "    [theme=dark] .colab-df-convert {\n",
              "      background-color: #3B4455;\n",
              "      fill: #D2E3FC;\n",
              "    }\n",
              "\n",
              "    [theme=dark] .colab-df-convert:hover {\n",
              "      background-color: #434B5C;\n",
              "      box-shadow: 0px 1px 3px 1px rgba(0, 0, 0, 0.15);\n",
              "      filter: drop-shadow(0px 1px 2px rgba(0, 0, 0, 0.3));\n",
              "      fill: #FFFFFF;\n",
              "    }\n",
              "  </style>\n",
              "\n",
              "      <script>\n",
              "        const buttonEl =\n",
              "          document.querySelector('#df-9d50f99c-be40-4ca2-9875-3df470e97282 button.colab-df-convert');\n",
              "        buttonEl.style.display =\n",
              "          google.colab.kernel.accessAllowed ? 'block' : 'none';\n",
              "\n",
              "        async function convertToInteractive(key) {\n",
              "          const element = document.querySelector('#df-9d50f99c-be40-4ca2-9875-3df470e97282');\n",
              "          const dataTable =\n",
              "            await google.colab.kernel.invokeFunction('convertToInteractive',\n",
              "                                                     [key], {});\n",
              "          if (!dataTable) return;\n",
              "\n",
              "          const docLinkHtml = 'Like what you see? Visit the ' +\n",
              "            '<a target=\"_blank\" href=https://colab.research.google.com/notebooks/data_table.ipynb>data table notebook</a>'\n",
              "            + ' to learn more about interactive tables.';\n",
              "          element.innerHTML = '';\n",
              "          dataTable['output_type'] = 'display_data';\n",
              "          await google.colab.output.renderOutput(dataTable, element);\n",
              "          const docLink = document.createElement('div');\n",
              "          docLink.innerHTML = docLinkHtml;\n",
              "          element.appendChild(docLink);\n",
              "        }\n",
              "      </script>\n",
              "    </div>\n",
              "  </div>\n",
              "  "
            ]
          },
          "metadata": {},
          "execution_count": 6
        }
      ]
    },
    {
      "cell_type": "markdown",
      "source": [
        "#Convert 64 to 32 and object to category"
      ],
      "metadata": {
        "id": "0t4QN7EhoKMk"
      }
    },
    {
      "cell_type": "code",
      "source": [
        "def improve_cats(df):\n",
        "  for col in df.columns:\n",
        "    if df[col].dtype == 'object':\n",
        "      df[col] = df[col].astype('category')\n",
        "    elif df[col].dtype == 'int64':\n",
        "      df[col] = df[col].astype('int32')\n",
        "  return df"
      ],
      "metadata": {
        "id": "LvC7YtuqnzyO"
      },
      "execution_count": null,
      "outputs": []
    },
    {
      "cell_type": "code",
      "source": [
        "df1 = improve_cats(df)"
      ],
      "metadata": {
        "id": "YAMHUDkT2uFd"
      },
      "execution_count": null,
      "outputs": []
    },
    {
      "cell_type": "markdown",
      "source": [
        "##Check for NaNs"
      ],
      "metadata": {
        "id": "C01YOiqVopF0"
      }
    },
    {
      "cell_type": "code",
      "source": [
        "for col in df.columns:\n",
        "  print(f'{col}: {df1[col].isna().sum()}')"
      ],
      "metadata": {
        "colab": {
          "base_uri": "https://localhost:8080/"
        },
        "id": "uIF2Uk2ooQv2",
        "outputId": "891badda-fc3f-40aa-c5a1-ea0670d993f0"
      },
      "execution_count": null,
      "outputs": [
        {
          "output_type": "stream",
          "name": "stdout",
          "text": [
            "age: 0\n",
            "job: 0\n",
            "marital: 0\n",
            "education: 0\n",
            "default: 0\n",
            "balance: 0\n",
            "housing: 0\n",
            "loan: 0\n",
            "contact: 0\n",
            "day: 0\n",
            "month: 0\n",
            "duration: 0\n",
            "campaign: 0\n",
            "pdays: 0\n",
            "previous: 0\n",
            "poutcome: 0\n",
            "y: 0\n"
          ]
        }
      ]
    },
    {
      "cell_type": "markdown",
      "source": [
        "##Check duplicates"
      ],
      "metadata": {
        "id": "muNrx11Boru0"
      }
    },
    {
      "cell_type": "code",
      "source": [
        "print(f\"Num of duplicates: {df1.duplicated().sum()}\")"
      ],
      "metadata": {
        "colab": {
          "base_uri": "https://localhost:8080/"
        },
        "id": "Xgh3ag89ojhc",
        "outputId": "a92be189-b8c4-4502-95fc-22d981d2ee12"
      },
      "execution_count": null,
      "outputs": [
        {
          "output_type": "stream",
          "name": "stdout",
          "text": [
            "Num of duplicates: 0\n"
          ]
        }
      ]
    },
    {
      "cell_type": "markdown",
      "source": [
        "##Create dataset and target"
      ],
      "metadata": {
        "id": "q3dsPGd7pOe7"
      }
    },
    {
      "cell_type": "code",
      "source": [
        "X = df1.drop(columns = ['y']).copy()\n",
        "target = df1['y'].copy()"
      ],
      "metadata": {
        "id": "FjEl0KK9pBz7"
      },
      "execution_count": null,
      "outputs": []
    },
    {
      "cell_type": "markdown",
      "source": [
        "#Encode by binarizing data"
      ],
      "metadata": {
        "id": "6Oqzi4klo90b"
      }
    },
    {
      "cell_type": "code",
      "source": [
        "target = LabelBinarizer().fit_transform(target).ravel()"
      ],
      "metadata": {
        "id": "TDlBkt7rpX3S"
      },
      "execution_count": null,
      "outputs": []
    },
    {
      "cell_type": "code",
      "source": [
        "pd.Series(target).describe()"
      ],
      "metadata": {
        "colab": {
          "base_uri": "https://localhost:8080/"
        },
        "id": "a6Be-lZEpkoK",
        "outputId": "9ec1fa04-c488-4c24-92c1-23c3616e689c"
      },
      "execution_count": null,
      "outputs": [
        {
          "output_type": "execute_result",
          "data": {
            "text/plain": [
              "count    4521.000000\n",
              "mean        0.115240\n",
              "std         0.319347\n",
              "min         0.000000\n",
              "25%         0.000000\n",
              "50%         0.000000\n",
              "75%         0.000000\n",
              "max         1.000000\n",
              "dtype: float64"
            ]
          },
          "metadata": {},
          "execution_count": 12
        }
      ]
    },
    {
      "cell_type": "markdown",
      "source": [
        "Looks like data is unbalanced"
      ],
      "metadata": {
        "id": "ob3zkg2opsdt"
      }
    },
    {
      "cell_type": "code",
      "source": [
        "pd.Series(target).hist()"
      ],
      "metadata": {
        "colab": {
          "base_uri": "https://localhost:8080/",
          "height": 447
        },
        "id": "jd6YzSznp4XO",
        "outputId": "e7ac2e57-2681-4ff1-de23-d21899c8c95f"
      },
      "execution_count": null,
      "outputs": [
        {
          "output_type": "execute_result",
          "data": {
            "text/plain": [
              "<Axes: >"
            ]
          },
          "metadata": {},
          "execution_count": 13
        },
        {
          "output_type": "display_data",
          "data": {
            "text/plain": [
              "<Figure size 640x480 with 1 Axes>"
            ],
            "image/png": "[encoded data removed]"
          },
          "metadata": {}
        }
      ]
    },
    {
      "cell_type": "markdown",
      "source": [
        "## Encode the resot of the data using OHE   "
      ],
      "metadata": {
        "id": "EChtn-l1qhMf"
      }
    },
    {
      "cell_type": "code",
      "source": [
        "for col in [n for n in X.columns if X[n].dtype in ['category', 'object']]:\n",
        "  print(col, X[col].unique())\n",
        "  print()"
      ],
      "metadata": {
        "colab": {
          "base_uri": "https://localhost:8080/"
        },
        "id": "tRXsSA1SqfCB",
        "outputId": "8f9a6672-ccd0-42ce-e45b-257d91a23de5"
      },
      "execution_count": null,
      "outputs": [
        {
          "output_type": "stream",
          "name": "stdout",
          "text": [
            "job ['unemployed', 'services', 'management', 'blue-collar', 'self-employed', ..., 'admin.', 'student', 'housemaid', 'retired', 'unknown']\n",
            "Length: 12\n",
            "Categories (12, object): ['admin.', 'blue-collar', 'entrepreneur', 'housemaid', ..., 'student',\n",
            "                          'technician', 'unemployed', 'unknown']\n",
            "\n",
            "marital ['married', 'single', 'divorced']\n",
            "Categories (3, object): ['divorced', 'married', 'single']\n",
            "\n",
            "education ['primary', 'secondary', 'tertiary', 'unknown']\n",
            "Categories (4, object): ['primary', 'secondary', 'tertiary', 'unknown']\n",
            "\n",
            "default ['no', 'yes']\n",
            "Categories (2, object): ['no', 'yes']\n",
            "\n",
            "housing ['no', 'yes']\n",
            "Categories (2, object): ['no', 'yes']\n",
            "\n",
            "loan ['no', 'yes']\n",
            "Categories (2, object): ['no', 'yes']\n",
            "\n",
            "contact ['cellular', 'unknown', 'telephone']\n",
            "Categories (3, object): ['cellular', 'telephone', 'unknown']\n",
            "\n",
            "month ['oct', 'may', 'apr', 'jun', 'feb', ..., 'jul', 'nov', 'sep', 'mar', 'dec']\n",
            "Length: 12\n",
            "Categories (12, object): ['apr', 'aug', 'dec', 'feb', ..., 'may', 'nov', 'oct', 'sep']\n",
            "\n",
            "poutcome ['unknown', 'failure', 'other', 'success']\n",
            "Categories (4, object): ['failure', 'other', 'success', 'unknown']\n",
            "\n"
          ]
        }
      ]
    },
    {
      "cell_type": "markdown",
      "source": [
        "Let's map values for months"
      ],
      "metadata": {
        "id": "s6yc2noJsiij"
      }
    },
    {
      "cell_type": "code",
      "source": [
        "mapping = {'jan': 1, 'feb': 2, 'mar': 3, 'apr': 4, 'may': 5, 'jun': 6, 'jul': 7, 'aug': 8, 'sep': 9, 'oct': 10, 'nov': 11, 'dec': 12}\n",
        "X['month'] = X['month'].map(mapping).astype('int32')\n",
        "X['month']"
      ],
      "metadata": {
        "colab": {
          "base_uri": "https://localhost:8080/"
        },
        "id": "n8-yEtj2rm9t",
        "outputId": "1a8e8951-7e68-49fa-a4a0-cd9771e3275c"
      },
      "execution_count": null,
      "outputs": [
        {
          "output_type": "execute_result",
          "data": {
            "text/plain": [
              "0       10\n",
              "1        5\n",
              "2        4\n",
              "3        6\n",
              "4        5\n",
              "        ..\n",
              "4516     7\n",
              "4517     5\n",
              "4518     8\n",
              "4519     2\n",
              "4520     4\n",
              "Name: month, Length: 4521, dtype: int32"
            ]
          },
          "metadata": {},
          "execution_count": 15
        }
      ]
    },
    {
      "cell_type": "markdown",
      "source": [
        "###Binarize X binary vals"
      ],
      "metadata": {
        "id": "trbK_eJ_t4oR"
      }
    },
    {
      "cell_type": "code",
      "source": [
        "for col in ['default', 'loan', 'housing']:\n",
        "  X[col] = LabelBinarizer().fit_transform(X[col])"
      ],
      "metadata": {
        "id": "FfT-hghhsh-W"
      },
      "execution_count": null,
      "outputs": []
    },
    {
      "cell_type": "code",
      "source": [
        "[x for x in X.columns if X[x].dtype in ['category', 'object']]"
      ],
      "metadata": {
        "colab": {
          "base_uri": "https://localhost:8080/"
        },
        "id": "xkggI1Gft34N",
        "outputId": "4aab4fd9-a2df-4e8b-b8c6-b4af3f2b3343"
      },
      "execution_count": null,
      "outputs": [
        {
          "output_type": "execute_result",
          "data": {
            "text/plain": [
              "['job', 'marital', 'education', 'contact', 'poutcome']"
            ]
          },
          "metadata": {},
          "execution_count": 17
        }
      ]
    },
    {
      "cell_type": "code",
      "source": [
        "X['job'] = LabelEncoder().fit_transform(X['job']).astype('int32')"
      ],
      "metadata": {
        "id": "p6pl2NwPwJfM"
      },
      "execution_count": null,
      "outputs": []
    },
    {
      "cell_type": "code",
      "source": [
        "X = pd.get_dummies(X)"
      ],
      "metadata": {
        "id": "UUqIH6AQuLsz"
      },
      "execution_count": null,
      "outputs": []
    },
    {
      "cell_type": "code",
      "source": [
        "X.info()"
      ],
      "metadata": {
        "colab": {
          "base_uri": "https://localhost:8080/"
        },
        "id": "xjo_1ulrtXqg",
        "outputId": "1602cabe-a1c3-4b77-d719-c765e623e4d4"
      },
      "execution_count": null,
      "outputs": [
        {
          "output_type": "stream",
          "name": "stdout",
          "text": [
            "<class 'pandas.core.frame.DataFrame'>\n",
            "RangeIndex: 4521 entries, 0 to 4520\n",
            "Data columns (total 26 columns):\n",
            " #   Column               Non-Null Count  Dtype\n",
            "---  ------               --------------  -----\n",
            " 0   age                  4521 non-null   int32\n",
            " 1   job                  4521 non-null   int32\n",
            " 2   default              4521 non-null   int64\n",
            " 3   balance              4521 non-null   int32\n",
            " 4   housing              4521 non-null   int64\n",
            " 5   loan                 4521 non-null   int64\n",
            " 6   day                  4521 non-null   int32\n",
            " 7   month                4521 non-null   int32\n",
            " 8   duration             4521 non-null   int32\n",
            " 9   campaign             4521 non-null   int32\n",
            " 10  pdays                4521 non-null   int32\n",
            " 11  previous             4521 non-null   int32\n",
            " 12  marital_divorced     4521 non-null   uint8\n",
            " 13  marital_married      4521 non-null   uint8\n",
            " 14  marital_single       4521 non-null   uint8\n",
            " 15  education_primary    4521 non-null   uint8\n",
            " 16  education_secondary  4521 non-null   uint8\n",
            " 17  education_tertiary   4521 non-null   uint8\n",
            " 18  education_unknown    4521 non-null   uint8\n",
            " 19  contact_cellular     4521 non-null   uint8\n",
            " 20  contact_telephone    4521 non-null   uint8\n",
            " 21  contact_unknown      4521 non-null   uint8\n",
            " 22  poutcome_failure     4521 non-null   uint8\n",
            " 23  poutcome_other       4521 non-null   uint8\n",
            " 24  poutcome_success     4521 non-null   uint8\n",
            " 25  poutcome_unknown     4521 non-null   uint8\n",
            "dtypes: int32(9), int64(3), uint8(14)\n",
            "memory usage: 326.8 KB\n"
          ]
        }
      ]
    },
    {
      "cell_type": "markdown",
      "source": [
        "#Split model"
      ],
      "metadata": {
        "id": "LvpwDQY5xh8V"
      }
    },
    {
      "cell_type": "code",
      "source": [
        "def print_score(y, y_pred, name = 'Train'):\n",
        "  print(name+' accuracy: ', accuracy_score(y, y_pred > 0.2))\n",
        "  print(name+' precision: ', precision_score(y, y_pred > 0.2))\n",
        "  print(name+' recall: ', recall_score(y, y_pred > 0.2))\n",
        "  print(name+' F measure: ', f1_score(y, y_pred > 0.2))\n",
        "  print(name+' ROC-AUC: ', roc_auc_score(y, y_pred))\n",
        "  print()"
      ],
      "metadata": {
        "id": "39c-69WIv6vR"
      },
      "execution_count": null,
      "outputs": []
    },
    {
      "cell_type": "code",
      "source": [
        "def prepare_data(df):\n",
        "  df = improve_cats(df).copy()\n",
        "  df['y'] = LabelBinarizer().fit_transform(df['y'])\n",
        "\n",
        "  mapping = {'jan': 1, 'feb': 2, 'mar': 3, 'apr': 4, 'may': 5, 'jun': 6, 'jul': 7, 'aug': 8, 'sep': 9, 'oct': 10, 'nov': 11, 'dec': 12}\n",
        "  df['month'] = df['month'].map(mapping).astype('int32')\n",
        "\n",
        "  for col in ['default', 'loan', 'housing']:\n",
        "    df[col] = LabelBinarizer().fit_transform(df[col])\n",
        "\n",
        "  df['job'] = LabelEncoder().fit_transform(df['job']).astype('int32')\n",
        "  df = pd.get_dummies(df)\n",
        "  return train_test_split(df.drop(columns=['y']), df['y'], test_size=0.2, stratify = df['y'], random_state=42)"
      ],
      "metadata": {
        "id": "6ki6Pswa2jA8"
      },
      "execution_count": null,
      "outputs": []
    },
    {
      "cell_type": "markdown",
      "source": [
        "#Run model and predict values"
      ],
      "metadata": {
        "id": "YopchPqaxfQN"
      }
    },
    {
      "cell_type": "code",
      "source": [
        "def run_test_model(model, df):\n",
        "  X_train, X_test, y_train, y_test = prepare_data(df)\n",
        "  model.fit(X_train, y_train)\n",
        "  y_pred_train = model.predict(X_train)\n",
        "  print_score(y_train, y_pred_train)\n",
        "  y_pred_test = model.predict(X_test)\n",
        "  print_score(y_test, y_pred_test, 'Test')"
      ],
      "metadata": {
        "id": "n3UrIozmuyJ4"
      },
      "execution_count": null,
      "outputs": []
    },
    {
      "cell_type": "code",
      "source": [
        "models = [LinearRegression(), RidgeClassifier(), KNeighborsClassifier(n_neighbors=4), svm.SVC(class_weight='balanced'), GaussianNB()]\n",
        "names = ['linear', 'Ridge', 'KNN', 'SVM', 'Naive Bayes']\n",
        "for n in range(len(models)):\n",
        "  print(names[n])\n",
        "  run_test_model(models[n], df)\n",
        "  print()"
      ],
      "metadata": {
        "colab": {
          "base_uri": "https://localhost:8080/"
        },
        "id": "W6bCGLezxlZN",
        "outputId": "9f023797-242a-46c8-90ec-80b5a09638b0"
      },
      "execution_count": null,
      "outputs": [
        {
          "output_type": "stream",
          "name": "stdout",
          "text": [
            "linear\n",
            "Train accuracy:  0.8537057522123894\n",
            "Train precision:  0.4161676646706587\n",
            "Train recall:  0.6666666666666666\n",
            "Train F measure:  0.5124423963133641\n",
            "Train ROC-AUC:  0.8828403360462614\n",
            "\n",
            "Test accuracy:  0.8486187845303867\n",
            "Test precision:  0.40350877192982454\n",
            "Test recall:  0.6634615384615384\n",
            "Test F measure:  0.5018181818181818\n",
            "Test ROC-AUC:  0.867893498511476\n",
            "\n",
            "\n",
            "Ridge\n",
            "Train accuracy:  0.8979535398230089\n",
            "Train precision:  0.65\n",
            "Train recall:  0.24940047961630696\n",
            "Train F measure:  0.36048526863084923\n",
            "Train ROC-AUC:  0.6159475045783942\n",
            "\n",
            "Test accuracy:  0.8950276243093923\n",
            "Test precision:  0.6\n",
            "Test recall:  0.25961538461538464\n",
            "Test F measure:  0.3624161073825503\n",
            "Test ROC-AUC:  0.6185717372515125\n",
            "\n",
            "\n",
            "KNN\n",
            "Train accuracy:  0.9068030973451328\n",
            "Train precision:  0.8076923076923077\n",
            "Train recall:  0.2517985611510791\n",
            "Train F measure:  0.38391224862888484\n",
            "Train ROC-AUC:  0.6219918094908256\n",
            "\n",
            "Test accuracy:  0.8828729281767956\n",
            "Test precision:  0.46875\n",
            "Test recall:  0.14423076923076922\n",
            "Test F measure:  0.22058823529411767\n",
            "Test ROC-AUC:  0.561503649284548\n",
            "\n",
            "\n",
            "SVM\n",
            "Train accuracy:  0.7735066371681416\n",
            "Train precision:  0.2965587044534413\n",
            "Train recall:  0.7026378896882494\n",
            "Train F measure:  0.4170818505338078\n",
            "Train ROC-AUC:  0.7426912486890762\n",
            "\n",
            "Test accuracy:  0.7701657458563536\n",
            "Test precision:  0.2886178861788618\n",
            "Test recall:  0.6826923076923077\n",
            "Test F measure:  0.4057142857142858\n",
            "Test ROC-AUC:  0.7321077019110727\n",
            "\n",
            "\n",
            "Naive Bayes\n",
            "Train accuracy:  0.839325221238938\n",
            "Train precision:  0.3540925266903915\n",
            "Train recall:  0.47721822541966424\n",
            "Train F measure:  0.4065372829417773\n",
            "Train ROC-AUC:  0.6818726325597851\n",
            "\n",
            "Test accuracy:  0.8364640883977901\n",
            "Test precision:  0.3358208955223881\n",
            "Test recall:  0.4326923076923077\n",
            "Test F measure:  0.3781512605042017\n",
            "Test ROC-AUC:  0.6607905982905983\n",
            "\n",
            "\n"
          ]
        }
      ]
    },
    {
      "cell_type": "markdown",
      "source": [
        "So we have encoded the data with different encoder and run different models.\n",
        "We can see low precision, recall and (makes sense) F score.\n",
        "Since data is unbalanced (even though we tried to stratify) we got lots of False positives (precision is the lowest). Low recall means models weren't able to detect many true positive cases. For F measure Linear regression performed the best.\n"
      ],
      "metadata": {
        "id": "FHiSF6Sd2ZK6"
      }
    }
  ]
}