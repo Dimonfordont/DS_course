{
  "nbformat": 4,
  "nbformat_minor": 0,
  "metadata": {
    "colab": {
      "provenance": [],
      "authorship_tag": "ABX9TyOwRwoDIxv6ssvC+60wDpPw",
      "include_colab_link": true
    },
    "kernelspec": {
      "name": "python3",
      "display_name": "Python 3"
    },
    "language_info": {
      "name": "python"
    }
  },
  "cells": [
    {
      "cell_type": "markdown",
      "metadata": {
        "id": "view-in-github",
        "colab_type": "text"
      },
      "source": [
        "<a href=\"https://colab.research.google.com/github/Dimonfordont/DS_course/blob/main/Basics/Python/python_basics.ipynb\" target=\"_parent\"><img src=\"https://colab.research.google.com/assets/colab-badge.svg\" alt=\"Open In Colab\"/></a>"
      ]
    },
    {
      "cell_type": "markdown",
      "source": [
        "# Питон основы\n",
        "\n",
        "Питон - язык, весьма похожий на псевдокод и писать на нем - одно удовольствие."
      ],
      "metadata": {
        "id": "-SW4slJ3ui6o"
      }
    },
    {
      "cell_type": "markdown",
      "source": [
        "## Начнем с определения переменных"
      ],
      "metadata": {
        "id": "O6hlhxtGuwyz"
      }
    },
    {
      "cell_type": "code",
      "execution_count": null,
      "metadata": {
        "id": "JWtrxtRraia_"
      },
      "outputs": [],
      "source": [
        "var = 1\n",
        "my_var = 1"
      ]
    },
    {
      "cell_type": "markdown",
      "source": [
        "Согласно стандартам написания кода (Python Enhancement Proposal - PEP), переменные должны быть дескриптивны (описывать что они в себе несут). Код читают чаще чем пишут, следовательно он должен быть понятен.\n",
        "\n",
        "Так же существует другие правила написания кода (подробнее  [PEP8](https://pythonworld.ru/osnovy/pep-8-rukovodstvo-po-napisaniyu-koda-na-python.html))"
      ],
      "metadata": {
        "id": "c2CvCwmDvAhu"
      }
    },
    {
      "cell_type": "code",
      "source": [
        "a = 1            # not ok (что значит \"а\"?)\n",
        "animals = 1      # ok\n",
        "zoo_animals = 2  # ok\n",
        "ZooAnimals = 3   # not ok (для классов)\n",
        "ZOO_ANIMALS = 4  # not ok (для глобальных переменных)"
      ],
      "metadata": {
        "id": "c-UL7_jOvhgz"
      },
      "execution_count": null,
      "outputs": []
    },
    {
      "cell_type": "markdown",
      "source": [
        "Определим переменные zoo, monkeys, foxes"
      ],
      "metadata": {
        "id": "wQzpHu5jwjSn"
      }
    },
    {
      "cell_type": "code",
      "source": [
        "zoo =         # пусть будет 1\n",
        "monkeys       # пусть будет 2\n",
        "              # пусть будет 3"
      ],
      "metadata": {
        "id": "OxM9Is9KxG_d"
      },
      "execution_count": null,
      "outputs": []
    },
    {
      "cell_type": "markdown",
      "source": [
        "### Прежде чем идти дальше вы выучим одну важну функцию - print что позволит нам выводить результат на экран"
      ],
      "metadata": {
        "id": "uW0pz2H28wZI"
      }
    },
    {
      "cell_type": "markdown",
      "source": [
        "Вызываем мы ее с помощью слова print() и скобочек, поместив внутрь то что хотим видеть в выводе"
      ],
      "metadata": {
        "id": "en_Yqn9w9SRc"
      }
    },
    {
      "cell_type": "code",
      "source": [
        "print(1)\n",
        "print('привет')\n",
        "print(animals)\n",
        "print(100, 'привет', zoo_animals, '你好')"
      ],
      "metadata": {
        "colab": {
          "base_uri": "https://localhost:8080/"
        },
        "id": "rChPLhHC83uW",
        "outputId": "285d8a4b-8dfb-43d3-bb23-0e49cb1b4cb9"
      },
      "execution_count": null,
      "outputs": [
        {
          "output_type": "stream",
          "name": "stdout",
          "text": [
            "1\n",
            "привет\n",
            "1\n",
            "100 привет 2 你好\n"
          ]
        }
      ]
    },
    {
      "cell_type": "markdown",
      "source": [
        "## Типы данных"
      ],
      "metadata": {
        "id": "XBmA6LkaxbRD"
      }
    },
    {
      "cell_type": "markdown",
      "source": [
        "Пайтон - язык с динамической типизацией и специально задавать что за тип данных в переменной нет необходимости, но при этом существую разные типы данных и ведут они себя тоже по-разному."
      ],
      "metadata": {
        "id": "RN7UJAaOwUEs"
      }
    },
    {
      "cell_type": "markdown",
      "source": [
        "### Bool"
      ],
      "metadata": {
        "id": "QMqfiZahPKB-"
      }
    },
    {
      "cell_type": "markdown",
      "source": [
        "Булевые переменные принимают значение Да\\нет, а точнее 0\\1 или True\\False\n",
        "\n",
        "Часто можно использовать как флаг-индикатор чего либо"
      ],
      "metadata": {
        "id": "3D7Q8NJ9PNPL"
      }
    },
    {
      "cell_type": "code",
      "source": [
        "is_active = True"
      ],
      "metadata": {
        "id": "lVSY2LU7PMrC"
      },
      "execution_count": null,
      "outputs": []
    },
    {
      "cell_type": "markdown",
      "source": [
        "Отрицание **not** меняет булевое значение на противоположное"
      ],
      "metadata": {
        "id": "fCAIEy8A2D9t"
      }
    },
    {
      "cell_type": "code",
      "source": [
        "print(is_active)\n",
        "print(not is_active)"
      ],
      "metadata": {
        "colab": {
          "base_uri": "https://localhost:8080/"
        },
        "id": "lfvaN0Ic2Ii9",
        "outputId": "ef1fea9d-d644-4c62-c5f6-a032203d49f1"
      },
      "execution_count": null,
      "outputs": [
        {
          "output_type": "stream",
          "name": "stdout",
          "text": [
            "True\n",
            "False\n"
          ]
        }
      ]
    },
    {
      "cell_type": "markdown",
      "source": [
        "### Мы уже познакомились с **целочисленным** типом данных **int**"
      ],
      "metadata": {
        "id": "uprE0GTMxlzv"
      }
    },
    {
      "cell_type": "markdown",
      "source": [
        "Int - неизменяемый тип данных, это значит что когда мы совершаем над ним какую-то операцию и перезаписываем переменную, где-то в глубине оперативной памяти меняется ссылка на другое число (раньше переменная Х указывала на 1, а теперь на 2)"
      ],
      "metadata": {
        "id": "vF2mPLVIx-db"
      }
    },
    {
      "cell_type": "code",
      "source": [
        "animals = 1\n",
        "print(id(animals))  #id указывает на адрес в памяти"
      ],
      "metadata": {
        "colab": {
          "base_uri": "https://localhost:8080/"
        },
        "id": "FPcKNX8jxr73",
        "outputId": "6552a83b-7c88-49fd-f41a-086e3eadea52"
      },
      "execution_count": null,
      "outputs": [
        {
          "output_type": "stream",
          "name": "stdout",
          "text": [
            "136814706049264\n"
          ]
        }
      ]
    },
    {
      "cell_type": "markdown",
      "source": [
        "Переопределим переменную"
      ],
      "metadata": {
        "id": "jZ_7-csCzEtd"
      }
    },
    {
      "cell_type": "code",
      "source": [
        "animals = 2\n",
        "id(animals)  #id указывает на адрес в памяти"
      ],
      "metadata": {
        "colab": {
          "base_uri": "https://localhost:8080/"
        },
        "id": "J7Uz_zxcy-Du",
        "outputId": "00ae36ed-1ac1-40fc-d941-72a3e3c2d6a9"
      },
      "execution_count": null,
      "outputs": [
        {
          "output_type": "stream",
          "name": "stdout",
          "text": [
            "136814706049296\n"
          ]
        }
      ]
    },
    {
      "cell_type": "markdown",
      "source": [
        "Переопределим переменную еще раз на ту, что была в самом начале"
      ],
      "metadata": {
        "id": "tJar4CMWzH_3"
      }
    },
    {
      "cell_type": "code",
      "source": [
        "animals = 1\n",
        "id(animals)  #id указывает на адрес в памяти"
      ],
      "metadata": {
        "colab": {
          "base_uri": "https://localhost:8080/"
        },
        "id": "2vNLLXHey73Z",
        "outputId": "4bf7128b-e6f4-4c17-acf9-a98d55544015"
      },
      "execution_count": null,
      "outputs": [
        {
          "output_type": "stream",
          "name": "stdout",
          "text": [
            "136814706049264\n"
          ]
        }
      ]
    },
    {
      "cell_type": "markdown",
      "source": [
        "Как видим, при переопределении переменных меняются ссылки на адрес в памяти."
      ],
      "metadata": {
        "id": "CuKsfYCvzR2J"
      }
    },
    {
      "cell_type": "markdown",
      "source": [
        "#### Мы можем выполнять различные операции с этим типом данных.\n",
        "Сложение"
      ],
      "metadata": {
        "id": "HahpumeIx1N9"
      }
    },
    {
      "cell_type": "code",
      "source": [
        "monkeys = 1\n",
        "monkeys = monkeys + 1        # теперь monkeys = 2\n",
        "monkeys = monkeys + monkeys  # 2+2=4\n",
        "monkeys += 10                # 4+10\n",
        "monkeys"
      ],
      "metadata": {
        "colab": {
          "base_uri": "https://localhost:8080/"
        },
        "id": "pDBBcukSzkpz",
        "outputId": "3036633a-7456-40a7-cb2c-210a2fbfe175"
      },
      "execution_count": null,
      "outputs": [
        {
          "output_type": "execute_result",
          "data": {
            "text/plain": [
              "14"
            ]
          },
          "metadata": {},
          "execution_count": 8
        }
      ]
    },
    {
      "cell_type": "markdown",
      "source": [
        "Вычитание"
      ],
      "metadata": {
        "id": "v4EwSwkl0Tun"
      }
    },
    {
      "cell_type": "code",
      "source": [
        "items_in_bag = 14\n",
        "boxes = 5\n",
        "coins = 5\n",
        "\n",
        "items_in_bag = items_in_bag - coins  # то же самое что сделать items_in_bag -= coins\n",
        " #мы переопределили переменную и теперь items in bag = 9  (14-5)\n",
        "\n",
        " #мы можем создавать переменные используя другие, они от этого не меняются\n",
        "items_lost = items_in_bag - boxes\n",
        "\n",
        "items_lost # 9 - 5"
      ],
      "metadata": {
        "colab": {
          "base_uri": "https://localhost:8080/"
        },
        "id": "SUCgL9Jkzv1M",
        "outputId": "8aa9a3e9-c916-4990-baa1-2193d828b3d0"
      },
      "execution_count": null,
      "outputs": [
        {
          "output_type": "execute_result",
          "data": {
            "text/plain": [
              "4"
            ]
          },
          "metadata": {},
          "execution_count": 9
        }
      ]
    },
    {
      "cell_type": "markdown",
      "source": [
        "Умножение и деление\n",
        "\n",
        " \"*\" уможение\n",
        "\n",
        "/ - деление\n",
        "\n",
        "// - целочисленное деление с округлением вниз"
      ],
      "metadata": {
        "id": "-TldmaxP1noN"
      }
    },
    {
      "cell_type": "code",
      "source": [
        "beauty = 2\n",
        "luck = 3\n",
        "\n",
        "fame = beauty * luck  # 2 * 3\n",
        "cringe = fame // 2 # делим на 2"
      ],
      "metadata": {
        "colab": {
          "base_uri": "https://localhost:8080/"
        },
        "id": "EdBRKmA21pW6",
        "outputId": "39593910-1bcb-4d29-b72c-cd3e8408d6fb"
      },
      "execution_count": null,
      "outputs": [
        {
          "output_type": "execute_result",
          "data": {
            "text/plain": [
              "3"
            ]
          },
          "metadata": {},
          "execution_count": 11
        }
      ]
    },
    {
      "cell_type": "markdown",
      "source": [
        "Степень"
      ],
      "metadata": {
        "id": "33g0pCIYMRM6"
      }
    },
    {
      "cell_type": "code",
      "source": [
        "x = 5\n",
        "x**3 #x в степени 3"
      ],
      "metadata": {
        "colab": {
          "base_uri": "https://localhost:8080/"
        },
        "id": "8TliNKBvMUSm",
        "outputId": "c9ed123e-29da-4be0-ae96-189689529749"
      },
      "execution_count": null,
      "outputs": [
        {
          "output_type": "execute_result",
          "data": {
            "text/plain": [
              "125"
            ]
          },
          "metadata": {},
          "execution_count": 137
        }
      ]
    },
    {
      "cell_type": "code",
      "source": [
        "x**=4   # 125\n",
        "x**0.5 # корень"
      ],
      "metadata": {
        "colab": {
          "base_uri": "https://localhost:8080/"
        },
        "id": "4NJ5fYz7Mcfl",
        "outputId": "6889d9aa-162d-4dbd-a397-1f707cd8a791"
      },
      "execution_count": null,
      "outputs": [
        {
          "output_type": "execute_result",
          "data": {
            "text/plain": [
              "25.0"
            ]
          },
          "metadata": {},
          "execution_count": 138
        }
      ]
    },
    {
      "cell_type": "markdown",
      "source": [
        "Порядок операций осуществляется как в математике, включая скобки"
      ],
      "metadata": {
        "id": "thkcWDo92YIO"
      }
    },
    {
      "cell_type": "code",
      "source": [
        "seven = 1 + 2 * 3     # 7\n",
        "nine = (1 + 2) * 3    # 9"
      ],
      "metadata": {
        "id": "yls1RtlA2dUa"
      },
      "execution_count": null,
      "outputs": []
    },
    {
      "cell_type": "markdown",
      "source": [
        "% - остаток от деления"
      ],
      "metadata": {
        "id": "eo2750zp2wAY"
      }
    },
    {
      "cell_type": "code",
      "source": [
        "10 % 3 # три входит в десятку три раза и у нас остается еще единица"
      ],
      "metadata": {
        "colab": {
          "base_uri": "https://localhost:8080/"
        },
        "id": "-KHTrqi83AoP",
        "outputId": "d116237e-8747-4120-8475-88d355e55b6a"
      },
      "execution_count": null,
      "outputs": [
        {
          "output_type": "execute_result",
          "data": {
            "text/plain": [
              "1"
            ]
          },
          "metadata": {},
          "execution_count": 15
        }
      ]
    },
    {
      "cell_type": "markdown",
      "source": [
        "Мы можем сравнивать разные числа с помощью равно \"==\" и не равно \"!=\""
      ],
      "metadata": {
        "id": "ipklsjjg2_3Q"
      }
    },
    {
      "cell_type": "code",
      "source": [
        "price_car_1 = 2000\n",
        "price_car_2 = 3000\n",
        "price_car_3 = 2000\n",
        "\n",
        "result = price_car_1 == price_car_2 # проверяем равны ли цены двух машин\n",
        "result"
      ],
      "metadata": {
        "colab": {
          "base_uri": "https://localhost:8080/"
        },
        "id": "c-q0PvDl3PKI",
        "outputId": "623abebb-ff64-44b1-d70b-c1df13062c9b"
      },
      "execution_count": null,
      "outputs": [
        {
          "output_type": "execute_result",
          "data": {
            "text/plain": [
              "False"
            ]
          },
          "metadata": {},
          "execution_count": 20
        }
      ]
    },
    {
      "cell_type": "code",
      "source": [
        "result = price_car_2 != price_car_3 # проверяем НЕ равны ли цены двух машин\n",
        "result"
      ],
      "metadata": {
        "colab": {
          "base_uri": "https://localhost:8080/"
        },
        "id": "D30eFiaP3xwG",
        "outputId": "15a60c44-e425-4516-868b-751a885d99e8"
      },
      "execution_count": null,
      "outputs": [
        {
          "output_type": "execute_result",
          "data": {
            "text/plain": [
              "True"
            ]
          },
          "metadata": {},
          "execution_count": 18
        }
      ]
    },
    {
      "cell_type": "markdown",
      "source": [
        "При этом равенство не значит что это один и тот же объект"
      ],
      "metadata": {
        "id": "iKAfZokF4DcE"
      }
    },
    {
      "cell_type": "code",
      "source": [
        "price_car_1 == price_car_3"
      ],
      "metadata": {
        "colab": {
          "base_uri": "https://localhost:8080/"
        },
        "id": "muQRhv8v4bfh",
        "outputId": "20b8200d-ae25-4b24-d5a5-fe4df42a49ef"
      },
      "execution_count": null,
      "outputs": [
        {
          "output_type": "execute_result",
          "data": {
            "text/plain": [
              "True"
            ]
          },
          "metadata": {},
          "execution_count": 23
        }
      ]
    },
    {
      "cell_type": "code",
      "source": [
        "id(price_car_1) == id(price_car_3)"
      ],
      "metadata": {
        "colab": {
          "base_uri": "https://localhost:8080/"
        },
        "id": "Y4JawjQ14FCi",
        "outputId": "2b19b5bc-651a-4f58-af08-24c091c2a9a3"
      },
      "execution_count": null,
      "outputs": [
        {
          "output_type": "execute_result",
          "data": {
            "text/plain": [
              "False"
            ]
          },
          "metadata": {},
          "execution_count": 21
        }
      ]
    },
    {
      "cell_type": "code",
      "source": [
        "price_car_1 is price_car_3   # is - проверяет один и тот же ли это объект"
      ],
      "metadata": {
        "colab": {
          "base_uri": "https://localhost:8080/"
        },
        "id": "xPs1KVzT4Wbz",
        "outputId": "d3b37b19-27b7-46f2-fa7e-11bf3e282aac"
      },
      "execution_count": null,
      "outputs": [
        {
          "output_type": "execute_result",
          "data": {
            "text/plain": [
              "False"
            ]
          },
          "metadata": {},
          "execution_count": 22
        }
      ]
    },
    {
      "cell_type": "markdown",
      "source": [
        "Сравнение"
      ],
      "metadata": {
        "id": "1ZHAGmF-UoOj"
      }
    },
    {
      "cell_type": "code",
      "source": [
        "price_car_1 > price_car_2   # знак больше"
      ],
      "metadata": {
        "id": "AN8rrc6gUqOV"
      },
      "execution_count": null,
      "outputs": []
    },
    {
      "cell_type": "code",
      "source": [
        "price_car_1 <= price_car_3  # меньше или равно"
      ],
      "metadata": {
        "id": "xzZmKGVRUuq6"
      },
      "execution_count": null,
      "outputs": []
    },
    {
      "cell_type": "markdown",
      "source": [
        "Перевод в тип данных int делаем с помощью int()"
      ],
      "metadata": {
        "id": "H83hBbRkwd_K"
      }
    },
    {
      "cell_type": "code",
      "source": [
        "print(int('1234'))\n",
        "print(int(1234.5))"
      ],
      "metadata": {
        "colab": {
          "base_uri": "https://localhost:8080/"
        },
        "id": "Y_Am5p1lwkKA",
        "outputId": "ce0f37ee-7211-4f34-d026-8f26917078e2"
      },
      "execution_count": null,
      "outputs": [
        {
          "output_type": "stream",
          "name": "stdout",
          "text": [
            "1234\n",
            "1234\n"
          ]
        }
      ]
    },
    {
      "cell_type": "markdown",
      "source": [
        "### Задания"
      ],
      "metadata": {
        "id": "ArEESz0TtBzn"
      }
    },
    {
      "cell_type": "markdown",
      "source": [
        "Задание 1:\n",
        "Определить переменную mean равную 5 и переменную datapoint равную 7\n",
        "\n",
        "\n"
      ],
      "metadata": {
        "id": "jvqK3ywUr8K1"
      }
    },
    {
      "cell_type": "code",
      "source": [
        "mean =\n",
        "datapoint"
      ],
      "metadata": {
        "id": "Alt8tk3stHp3"
      },
      "execution_count": null,
      "outputs": []
    },
    {
      "cell_type": "markdown",
      "source": [
        "\n",
        "Задание 2:\n",
        "Определить переменную diff и в ней вычесть mean из datapoint"
      ],
      "metadata": {
        "id": "YqCqvhWhtPbn"
      }
    },
    {
      "cell_type": "code",
      "source": [
        "diff"
      ],
      "metadata": {
        "id": "FAwPRA2YtIa_"
      },
      "execution_count": null,
      "outputs": []
    },
    {
      "cell_type": "markdown",
      "source": [
        "Задание 3:\n",
        "Определить переменную squared_diff возведя diff в квадрат"
      ],
      "metadata": {
        "id": "KwgtsgjgtRT7"
      }
    },
    {
      "cell_type": "code",
      "source": [],
      "metadata": {
        "id": "aeaJU5f_tIqJ"
      },
      "execution_count": null,
      "outputs": []
    },
    {
      "cell_type": "markdown",
      "source": [
        "## Float"
      ],
      "metadata": {
        "id": "DF_a5GPw4mfQ"
      }
    },
    {
      "cell_type": "markdown",
      "source": [
        "Число с плавающей точкой. тоже неизменяемый тип данных"
      ],
      "metadata": {
        "id": "Py9RctgT4rKY"
      }
    },
    {
      "cell_type": "code",
      "source": [
        "temperature = 36.6"
      ],
      "metadata": {
        "id": "iKMI5YK24qua"
      },
      "execution_count": null,
      "outputs": []
    },
    {
      "cell_type": "markdown",
      "source": [
        "Операции все те же"
      ],
      "metadata": {
        "id": "sYzZlJ-c4-FN"
      }
    },
    {
      "cell_type": "code",
      "source": [
        "temperature = 36.6 * 2          # будет float\n",
        "temperature =  temperature + 3  # будет float\n",
        "temperature -= 30.5             # будет float\n",
        "\n",
        "\n",
        "temperature = 36.6 / 1.1        # мы использовали / так что float\n",
        "temperature = 60 / 2            # мы использовали / так что float\n",
        "\n",
        "temperature = 36.6 // 5         # а вот тут будет int ибо // делит с округлением"
      ],
      "metadata": {
        "id": "GIIVbP-P49Zq"
      },
      "execution_count": null,
      "outputs": []
    },
    {
      "cell_type": "markdown",
      "source": [
        "Перевод в тип данных float делаем с помощью float()"
      ],
      "metadata": {
        "id": "71yuSQgUwvFH"
      }
    },
    {
      "cell_type": "code",
      "source": [
        "print(float('1234'))\n",
        "print(float(123))"
      ],
      "metadata": {
        "colab": {
          "base_uri": "https://localhost:8080/"
        },
        "id": "XxkqjM5twvg-",
        "outputId": "826e2991-0576-464c-bab5-e0627f2ce500"
      },
      "execution_count": null,
      "outputs": [
        {
          "output_type": "stream",
          "name": "stdout",
          "text": [
            "1234.0\n",
            "123.0\n"
          ]
        }
      ]
    },
    {
      "cell_type": "markdown",
      "source": [
        "### Задания"
      ],
      "metadata": {
        "id": "b5ulTCbRuX-u"
      }
    },
    {
      "cell_type": "markdown",
      "source": [
        "Задание 1:\n",
        "Определить переменную variance в которой поделить squared_diff на 1"
      ],
      "metadata": {
        "id": "FLetOJdGtcwe"
      }
    },
    {
      "cell_type": "code",
      "source": [],
      "metadata": {
        "id": "hMhyp1viubjY"
      },
      "execution_count": null,
      "outputs": []
    },
    {
      "cell_type": "markdown",
      "source": [
        "\n",
        "Задание 2:\n",
        "Переопределить переменную squared_diff и сделать ее равной числу с плавающей точкой 30. Затем переопределить переменную variance в которой поделить squared_diff на 10\n"
      ],
      "metadata": {
        "id": "blpES0NLub4l"
      }
    },
    {
      "cell_type": "code",
      "source": [],
      "metadata": {
        "id": "ZZd25j56ucze"
      },
      "execution_count": null,
      "outputs": []
    },
    {
      "cell_type": "markdown",
      "source": [
        "\n",
        "Задание 3:\n",
        "Определить переменную standard_deviation в которой взять корень из variance"
      ],
      "metadata": {
        "id": "-l9gZW68udhp"
      }
    },
    {
      "cell_type": "code",
      "source": [],
      "metadata": {
        "id": "IJZbE6nvueMD"
      },
      "execution_count": null,
      "outputs": []
    },
    {
      "cell_type": "markdown",
      "source": [
        "## String"
      ],
      "metadata": {
        "id": "SaHVQm3452Sb"
      }
    },
    {
      "cell_type": "markdown",
      "source": [
        "Это символ, пробел, буква, слово, предложение или история или цифра представленная как текст.\n",
        "Для обозначения используются либо одинарные либо двойные кавычки"
      ],
      "metadata": {
        "id": "h1Owg1nd58oS"
      }
    },
    {
      "cell_type": "code",
      "source": [
        "letter = 'a'\n",
        "word = \"banana\"\n",
        "sentence = \"I want a banana\"\n",
        "string_digit = '5'\n",
        "text = \"I had 5 apples. I ate all of them.\""
      ],
      "metadata": {
        "id": "TLE781Eq5751"
      },
      "execution_count": null,
      "outputs": []
    },
    {
      "cell_type": "markdown",
      "source": [
        "Операции с стринг ограничены, но у них есть методы"
      ],
      "metadata": {
        "id": "CsPJM7LC6lbg"
      }
    },
    {
      "cell_type": "code",
      "source": [
        "letter + letter"
      ],
      "metadata": {
        "colab": {
          "base_uri": "https://localhost:8080/",
          "height": 36
        },
        "id": "-LzS8w5n6jJo",
        "outputId": "9cdf81de-596a-4f19-fd4b-c8bba381115a"
      },
      "execution_count": null,
      "outputs": [
        {
          "output_type": "execute_result",
          "data": {
            "text/plain": [
              "'aa'"
            ],
            "application/vnd.google.colaboratory.intrinsic+json": {
              "type": "string"
            }
          },
          "metadata": {},
          "execution_count": 27
        }
      ]
    },
    {
      "cell_type": "code",
      "source": [
        "word + ' apple' * 5"
      ],
      "metadata": {
        "colab": {
          "base_uri": "https://localhost:8080/",
          "height": 36
        },
        "id": "qK72MYAM6x2I",
        "outputId": "bd912469-6c67-4b97-d33f-2c421f25d668"
      },
      "execution_count": null,
      "outputs": [
        {
          "output_type": "execute_result",
          "data": {
            "text/plain": [
              "'banana apple apple apple apple apple'"
            ],
            "application/vnd.google.colaboratory.intrinsic+json": {
              "type": "string"
            }
          },
          "metadata": {},
          "execution_count": 29
        }
      ]
    },
    {
      "cell_type": "code",
      "source": [
        "(word + ' apple') * 5"
      ],
      "metadata": {
        "colab": {
          "base_uri": "https://localhost:8080/",
          "height": 36
        },
        "id": "lpTX-hgZ67CJ",
        "outputId": "ee182ea2-aa76-48f9-f23d-21219a4e3191"
      },
      "execution_count": null,
      "outputs": [
        {
          "output_type": "execute_result",
          "data": {
            "text/plain": [
              "'banana applebanana applebanana applebanana applebanana apple'"
            ],
            "application/vnd.google.colaboratory.intrinsic+json": {
              "type": "string"
            }
          },
          "metadata": {},
          "execution_count": 30
        }
      ]
    },
    {
      "cell_type": "markdown",
      "source": [
        "В тексте мы разбиваем слова пробелами а строки с помощью '\\n'"
      ],
      "metadata": {
        "id": "hUyazAwC6-Zn"
      }
    },
    {
      "cell_type": "code",
      "source": [
        "my_text = \"-Hi!\\n-Hi how are you?\\n-I'm great, thanks\"\n",
        "print(my_text) #обратите внимание что одинарную кавычку получилось использовать лишь потому что весь текст в двойных"
      ],
      "metadata": {
        "colab": {
          "base_uri": "https://localhost:8080/"
        },
        "id": "DsnIyhEU7EpW",
        "outputId": "5fc3e46e-c1c3-4482-fe32-91b4b045cde0"
      },
      "execution_count": null,
      "outputs": [
        {
          "output_type": "stream",
          "name": "stdout",
          "text": [
            "-Hi!\n",
            "-Hi how are you?\n",
            "-I'm great, thanks\n"
          ]
        }
      ]
    },
    {
      "cell_type": "markdown",
      "source": [
        "Особые методы для работы со строками"
      ],
      "metadata": {
        "id": "TCH5kYZG7rue"
      }
    },
    {
      "cell_type": "code",
      "source": [
        "lowered = my_text.lower()   # это пригодится при чистке данных\n",
        "print(lowered)"
      ],
      "metadata": {
        "colab": {
          "base_uri": "https://localhost:8080/"
        },
        "id": "HHecmOrr7yNB",
        "outputId": "dfd292cb-5f6e-447a-ac49-f6151232b76d"
      },
      "execution_count": null,
      "outputs": [
        {
          "output_type": "stream",
          "name": "stdout",
          "text": [
            "-hi!\n",
            "-hi how are you?\n",
            "-i'm great, thanks\n"
          ]
        }
      ]
    },
    {
      "cell_type": "code",
      "source": [
        "my_text.split()     # Тут мы разбиваем текст в список. О списках позже"
      ],
      "metadata": {
        "colab": {
          "base_uri": "https://localhost:8080/"
        },
        "id": "5Qb2d_DD79GP",
        "outputId": "dd438dc3-ea2f-46af-de6f-0a061f24389a"
      },
      "execution_count": null,
      "outputs": [
        {
          "output_type": "execute_result",
          "data": {
            "text/plain": [
              "['-Hi!', '-Hi', 'how', 'are', 'you?', \"-I'm\", 'great,', 'thanks']"
            ]
          },
          "metadata": {},
          "execution_count": 46
        }
      ]
    },
    {
      "cell_type": "code",
      "source": [
        "new_text = my_text.replace('Hi', 'Hello') #позволяет заменить символ или целое слово\n",
        "print(new_text)"
      ],
      "metadata": {
        "colab": {
          "base_uri": "https://localhost:8080/"
        },
        "id": "4HzVQQGtAhnK",
        "outputId": "72517248-4ff8-4adf-cd58-693c7a20586e"
      },
      "execution_count": null,
      "outputs": [
        {
          "output_type": "stream",
          "name": "stdout",
          "text": [
            "-Hello!\n",
            "-Hello how are you?\n",
            "-I'm great, thanks\n"
          ]
        }
      ]
    },
    {
      "cell_type": "code",
      "source": [
        "spaces = '        hi!      '\n",
        "nospaces = spaces.strip()   #убирает пробелы по бокам. есть вариант rstrip и lstrip\n",
        "print(spaces)\n",
        "print(nospaces)"
      ],
      "metadata": {
        "colab": {
          "base_uri": "https://localhost:8080/"
        },
        "id": "7R12vUVBA4_N",
        "outputId": "ef600be4-e5cd-403f-cc41-9eb19c2a460e"
      },
      "execution_count": null,
      "outputs": [
        {
          "output_type": "stream",
          "name": "stdout",
          "text": [
            "        hi!      \n",
            "hi!\n"
          ]
        }
      ]
    },
    {
      "cell_type": "markdown",
      "source": [
        "У строк есть метод показывающий длинну len()"
      ],
      "metadata": {
        "id": "xk3K6eLtAErz"
      }
    },
    {
      "cell_type": "code",
      "source": [
        "print(text)\n",
        "print(len(text))\n",
        "print(f\"В тексте '{text}' {len(text)} символов\")"
      ],
      "metadata": {
        "colab": {
          "base_uri": "https://localhost:8080/"
        },
        "id": "LBmowj0gALe-",
        "outputId": "f104e82c-8ef2-48df-e7d6-46b8fe4d1b92"
      },
      "execution_count": null,
      "outputs": [
        {
          "output_type": "stream",
          "name": "stdout",
          "text": [
            "Привет, я учу науку о данных\n",
            "28\n",
            "В тексте 'Привет, я учу науку о данных' 28 символов\n"
          ]
        }
      ]
    },
    {
      "cell_type": "markdown",
      "source": [
        "У строк есть индекс, начинающиеся с нуля и мы можем делать над ними операции (это называется слайсинг)"
      ],
      "metadata": {
        "id": "9sduDG2E8b_E"
      }
    },
    {
      "cell_type": "code",
      "source": [
        "text = \"Привет, я учу науку о данных\"\n",
        "print('вывод первого элементa:', text[0])\n",
        "print('вывод шестого элемента:', text[5])\n",
        "print('вывод от первого до шестого элемента, не включая шестой:', text[:5])\n",
        "print('вывод от шестого элемента до конца:', text[5:])\n",
        "print('вывод от шестого элемента до 10 не включая 10:', text[5:10])\n",
        "print('вывод каждого второго элемента от шестого элемента до 20 (не включая):', text[5:20:2])\n",
        "\n",
        "# Экстра\n",
        "print('вывод последнего элемента:', text[-1])\n",
        "print('вывод от пятого элемента с конца до конца:', text[-5:])"
      ],
      "metadata": {
        "colab": {
          "base_uri": "https://localhost:8080/"
        },
        "id": "JhkO3QQU8h5E",
        "outputId": "1a391585-675e-4084-aceb-302452b3fea9"
      },
      "execution_count": null,
      "outputs": [
        {
          "output_type": "stream",
          "name": "stdout",
          "text": [
            "вывод первого элементa: П\n",
            "вывод шестого элемента: т\n",
            "вывод от первого до шестого элемента, не включая шестой: Приве\n",
            "вывод от шестого элемента до конца: т, я учу науку о данных\n",
            "вывод от шестого элемента до 10 не включая 10: т, я \n",
            "вывод каждого второго элемента от шестого элемента до 20 (не включая): т  ч ак \n",
            "вывод последнего элемента: х\n",
            "вывод от пятого элемента с конца до конца: анных\n"
          ]
        }
      ]
    },
    {
      "cell_type": "markdown",
      "source": [
        "Когда нам нано вывести переменную и мы не хотим писать в принте все через запятую, поэтому мы используем f-стринги: f\"текст {переменная} еще текст и т.д.\""
      ],
      "metadata": {
        "id": "B6UhfRXh_I73"
      }
    },
    {
      "cell_type": "code",
      "source": [
        "age = 25\n",
        "print('Привет, меня зовут Билли, мне', age, 'но завтра будет', age + 1) # фуфуфу\n",
        "print(f'Привет, меня зовут Билли, мне {age} но завтра будет {age+1}')   # ok"
      ],
      "metadata": {
        "colab": {
          "base_uri": "https://localhost:8080/"
        },
        "id": "IMtFVQB5_SZb",
        "outputId": "75493683-ac4b-450b-8c8c-02338907e43d"
      },
      "execution_count": null,
      "outputs": [
        {
          "output_type": "stream",
          "name": "stdout",
          "text": [
            "Привет, меня зовут Билли, мне 25 но завтра будет 26\n",
            "Привет, меня зовут Билли, мне 25 но завтра будет 26\n"
          ]
        }
      ]
    },
    {
      "cell_type": "markdown",
      "source": [
        "Перевод в тип данных string делаем с помощью str()"
      ],
      "metadata": {
        "id": "zp_JDlS2w7af"
      }
    },
    {
      "cell_type": "code",
      "source": [
        "str(1234.32)"
      ],
      "metadata": {
        "colab": {
          "base_uri": "https://localhost:8080/",
          "height": 36
        },
        "id": "xNg_i7YJw-jb",
        "outputId": "17fdd70d-e0e0-4493-c534-d51221ffe45a"
      },
      "execution_count": null,
      "outputs": [
        {
          "output_type": "execute_result",
          "data": {
            "text/plain": [
              "'1234.32'"
            ],
            "application/vnd.google.colaboratory.intrinsic+json": {
              "type": "string"
            }
          },
          "metadata": {},
          "execution_count": 30
        }
      ]
    },
    {
      "cell_type": "markdown",
      "source": [
        "### Задания"
      ],
      "metadata": {
        "id": "-S-88DObuiE-"
      }
    },
    {
      "cell_type": "markdown",
      "source": [
        "Задание 1:\n",
        "Определить пременную hello с 5 пробелами по обе стороны, в строке написать \"Привет, Дивный Новый Мир\""
      ],
      "metadata": {
        "id": "jDk5VmWsukLg"
      }
    },
    {
      "cell_type": "code",
      "source": [],
      "metadata": {
        "id": "WbyZ_Y0EujZs"
      },
      "execution_count": null,
      "outputs": []
    },
    {
      "cell_type": "markdown",
      "source": [
        "Задание 2: Используя методы строк убрать пробелы по обе стороны и перевести строку в нижний кейс"
      ],
      "metadata": {
        "id": "GYsA9QnJvAep"
      }
    },
    {
      "cell_type": "code",
      "source": [],
      "metadata": {
        "id": "PGTzTUMYvccQ"
      },
      "execution_count": null,
      "outputs": []
    },
    {
      "cell_type": "markdown",
      "source": [
        "Задание 3: заменить все пробелы на \"_\" и вывести последние 10 элементов с помощью слайсинга"
      ],
      "metadata": {
        "id": "T_4RLzxfuzDN"
      }
    },
    {
      "cell_type": "code",
      "source": [],
      "metadata": {
        "id": "KaNruyP_vbWh"
      },
      "execution_count": null,
      "outputs": []
    },
    {
      "cell_type": "markdown",
      "source": [
        "## tuple\n",
        "\n",
        "Кортежи - это неизменяемый тип данных, который позволяет хранить другие данные внутри. Мы не можем добавить или убрать из кортежа данные после создания, елси мы это сделаем создается другой кортеж.\n",
        "\n",
        "Кортежи упорядочены, у них есть индексы.\n",
        "\n",
        "Кортежи опредялются либо скобками, либо tuple()"
      ],
      "metadata": {
        "id": "JoFxzQXrBVN6"
      }
    },
    {
      "cell_type": "code",
      "source": [
        "my_example_1 = (1,2,3,4)\n",
        "my_example_2 = (1,)   #кортеж в скобка из одного элемента создается с запятой\n",
        "my_example_3 = (1)    #иначе получится просто число\n",
        "\n",
        "print(my_example_1, my_example_2, my_example_3)"
      ],
      "metadata": {
        "colab": {
          "base_uri": "https://localhost:8080/"
        },
        "id": "kUOjCQy9Btws",
        "outputId": "623922a8-5ee8-4594-a7f2-83c580b29055"
      },
      "execution_count": null,
      "outputs": [
        {
          "output_type": "stream",
          "name": "stdout",
          "text": [
            "(1, 2, 3, 4) (1,) 1\n"
          ]
        }
      ]
    },
    {
      "cell_type": "markdown",
      "source": [
        "Кортежи можно \"разархивировать\""
      ],
      "metadata": {
        "id": "yLTGOBbECQ-Y"
      }
    },
    {
      "cell_type": "code",
      "source": [
        "num_1, num_2, num_3, num_4 = my_example_1\n",
        "\n",
        "print(num_1, num_2, num_3, num_4)"
      ],
      "metadata": {
        "colab": {
          "base_uri": "https://localhost:8080/"
        },
        "id": "w1SSYeAdCPYz",
        "outputId": "0e5ebc79-f853-45c4-d4fe-77cd467ae5a7"
      },
      "execution_count": null,
      "outputs": [
        {
          "output_type": "stream",
          "name": "stdout",
          "text": [
            "1 2 3 4\n"
          ]
        }
      ]
    },
    {
      "cell_type": "markdown",
      "source": [
        "Умножать на целые числа и складывать с другими кортежами"
      ],
      "metadata": {
        "id": "GVQO-Yn0ClHb"
      }
    },
    {
      "cell_type": "code",
      "source": [
        "print(my_example_1 + my_example_2)\n",
        "print(my_example_1 * 3)"
      ],
      "metadata": {
        "colab": {
          "base_uri": "https://localhost:8080/"
        },
        "id": "UJWJ6r-oCojO",
        "outputId": "88979363-b781-48c0-cd9d-8ef1a260a365"
      },
      "execution_count": null,
      "outputs": [
        {
          "output_type": "stream",
          "name": "stdout",
          "text": [
            "(1, 2, 3, 4, 1)\n",
            "(1, 2, 3, 4, 1, 2, 3, 4, 1, 2, 3, 4)\n"
          ]
        }
      ]
    },
    {
      "cell_type": "markdown",
      "source": [
        "Элементы внутри кортежа можно складывать с помощь метода sum()"
      ],
      "metadata": {
        "id": "qRj9GiC-D28E"
      }
    },
    {
      "cell_type": "code",
      "source": [
        "sum(my_example_1)"
      ],
      "metadata": {
        "colab": {
          "base_uri": "https://localhost:8080/"
        },
        "id": "Oo9PLVUaDtD1",
        "outputId": "84653d77-47cd-4045-c64d-349c16cfaf60"
      },
      "execution_count": null,
      "outputs": [
        {
          "output_type": "execute_result",
          "data": {
            "text/plain": [
              "10"
            ]
          },
          "metadata": {},
          "execution_count": 87
        }
      ]
    },
    {
      "cell_type": "markdown",
      "source": [
        "Мы можем создать кортеж кортежей и это уже становится похожим на матрицу"
      ],
      "metadata": {
        "id": "scB4dbXWC4sl"
      }
    },
    {
      "cell_type": "code",
      "source": [
        "tup_of_tup = ((1, 0, 0), (0, 1, 0), (0, 0, 1))\n",
        "print(tup_of_tup)"
      ],
      "metadata": {
        "colab": {
          "base_uri": "https://localhost:8080/"
        },
        "id": "5IsTedxvCuRY",
        "outputId": "91e845cc-6b29-449a-da4d-045f3fcdc051"
      },
      "execution_count": null,
      "outputs": [
        {
          "output_type": "stream",
          "name": "stdout",
          "text": [
            "((1, 0, 0), (0, 1, 0), (0, 0, 1))\n"
          ]
        }
      ]
    },
    {
      "cell_type": "markdown",
      "source": [
        "Это может выглядить вот так. (Пока учить это не надо)"
      ],
      "metadata": {
        "id": "EFKuGgsqDNoN"
      }
    },
    {
      "cell_type": "code",
      "source": [
        "for y in tup_of_tup:\n",
        "  for x in y:\n",
        "    print(x, end=' ')\n",
        "  print()"
      ],
      "metadata": {
        "colab": {
          "base_uri": "https://localhost:8080/"
        },
        "id": "c4vwuQQIDOWH",
        "outputId": "bb10f8fd-415d-4957-9dee-0fdc29794030"
      },
      "execution_count": null,
      "outputs": [
        {
          "output_type": "stream",
          "name": "stdout",
          "text": [
            "1 0 0 \n",
            "0 1 0 \n",
            "0 0 1 \n"
          ]
        }
      ]
    },
    {
      "cell_type": "markdown",
      "source": [
        "Вызывать элементы в кортеже можно также как мы это делали со строками"
      ],
      "metadata": {
        "id": "nLqO57E8EYv0"
      }
    },
    {
      "cell_type": "code",
      "source": [
        "print(tup_of_tup[0])      # первый элемент из кортежа (он же сам кортеж)\n",
        "print(tup_of_tup[:2])     # 2 и 3 элементы\n",
        "print(tup_of_tup[0][1])   # вложенный второй элемент первого элемента\n",
        "print(tup_of_tup[0][:2])  # второй и третий вложенные элементы первого элемента"
      ],
      "metadata": {
        "colab": {
          "base_uri": "https://localhost:8080/"
        },
        "id": "pMG3FhSVEdG1",
        "outputId": "6415b4f8-626e-4702-861c-7bb9a9a18ce2"
      },
      "execution_count": null,
      "outputs": [
        {
          "output_type": "stream",
          "name": "stdout",
          "text": [
            "(1, 0, 0)\n",
            "((1, 0, 0), (0, 1, 0))\n",
            "0\n",
            "(1, 0)\n"
          ]
        }
      ]
    },
    {
      "cell_type": "markdown",
      "source": [
        "Перевод в тип данных tuple делаем с помощью tuple()"
      ],
      "metadata": {
        "id": "TN3TVaVZxGQH"
      }
    },
    {
      "cell_type": "code",
      "source": [
        "tuple('привет, как дела?')"
      ],
      "metadata": {
        "colab": {
          "base_uri": "https://localhost:8080/"
        },
        "id": "W0PJF11jxIwq",
        "outputId": "4576442e-015a-40db-d4b5-536e1604163e"
      },
      "execution_count": null,
      "outputs": [
        {
          "output_type": "execute_result",
          "data": {
            "text/plain": [
              "('п',\n",
              " 'р',\n",
              " 'и',\n",
              " 'в',\n",
              " 'е',\n",
              " 'т',\n",
              " ',',\n",
              " ' ',\n",
              " 'к',\n",
              " 'а',\n",
              " 'к',\n",
              " ' ',\n",
              " 'д',\n",
              " 'е',\n",
              " 'л',\n",
              " 'а',\n",
              " '?')"
            ]
          },
          "metadata": {},
          "execution_count": 33
        }
      ]
    },
    {
      "cell_type": "code",
      "source": [
        "tuple((1,2,3))"
      ],
      "metadata": {
        "colab": {
          "base_uri": "https://localhost:8080/"
        },
        "id": "95at_O6uxOq-",
        "outputId": "e253231a-612e-49d3-9c2d-e931808c2e03"
      },
      "execution_count": null,
      "outputs": [
        {
          "output_type": "execute_result",
          "data": {
            "text/plain": [
              "(1, 2, 3)"
            ]
          },
          "metadata": {},
          "execution_count": 32
        }
      ]
    },
    {
      "cell_type": "markdown",
      "source": [
        "Проверка на вхождение **in**"
      ],
      "metadata": {
        "id": "YF_8EFjGzPni"
      }
    },
    {
      "cell_type": "code",
      "source": [
        "my_tup = (1, 2.0, 'три', (111, 22), 56)\n",
        "print(1.32 in my_tup)\n",
        "print(int(1.32) in my_tup)"
      ],
      "metadata": {
        "colab": {
          "base_uri": "https://localhost:8080/"
        },
        "id": "G7E5gTyazRuU",
        "outputId": "5b9658bd-9e5a-4f5e-a58a-de083df8de2e"
      },
      "execution_count": null,
      "outputs": [
        {
          "output_type": "stream",
          "name": "stdout",
          "text": [
            "False\n",
            "True\n"
          ]
        }
      ]
    },
    {
      "cell_type": "markdown",
      "source": [
        "### Задания"
      ],
      "metadata": {
        "id": "io4ai0E0vfG1"
      }
    },
    {
      "cell_type": "markdown",
      "source": [
        "Задание 1: Определить переменную num_1 равную 33, переменную num_2 равную 3.33 и переменную not_num_at_all равную \"тридцать три\". Создать кортеж im_tuple с этими переменными"
      ],
      "metadata": {
        "id": "0SUHWWiSvhH9"
      }
    },
    {
      "cell_type": "code",
      "source": [],
      "metadata": {
        "id": "2rNLkUObwHTf"
      },
      "execution_count": null,
      "outputs": []
    },
    {
      "cell_type": "markdown",
      "source": [
        "Задание 2: Pазархивировать этот кортеж в переменные var_1, var_2, var_3"
      ],
      "metadata": {
        "id": "zbXUIM_0wHhs"
      }
    },
    {
      "cell_type": "code",
      "source": [],
      "metadata": {
        "id": "goUQhcfywTWQ"
      },
      "execution_count": null,
      "outputs": []
    },
    {
      "cell_type": "markdown",
      "source": [
        "Задание 3: Создать матрицу 3х3 из кортежей где справа все единицы, слева нули, а по центру сверху вниз 1, 2, 3"
      ],
      "metadata": {
        "id": "pNqBjfmpwToD"
      }
    },
    {
      "cell_type": "code",
      "source": [],
      "metadata": {
        "id": "XjEvBVwmweAw"
      },
      "execution_count": null,
      "outputs": []
    },
    {
      "cell_type": "markdown",
      "source": [
        "Задание 4: Определить переменную my_var и вложить в нее второй элемент третьего элемента предыдущего кортежа"
      ],
      "metadata": {
        "id": "GRAm2z2dQa76"
      }
    },
    {
      "cell_type": "code",
      "source": [],
      "metadata": {
        "id": "o8ObHfG_Uk3b"
      },
      "execution_count": null,
      "outputs": []
    },
    {
      "cell_type": "markdown",
      "source": [
        "## list\n",
        "\n",
        "Списки, в отличии от коржетей - изменяемый типа данный, это значит что из них можно удалить элемент, добавить, расширить их с помощью другого элемента и т.д.\n",
        "\n",
        "Списки упорядочены. У них есть индексы.\n",
        "\n",
        "Определяются скобочками или list"
      ],
      "metadata": {
        "id": "oRxa4sqsGA-Q"
      }
    },
    {
      "cell_type": "code",
      "source": [
        "nums = [1, 2, 3, 4]\n",
        "list_of_tups = list(tup_of_tup)   # обращаем внимание что внутри все еще остаются кортежи\n",
        "\n",
        "print(nums)\n",
        "print(list_of_tups)"
      ],
      "metadata": {
        "colab": {
          "base_uri": "https://localhost:8080/"
        },
        "id": "cEZG5LVQF_j4",
        "outputId": "270998cd-d934-4212-bcad-d4057b31d4b1"
      },
      "execution_count": null,
      "outputs": [
        {
          "output_type": "stream",
          "name": "stdout",
          "text": [
            "[1, 2, 3, 4]\n",
            "[(1, 0, 0), (0, 1, 0), (0, 0, 1)]\n"
          ]
        }
      ]
    },
    {
      "cell_type": "markdown",
      "source": [
        "Операции"
      ],
      "metadata": {
        "id": "-OhXB68yGl_E"
      }
    },
    {
      "cell_type": "code",
      "source": [
        "new_list = [1,2, 3, 4, 5, 6]\n",
        "print(new_list)\n",
        "\n",
        "new_list = new_list + [33, 22, 11]\n",
        "print(new_list)\n",
        "\n",
        "another_list = [999, 111, 555]\n",
        "new_list += another_list\n",
        "print(new_list)\n",
        "\n",
        "print(new_list * 2)   # а вот тут мы не переопределяем список, так что он не меняется\n",
        "print(new_list)"
      ],
      "metadata": {
        "colab": {
          "base_uri": "https://localhost:8080/"
        },
        "id": "MtaasLi7Gni3",
        "outputId": "432705cf-2cb4-41f3-a9a3-544886a081d1"
      },
      "execution_count": null,
      "outputs": [
        {
          "output_type": "stream",
          "name": "stdout",
          "text": [
            "[1, 2, 3, 4, 5, 6]\n",
            "[1, 2, 3, 4, 5, 6, 33, 22, 11]\n",
            "[1, 2, 3, 4, 5, 6, 33, 22, 11, 999, 111, 555]\n",
            "[1, 2, 3, 4, 5, 6, 33, 22, 11, 999, 111, 555, 1, 2, 3, 4, 5, 6, 33, 22, 11, 999, 111, 555]\n",
            "[1, 2, 3, 4, 5, 6, 33, 22, 11, 999, 111, 555]\n"
          ]
        }
      ]
    },
    {
      "cell_type": "markdown",
      "source": [
        "Слайсинг"
      ],
      "metadata": {
        "id": "2zvzmimVHULq"
      }
    },
    {
      "cell_type": "code",
      "source": [
        "print(new_list[2])\n",
        "print(new_list[2:10])\n",
        "print(new_list[::2]) # каждый второй элемент\n",
        "print(new_list[::-1]) # Мы развернули список!"
      ],
      "metadata": {
        "colab": {
          "base_uri": "https://localhost:8080/"
        },
        "id": "1ct-XxuwHbME",
        "outputId": "e90a622e-50c5-433b-cf0f-fecd05482399"
      },
      "execution_count": null,
      "outputs": [
        {
          "output_type": "stream",
          "name": "stdout",
          "text": [
            "3\n",
            "[3, 4, 5, 6, 33, 22, 11, 999]\n",
            "[1, 3, 5, 33, 11, 111]\n",
            "[555, 111, 999, 11, 22, 33, 6, 5, 4, 3, 2, 1]\n"
          ]
        }
      ]
    },
    {
      "cell_type": "markdown",
      "source": [
        "Методы"
      ],
      "metadata": {
        "id": "yTkYOpIoHxkd"
      }
    },
    {
      "cell_type": "code",
      "source": [
        "print('сумма:', sum(new_list))\n",
        "print('развернем:', list(reversed(new_list)))\n",
        "print('отсортируем:', sorted(new_list))\n",
        "print('узнаем длину списка:', len(new_list))\n",
        "print('среднее значение элементов в списке:', sum(new_list) / len(new_list))"
      ],
      "metadata": {
        "colab": {
          "base_uri": "https://localhost:8080/"
        },
        "id": "2djPDNxUHycj",
        "outputId": "14edf11c-d74d-4193-9d34-b1ffe50bde79"
      },
      "execution_count": null,
      "outputs": [
        {
          "output_type": "stream",
          "name": "stdout",
          "text": [
            "сумма: 1752\n",
            "развернем: [555, 111, 999, 11, 22, 33, 6, 5, 4, 3, 2, 1]\n",
            "отсортируем: [1, 2, 3, 4, 5, 6, 11, 22, 33, 111, 555, 999]\n",
            "узнаем длину списка: 12\n",
            "среднее значение элементов в списке: 146.0\n"
          ]
        }
      ]
    },
    {
      "cell_type": "markdown",
      "source": [
        "Еще методы"
      ],
      "metadata": {
        "id": "OyZ8wNKDI_Jh"
      }
    },
    {
      "cell_type": "code",
      "source": [
        "house_rent = [200, 330]\n",
        "print(house_rent)\n",
        "\n",
        "house_rent.append(300) #добавим в конец списка\n",
        "print(house_rent)\n",
        "\n",
        "house_rent.insert(1, 'ой, а я не цена!') # добавим на н индекс (в этом случае 1 - второй элемент) значение\n",
        "print(house_rent)\n",
        "\n",
        "del house_rent[3] # удалим индекс что на не нужен\n",
        "print(house_rent)\n",
        "\n",
        "house_rent.extend([340, 350, 340]) #расширим список другим списком\n",
        "print(house_rent)\n",
        "\n",
        "count_340 = house_rent.count(340) #сколько у нас элементов равных 340\n",
        "print(count_340, 'элемента равно 340')\n",
        "\n",
        "idx_340 = house_rent.index(340) # индекс первого слева элемента равного 340\n",
        "print(idx_340, 'индекс первого слева элемента 340')\n",
        "\n",
        "house_rent.remove(340)  # удалим первый попавшися элемент что равен заданному\n",
        "print(house_rent)\n",
        "\n",
        "element = house_rent.pop()  # удалим и вернем последний элемент\n",
        "print(f'{house_rent}, убрали последний элемент: {element}')\n",
        "\n",
        "element = house_rent.pop(1)  # удалим и вернем второй элемент\n",
        "print(f'{house_rent}, убрали второй элемент: {element}')\n",
        "\n",
        "house_rent.clear() #oчистим список\n",
        "print(house_rent)"
      ],
      "metadata": {
        "colab": {
          "base_uri": "https://localhost:8080/"
        },
        "id": "6E9uKq-sJCWy",
        "outputId": "2c57edae-0452-4cc0-947d-679a55bec111"
      },
      "execution_count": null,
      "outputs": [
        {
          "output_type": "stream",
          "name": "stdout",
          "text": [
            "[200, 330]\n",
            "[200, 330, 300]\n",
            "[200, 'ой, а я не цена!', 330, 300]\n",
            "[200, 'ой, а я не цена!', 330]\n",
            "[200, 'ой, а я не цена!', 330, 340, 350, 340]\n",
            "2 элемента равно 340\n",
            "3 индекс первого слева элемента 340\n",
            "[200, 'ой, а я не цена!', 330, 350, 340]\n",
            "[200, 'ой, а я не цена!', 330, 350], убрали последний элемент: 340\n",
            "[200, 330, 350], убрали второй элемент: ой, а я не цена!\n",
            "[]\n"
          ]
        }
      ]
    },
    {
      "cell_type": "markdown",
      "source": [
        "Мы можем копировать типы данных используя .copy()"
      ],
      "metadata": {
        "id": "SOr-dEalXtHd"
      }
    },
    {
      "cell_type": "code",
      "source": [
        "my_list_1 = [1, 2, 3, 4]\n",
        "my_list_2 = my_list_1\n",
        "print(f'Это на самом деле один и тот же список:\\n\\tmy_list_1: {my_list_1}\\n\\tmy_list_2: {my_list_2}')\n",
        "\n",
        "my_list_2[1] = 11\n",
        "print(f'\\nOбращаем внимание что изменились оба списка: \\n\\tmy_list_1: {my_list_1}\\n\\tmy_list_2: {my_list_2}')\n",
        "\n",
        "my_list_3 = my_list_2.copy()    #альтернативно можно скопировать с my_list_2[:]\n",
        "my_list_1[1] = 999\n",
        "my_list_3[3] = 'Внезапно строка'\n",
        "print(f'\\nOбращаем внимание какие именно списки изменились:\\n\\tmy_list_1: {my_list_1}\\n\\tmy_list_2: {my_list_2}\\n\\tmy_list_3: {my_list_3}')\n",
        "\n",
        "\n",
        "#Но стоит быть осторожным со списком списков\n",
        "list_of_lists = [my_list_1, my_list_3]\n",
        "print('\\nСписок списков:\\n\\t', list_of_lists)\n",
        "\n",
        "my_list_1[2] = 'ЙА НОВАЙА ЗАПИСЬ'\n",
        "print('\\nМы изменили список в списке:\\n\\t', list_of_lists)\n",
        "\n",
        "list_of_lists_new = list_of_lists[:]    # второй способ копировать\n",
        "del my_list_1[2]\n",
        "print('\\nМы скопировали список, но изменили список в первом списке:\\n\\t', list_of_lists_new)"
      ],
      "metadata": {
        "colab": {
          "base_uri": "https://localhost:8080/"
        },
        "id": "ppzmOYCSYL7A",
        "outputId": "712394db-b16e-468d-ad17-2e9282229e8d"
      },
      "execution_count": null,
      "outputs": [
        {
          "output_type": "stream",
          "name": "stdout",
          "text": [
            "Это на самом деле один и тот же список:\n",
            "\tmy_list_1: [1, 2, 3, 4]\n",
            "\tmy_list_2: [1, 2, 3, 4]\n",
            "\n",
            "Oбращаем внимание что изменились оба списка: \n",
            "\tmy_list_1: [1, 11, 3, 4]\n",
            "\tmy_list_2: [1, 11, 3, 4]\n",
            "\n",
            "Oбращаем внимание какие именно списки изменились:\n",
            "\tmy_list_1: [1, 999, 3, 4]\n",
            "\tmy_list_2: [1, 999, 3, 4]\n",
            "\tmy_list_3: [1, 11, 3, 'Внезапно строка']\n",
            "\n",
            "Список списков:\n",
            "\t [[1, 999, 3, 4], [1, 11, 3, 'Внезапно строка']]\n",
            "\n",
            "Мы изменили список в списке:\n",
            "\t [[1, 999, 'ЙА НОВАЙА ЗАПИСЬ', 4], [1, 11, 3, 'Внезапно строка']]\n",
            "\n",
            "Мы скопировали список, но изменили список в первом списке:\n",
            "\t [[1, 999, 4], [1, 11, 3, 'Внезапно строка']]\n"
          ]
        }
      ]
    },
    {
      "cell_type": "markdown",
      "source": [
        "Перевод в тип данных list делаем с помощью list()"
      ],
      "metadata": {
        "id": "GCNowSAZxZMa"
      }
    },
    {
      "cell_type": "code",
      "source": [
        "list(tup_of_tup)"
      ],
      "metadata": {
        "colab": {
          "base_uri": "https://localhost:8080/"
        },
        "id": "282QueIXxcgw",
        "outputId": "1d7528ca-5cac-4c3f-b32a-bda51ab5ab5c"
      },
      "execution_count": null,
      "outputs": [
        {
          "output_type": "execute_result",
          "data": {
            "text/plain": [
              "[(1, 0, 0), (0, 1, 0), (0, 0, 1)]"
            ]
          },
          "metadata": {},
          "execution_count": 37
        }
      ]
    },
    {
      "cell_type": "markdown",
      "source": [
        "### Задания"
      ],
      "metadata": {
        "id": "CaliV2CuU_kS"
      }
    },
    {
      "cell_type": "markdown",
      "source": [
        "Задание 1:\n",
        "1. Cоздать список с элементами 200 и 330\n",
        "2. Добавить в конец списка 280\n",
        "3. Добавить в начало списка 400\n",
        "4. Расширить список списком [350, 320, 310]\n",
        "5. Добавить строку \"а я вот тоже не цена\" третьим элементом в списке"
      ],
      "metadata": {
        "id": "2mnsNqnyVsQE"
      }
    },
    {
      "cell_type": "code",
      "source": [
        "house_rent ="
      ],
      "metadata": {
        "id": "PoKpyKj6VBGv"
      },
      "execution_count": null,
      "outputs": []
    },
    {
      "cell_type": "markdown",
      "source": [
        "Задание 2:\n",
        "\n",
        "1. Удалить элемент списка под индексом 2\n",
        "2. Найти и вывести первое встреченное число 320\n",
        "3. Удалить первый встречный элемент равный 320\n",
        "4. Создать копию списка\n",
        "4. Очистить первый список"
      ],
      "metadata": {
        "id": "L21Sgl_pWDRb"
      }
    },
    {
      "cell_type": "code",
      "source": [],
      "metadata": {
        "id": "2heeTyDHWtMR"
      },
      "execution_count": null,
      "outputs": []
    },
    {
      "cell_type": "markdown",
      "source": [
        "Задание 3:\n",
        "\n",
        "1. Объединить созданную копию со списком monthly_expenses\n",
        "2. Вывести сумму элементов получившегося списка\n",
        "3. Найти среднее значение этого списка\n",
        "4. Создать новый список с элементами от второго по шестой (включительно) предыдущего списка и добавить к нему подсчитанное среднее значение"
      ],
      "metadata": {
        "id": "_s58ens0Wtb_"
      }
    },
    {
      "cell_type": "code",
      "source": [
        "monthly_expenses = [250, 200, 400, 200, 370]\n",
        "\n"
      ],
      "metadata": {
        "id": "-zmOY7V9XbF1"
      },
      "execution_count": null,
      "outputs": []
    },
    {
      "cell_type": "markdown",
      "source": [
        "## dict\n",
        "\n",
        "Словарь - неупорядоченный тип данных, подобно коробке, которая отдает ответ если назовешь пароль.\n",
        "\n",
        "Ключ: значение\n",
        "\n",
        "Задается фигурными скобками"
      ],
      "metadata": {
        "id": "8NRcYPMpMIYB"
      }
    },
    {
      "cell_type": "code",
      "source": [
        "bag = {}"
      ],
      "metadata": {
        "id": "BFJme8KyNa_d"
      },
      "execution_count": null,
      "outputs": []
    },
    {
      "cell_type": "markdown",
      "source": [
        "Внутри словаря очень похоже на задание переменных но без знака равно.\n"
      ],
      "metadata": {
        "id": "7sklUUToNS-R"
      }
    },
    {
      "cell_type": "code",
      "source": [
        "bag = {\n",
        "    'pencils': 3,\n",
        "    'markers': 'не рисую',\n",
        "    'knife': ['охотничий', 'танто', 'мутанто', 'разве ж это нож!?'],\n",
        "    'machine_gun': None,\n",
        "    'pink pony': 3,\n",
        "}"
      ],
      "metadata": {
        "id": "hfNZ8b3zNVxc"
      },
      "execution_count": null,
      "outputs": []
    },
    {
      "cell_type": "markdown",
      "source": [
        "Мы не можем достать элементы по индексы но можем по ключам будто они индексы. Ключи - это то что в паре слева, они уникальны и два одинаковых ключа быть не может."
      ],
      "metadata": {
        "id": "cG-mZX9eNw3M"
      }
    },
    {
      "cell_type": "code",
      "source": [
        "print(bag['pink pony'])\n",
        "bag['pink pony'] += 10\n",
        "print(bag['pink pony'])"
      ],
      "metadata": {
        "colab": {
          "base_uri": "https://localhost:8080/"
        },
        "id": "Y_KRo02_N7oM",
        "outputId": "5c72f2c2-efc5-4bd1-9af4-658d884765ac"
      },
      "execution_count": null,
      "outputs": [
        {
          "output_type": "stream",
          "name": "stdout",
          "text": [
            "3\n",
            "13\n"
          ]
        }
      ]
    },
    {
      "cell_type": "markdown",
      "source": [
        "Новые элементы можно задавать с помощью квадратных скобок"
      ],
      "metadata": {
        "id": "LBEdzV3XOKvi"
      }
    },
    {
      "cell_type": "code",
      "source": [
        "bag['pink poopoo'] = bag['pink pony'] * 100.0\n",
        "print(bag)"
      ],
      "metadata": {
        "colab": {
          "base_uri": "https://localhost:8080/"
        },
        "id": "H2Pvi-YyOPYH",
        "outputId": "4b22088a-81c3-4a25-e99a-53c92334f19a"
      },
      "execution_count": null,
      "outputs": [
        {
          "output_type": "stream",
          "name": "stdout",
          "text": [
            "{'pencils': 3, 'markers': 'не рисую', 'knife': ['охотничий', 'танто', 'мутанто', 'разве ж это нож!?'], 'machine_gun': None, 'pink pony': 13, 'pink poopoo': 1300.0}\n"
          ]
        }
      ]
    },
    {
      "cell_type": "markdown",
      "source": [
        "удаляем"
      ],
      "metadata": {
        "id": "F1gG0j3JOZ16"
      }
    },
    {
      "cell_type": "code",
      "source": [
        "del bag['knife']\n",
        "bag"
      ],
      "metadata": {
        "colab": {
          "base_uri": "https://localhost:8080/"
        },
        "id": "bTVMsD0TOypw",
        "outputId": "dc66e344-84d3-4dcd-a9f3-763f8af07f8d"
      },
      "execution_count": null,
      "outputs": [
        {
          "output_type": "execute_result",
          "data": {
            "text/plain": [
              "{'pencils': 3,\n",
              " 'markers': 'не рисую',\n",
              " 'machine_gun': None,\n",
              " 'pink pony': 13,\n",
              " 'pink poopoo': 1300.0}"
            ]
          },
          "metadata": {},
          "execution_count": 156
        }
      ]
    },
    {
      "cell_type": "markdown",
      "source": [
        "На самом деле примерна эта логика и реализована в датафреймах пандас"
      ],
      "metadata": {
        "id": "OnJSoSpwO2ew"
      }
    },
    {
      "cell_type": "markdown",
      "source": [
        "Ключи и значения можно достать следующими методами"
      ],
      "metadata": {
        "id": "7gxA1kZGQBwf"
      }
    },
    {
      "cell_type": "code",
      "source": [
        "print(bag.keys())   # ключи\n",
        "print(bag.values()) # знаения\n",
        "print(bag.items())  #пары ключи-значния"
      ],
      "metadata": {
        "colab": {
          "base_uri": "https://localhost:8080/"
        },
        "id": "SxW_fKqOQMpB",
        "outputId": "d288f46e-c271-4017-d84d-6f0a97f630fa"
      },
      "execution_count": null,
      "outputs": [
        {
          "output_type": "stream",
          "name": "stdout",
          "text": [
            "dict_keys(['pencils', 'markers', 'machine_gun', 'pink pony', 'pink poopoo'])\n",
            "dict_values([3, 'не рисую', None, 13, 1300.0])\n",
            "dict_items([('pencils', 3), ('markers', 'не рисую'), ('machine_gun', None), ('pink pony', 13), ('pink poopoo', 1300.0)])\n"
          ]
        }
      ]
    },
    {
      "cell_type": "markdown",
      "source": [
        "Объединять словари можно с помощью .update()"
      ],
      "metadata": {
        "id": "wKxUtOYXxzka"
      }
    },
    {
      "cell_type": "code",
      "source": [
        "dict1 = {'a': 10, 'b': 20, 'c': 30}\n",
        "dict2 = {'b': 30, 'd': 30, 'e': 40}\n",
        "dict1.update(dict2)\n",
        "print(f\"b перезаписалось: {dict1}\")"
      ],
      "metadata": {
        "colab": {
          "base_uri": "https://localhost:8080/"
        },
        "id": "ElJOueiXx7Ep",
        "outputId": "ee62e8eb-acd0-475f-8ba7-73613ac97dc4"
      },
      "execution_count": null,
      "outputs": [
        {
          "output_type": "stream",
          "name": "stdout",
          "text": [
            "b перезаписалось: {'a': 10, 'b': 30, 'c': 30, 'd': 30, 'e': 40}\n"
          ]
        }
      ]
    },
    {
      "cell_type": "markdown",
      "source": [
        "Разархивировать словарь можно с помощью **"
      ],
      "metadata": {
        "id": "DsvWYW8JyTf9"
      }
    },
    {
      "cell_type": "code",
      "source": [
        "dict3 = {'e':20, 'f':50, 'g':60}\n",
        "merged_dict = {**dict1, **dict3}\n",
        "merged_dict"
      ],
      "metadata": {
        "colab": {
          "base_uri": "https://localhost:8080/"
        },
        "id": "4VaewWewyWXz",
        "outputId": "76323cf9-ba58-4b71-ce4a-dac57a6bc9f0"
      },
      "execution_count": null,
      "outputs": [
        {
          "output_type": "execute_result",
          "data": {
            "text/plain": [
              "{'a': 10, 'b': 30, 'c': 30, 'd': 30, 'e': 20, 'f': 50, 'g': 60}"
            ]
          },
          "metadata": {},
          "execution_count": 43
        }
      ]
    },
    {
      "cell_type": "markdown",
      "source": [
        "### Задания：\n",
        "\n",
        "Задание 1:\n",
        "1. Создать словарь со значениями \"имя\", \"возраст\", \"пол\".\n",
        "2. Добавить туда \"курс\"\n",
        "3. Вывести каждое значение о отдельности с помощью print"
      ],
      "metadata": {
        "id": "l5De2gLusf26"
      }
    },
    {
      "cell_type": "code",
      "source": [],
      "metadata": {
        "id": "hViEOBUQtTHi"
      },
      "execution_count": null,
      "outputs": []
    },
    {
      "cell_type": "markdown",
      "source": [
        "Задание 2:\n",
        "\n",
        "1. К предыущему словарю добавить ключ \"средний бал\" где значения равно 99.99\n",
        "2. Обновить средний бал, сделав его 105 типом данных int\n",
        "3. Проверить на вхождение ключ \"книги\", если его нет, добавить со значением [\"Наука о данных с нуля\", \"Грокаем алгоритмы\"]\n",
        "4. Достать слово \"Грокаем\" из этого словаря и поместить в переменную"
      ],
      "metadata": {
        "id": "CfkZ9HFRtTd4"
      }
    },
    {
      "cell_type": "code",
      "source": [],
      "metadata": {
        "id": "BJWLLNxGzqaF"
      },
      "execution_count": null,
      "outputs": []
    },
    {
      "cell_type": "markdown",
      "source": [
        "## Тернарный оператор if\n",
        "\n",
        "Проверяет верно ли условие и если да, выполняет блок кода. (по сути булевые переменные True\\False)"
      ],
      "metadata": {
        "id": "CxoHsclizpdn"
      }
    },
    {
      "cell_type": "code",
      "source": [
        "age = 18\n",
        "\n",
        "if age >= 18:\n",
        "  print(\"Можно!\")"
      ],
      "metadata": {
        "id": "UfNcl6ZD0z6_"
      },
      "execution_count": null,
      "outputs": []
    },
    {
      "cell_type": "markdown",
      "source": [
        "У него есть второе условие \"если\" - **else**\n",
        "\n",
        "Если if не True то выполняется else"
      ],
      "metadata": {
        "id": "tA_fkTLy1Ah3"
      }
    },
    {
      "cell_type": "code",
      "source": [
        "leo = ['dicaprio', 'дикаприо']\n",
        "surname = 'Di_Caprio'\n",
        "\n",
        "if surname.replace('_', '').lower() not in leo:\n",
        "  print('Ты не Лео')\n",
        "else:\n",
        "  print('Ты Лео')"
      ],
      "metadata": {
        "colab": {
          "base_uri": "https://localhost:8080/"
        },
        "id": "p1wf_G8N1WiW",
        "outputId": "ed32ed27-ea46-46b7-fc3d-c640b8a38e66"
      },
      "execution_count": null,
      "outputs": [
        {
          "output_type": "stream",
          "name": "stdout",
          "text": [
            "Ты Лео\n"
          ]
        }
      ]
    },
    {
      "cell_type": "markdown",
      "source": [
        "**elif** - иногда нам хочется еще одно дополнительное условие"
      ],
      "metadata": {
        "id": "HfvUbRvR2i-P"
      }
    },
    {
      "cell_type": "code",
      "source": [
        "dual_langs = ['Canada', 'SAR']\n",
        "\n",
        "axeman = {'nationality':'Canada', 'bilingual': True, 'languages': ['English', 'French']}\n",
        "la_baguette = {'nationality':'France', 'bilingual': False, 'languages': ['French']}\n",
        "la_guillotene = {'nationality':'France', 'bilingual':True, 'languages':['French', 'German', 'English']}\n",
        "\n",
        "if axeman['nationality'] in dual_langs:\n",
        "  print('Woodchoppa speaks:', *axeman['languages'])\n",
        "elif axeman['bilingual']:\n",
        "  print('Woodchoppa is bilingual')\n",
        "else:\n",
        "  print('Woodchoppa is sad')\n",
        "\n",
        "\n",
        "if la_baguette['nationality'] in dual_langs:\n",
        "  print('Frenchie speaks:', *la_baguette['languages'])\n",
        "elif la_baguette['bilingual']:\n",
        "  print('Frenchie is bilingual')\n",
        "else:\n",
        "  print('Frenchie is sad')\n",
        "\n",
        "\n",
        "if la_guillotene['nationality'] in dual_langs:\n",
        "  print('Headchoppa speaks:', la_guillotene['languages'])\n",
        "elif la_guillotene['bilingual']:\n",
        "  print('Headchoppa is bilingual')\n",
        "else:\n",
        "  print('Headchoppa is sad')"
      ],
      "metadata": {
        "colab": {
          "base_uri": "https://localhost:8080/"
        },
        "id": "nCna5EyB2-A7",
        "outputId": "4c56f896-bf53-4e00-c176-f67a0bbce055"
      },
      "execution_count": null,
      "outputs": [
        {
          "output_type": "stream",
          "name": "stdout",
          "text": [
            "Woodchoppa speaks: English French\n",
            "Frenchie is sad\n",
            "Headchoppa is bilingual\n"
          ]
        }
      ]
    },
    {
      "cell_type": "markdown",
      "source": [
        "##Задания:\n",
        "\n",
        "Задание 1:\n",
        "Написать тернарный оператор проверяющий переменную age и выводящий \"Может голосовать\" если переменная больше или равно 18 и \"Не может головать\" в другом случае."
      ],
      "metadata": {
        "id": "s-WWBhho64bF"
      }
    },
    {
      "cell_type": "code",
      "source": [],
      "metadata": {
        "id": "fEbimQjy7R5u"
      },
      "execution_count": null,
      "outputs": []
    },
    {
      "cell_type": "markdown",
      "source": [
        "Задание 2: Написать код, проверяющие переменную и выводящий \"Число меньше чем ноль\" если число меньше нуля, \"число больше чем ноль\" если число больше ноля и \"число равно нулю\" если оно равно нулю"
      ],
      "metadata": {
        "id": "t4ZjkLMX7RJ6"
      }
    },
    {
      "cell_type": "code",
      "source": [],
      "metadata": {
        "id": "KxVSapkW7m20"
      },
      "execution_count": null,
      "outputs": []
    },
    {
      "cell_type": "markdown",
      "source": [
        "Задание 3*: Написать код проверяющий является год в переменной вискосным. Высокосный год - это год ,который делится на 400 или год который делится на 4 но не делится на 100. Если год високосный вывести год и \"високосный год\", иначе - вывести год и \"не високосный\""
      ],
      "metadata": {
        "id": "_J0ED7eQ7nNq"
      }
    },
    {
      "cell_type": "code",
      "source": [],
      "metadata": {
        "id": "0FAePy6n8H6Y"
      },
      "execution_count": null,
      "outputs": []
    },
    {
      "cell_type": "markdown",
      "source": [
        "## Циклы"
      ],
      "metadata": {
        "id": "becjMni6Pl_P"
      }
    },
    {
      "cell_type": "markdown",
      "source": [
        "Очень важная тема, позволяющая не повторять одни и те же действия из раза в раз.\n",
        "Можно заметить по упражнению сверху как неэффективно повторять один и тот же код.\n",
        "\n",
        "используем for (while оставим на потом)\n",
        "\n",
        "похоже на псевдокод: для каждого элемента в списка пока не законился сделать то-то"
      ],
      "metadata": {
        "id": "CePV0h8KPqy1"
      }
    },
    {
      "cell_type": "code",
      "source": [
        "mylist = [10, 20, 30, 40]\n",
        "for digit in mylist:\n",
        "  print(f'мне {digit} лет')"
      ],
      "metadata": {
        "colab": {
          "base_uri": "https://localhost:8080/"
        },
        "id": "plVIPH6m8jli",
        "outputId": "60a7880d-7f01-4faa-fb29-a8d49cf3be94"
      },
      "execution_count": null,
      "outputs": [
        {
          "output_type": "stream",
          "name": "stdout",
          "text": [
            "мне 10 лет\n",
            "мне 20 лет\n",
            "мне 30 лет\n",
            "мне 40 лет\n"
          ]
        }
      ]
    },
    {
      "cell_type": "code",
      "source": [
        "for key in bag.keys():\n",
        "  print(key, bag[key])"
      ],
      "metadata": {
        "colab": {
          "base_uri": "https://localhost:8080/"
        },
        "id": "vrMNjg7wP1HV",
        "outputId": "575db5d3-ae76-412d-ea85-a10b0f88ee30"
      },
      "execution_count": null,
      "outputs": [
        {
          "output_type": "stream",
          "name": "stdout",
          "text": [
            "pencils 3\n",
            "markers не рисую\n",
            "machine_gun None\n",
            "pink pony 13\n",
            "pink poopoo 1300.0\n"
          ]
        }
      ]
    },
    {
      "cell_type": "markdown",
      "source": [
        "но можно интерировать не только через сами элементы но и через индексы, для этого пригодится range"
      ],
      "metadata": {
        "id": "Gag5EsIjQram"
      }
    },
    {
      "cell_type": "code",
      "source": [
        "new_list = [1, 2, 3, 4, 5, 6, 7]\n",
        "length = len(new_list)\n",
        "for num in range(length):\n",
        "  print(f'index {num}: {new_list[num]}')"
      ],
      "metadata": {
        "colab": {
          "base_uri": "https://localhost:8080/"
        },
        "id": "bqmKGEYhQ0Wj",
        "outputId": "f097941f-bff7-45e9-8064-c8d5fb9a20b7"
      },
      "execution_count": null,
      "outputs": [
        {
          "output_type": "stream",
          "name": "stdout",
          "text": [
            "index 0: 1\n",
            "index 1: 2\n",
            "index 2: 3\n",
            "index 3: 4\n",
            "index 4: 5\n",
            "index 5: 6\n",
            "index 6: 7\n"
          ]
        }
      ]
    },
    {
      "cell_type": "markdown",
      "source": [
        "range начинается с 0 и не включает в себя последнее число, чтоб начать с любого числа start и закончить числом end надо писать range(start, end+1)"
      ],
      "metadata": {
        "id": "C5rKBHlV-LVf"
      }
    },
    {
      "cell_type": "code",
      "source": [
        "for n in range(3, length+1):\n",
        "  print(\"число\", n)"
      ],
      "metadata": {
        "colab": {
          "base_uri": "https://localhost:8080/"
        },
        "id": "m4PULP7_-Xxm",
        "outputId": "6dad222c-71c1-413d-cbb9-5313e1a260d9"
      },
      "execution_count": null,
      "outputs": [
        {
          "output_type": "stream",
          "name": "stdout",
          "text": [
            "число 3\n",
            "число 4\n",
            "число 5\n",
            "число 6\n",
            "число 7\n"
          ]
        }
      ]
    },
    {
      "cell_type": "markdown",
      "source": [
        "Вложенные циклы (циклы в цикле)"
      ],
      "metadata": {
        "id": "YZIou7NK_MTS"
      }
    },
    {
      "cell_type": "code",
      "source": [
        "x, y = 3, 3\n",
        "counter = 0\n",
        "\n",
        "for i in range(y):\n",
        "  for j in range(x):\n",
        "    counter += 1\n",
        "    print(f'permutation {counter}: {j, i}')"
      ],
      "metadata": {
        "colab": {
          "base_uri": "https://localhost:8080/"
        },
        "id": "NkMS-QDX_OMn",
        "outputId": "f7a377e3-1d93-4f9f-a6ef-aa6199ae1fed"
      },
      "execution_count": null,
      "outputs": [
        {
          "output_type": "stream",
          "name": "stdout",
          "text": [
            "permutation 1: (0, 0)\n",
            "permutation 2: (1, 0)\n",
            "permutation 3: (2, 0)\n",
            "permutation 4: (0, 1)\n",
            "permutation 5: (1, 1)\n",
            "permutation 6: (2, 1)\n",
            "permutation 7: (0, 2)\n",
            "permutation 8: (1, 2)\n",
            "permutation 9: (2, 2)\n"
          ]
        }
      ]
    },
    {
      "cell_type": "markdown",
      "source": [
        "###Задания\n",
        "\n",
        "Задание 1:\n",
        "для каждого числа от одного до 5 вывести это число, текст \"в квадрате\" и квадрат этого числа"
      ],
      "metadata": {
        "id": "Jbh-tiUu8RKC"
      }
    },
    {
      "cell_type": "code",
      "source": [],
      "metadata": {
        "id": "DVayY4vg8TSt"
      },
      "execution_count": null,
      "outputs": []
    },
    {
      "cell_type": "markdown",
      "source": [
        "Задание 2: использя range для числа в переменной вывести факториал. Например:\n",
        "$$!2 = 1*2$$ $$!5 = 5 * 4 * 3 * 2 * 1$$"
      ],
      "metadata": {
        "id": "f_C4umIB83VT"
      }
    },
    {
      "cell_type": "code",
      "source": [],
      "metadata": {
        "id": "xL_fBU9l95BA"
      },
      "execution_count": null,
      "outputs": []
    },
    {
      "cell_type": "markdown",
      "source": [
        "Задание 3: Создать вложенный цикл и с помощью if подсчитать количество гласных (aioue) в тексте, задав параметр counter и увеличивая его каждый раз при совпадении"
      ],
      "metadata": {
        "id": "BOqzAXza-0Rc"
      }
    },
    {
      "cell_type": "code",
      "source": [],
      "metadata": {
        "id": "vgVt_SI0_t8J"
      },
      "execution_count": null,
      "outputs": []
    },
    {
      "cell_type": "markdown",
      "source": [
        "## Функции\n",
        "\n",
        "нам часто приходится повторять отдельные куски кода, и для того чтобы избежать повторений существуют функции\n",
        "\n",
        "они определяются с помощью def имя_функции(аргумент)"
      ],
      "metadata": {
        "id": "5qgQEVCjRJmN"
      }
    },
    {
      "cell_type": "markdown",
      "source": [
        "Чтоб не писать каждый раз (особенно если я не знаю какой аргумент будет) я вызываю функцию"
      ],
      "metadata": {
        "id": "NbpEvA3ZRN3w"
      }
    },
    {
      "cell_type": "code",
      "source": [
        "def square_me(x):\n",
        "  return x**2\n",
        "\n",
        "print(square_me(5))\n",
        "print(square_me(3))\n",
        "print(square_me(2))\n",
        "print(square_me(1))\n"
      ],
      "metadata": {
        "colab": {
          "base_uri": "https://localhost:8080/"
        },
        "id": "vTDnbMJtRbBq",
        "outputId": "81291efe-eb1d-4168-9928-f5aed3eee974"
      },
      "execution_count": null,
      "outputs": [
        {
          "output_type": "stream",
          "name": "stdout",
          "text": [
            "25\n",
            "9\n",
            "4\n",
            "1\n"
          ]
        }
      ]
    },
    {
      "cell_type": "markdown",
      "source": [
        "Но подожди.. ты же каждый раз вызываешь принт!\n",
        "\n",
        "Да, пожалуй стоит переопределить функцию"
      ],
      "metadata": {
        "id": "bzkrXtoDR1LX"
      }
    },
    {
      "cell_type": "code",
      "source": [
        "def square_me(x):\n",
        "  result = x**2\n",
        "  print(result)\n",
        "  return result\n",
        "\n",
        "square_me(5)\n",
        "square_me(3)\n",
        "square_me(2)\n",
        "square_me(1)"
      ],
      "metadata": {
        "colab": {
          "base_uri": "https://localhost:8080/"
        },
        "id": "EEJ7Dhb3R9zy",
        "outputId": "aa233c4a-fb37-4c85-c9cc-c2fc674a7154"
      },
      "execution_count": null,
      "outputs": [
        {
          "output_type": "stream",
          "name": "stdout",
          "text": [
            "25\n",
            "9\n",
            "4\n",
            "1\n"
          ]
        },
        {
          "output_type": "execute_result",
          "data": {
            "text/plain": [
              "1"
            ]
          },
          "metadata": {},
          "execution_count": 164
        }
      ]
    },
    {
      "cell_type": "markdown",
      "source": [
        "Не все функции должны возвращать чтото с return иногда нам просто надо чтото вывести и показать.\n",
        "\n",
        "Также аргументов может быть много."
      ],
      "metadata": {
        "id": "MqvMESPVSI8M"
      }
    },
    {
      "cell_type": "code",
      "source": [
        "def power(num1, num2):\n",
        "  print(num1**num2)\n",
        "\n",
        "power(2,3)\n",
        "power(3,3)"
      ],
      "metadata": {
        "colab": {
          "base_uri": "https://localhost:8080/"
        },
        "id": "CyhHzx1mST1t",
        "outputId": "3650ef46-3ce6-4f61-8c16-3107266031bb"
      },
      "execution_count": null,
      "outputs": [
        {
          "output_type": "stream",
          "name": "stdout",
          "text": [
            "8\n",
            "27\n"
          ]
        }
      ]
    },
    {
      "cell_type": "markdown",
      "source": [
        "Конечно же мы можем вызывать функции из функций.\n",
        "Также существуют ключевые слова аргументы, которые имеют стандартное значение"
      ],
      "metadata": {
        "id": "5pzZWArPSfw4"
      }
    },
    {
      "cell_type": "code",
      "source": [
        "def mega_power(number_1, number_2=3):\n",
        "  result_1 = square_me(number_1)\n",
        "  result_2 = number_2 * number_2\n",
        "  print(result_1 + result_2)\n",
        "\n",
        "mega_power(4)  #мы не пишем второй аргумент если хотим чтоб он оставался тройкой"
      ],
      "metadata": {
        "colab": {
          "base_uri": "https://localhost:8080/"
        },
        "id": "fSk79lcHSvQT",
        "outputId": "31ede21c-dc50-4efb-817f-48928adc64ae"
      },
      "execution_count": null,
      "outputs": [
        {
          "output_type": "stream",
          "name": "stdout",
          "text": [
            "16\n",
            "25\n"
          ]
        }
      ]
    },
    {
      "cell_type": "markdown",
      "source": [
        "У функций есть область видимости. Переменные созданные в самой функции перестают существовать после того как функция отрабатывает, но сама функция видит переменные созданные вне функций."
      ],
      "metadata": {
        "id": "Kr2PDV4VDyJ1"
      }
    },
    {
      "cell_type": "code",
      "source": [
        "ivar = 'Ivar' #Создано вне функции\n",
        "\n",
        "def myfunc1():\n",
        "  billy = 'Billy'\n",
        "  print(ivar)     #ok\n",
        "  print(billy)    #ok\n",
        "  return billy\n",
        "\n",
        "not_billy = myfunc1()\n",
        "print(not_billy)\n",
        "print(billy)    #выдаст ошибку\n",
        "\n",
        "def myfunc2():\n",
        "  print(not_billy)        #ok\n",
        "  print(billy)            #выдаст ошибку\n",
        "  notnotbilly = myfunc1() #ok но не будет выполненно из-за ошибки в функции и выше функции\n",
        "  print(notnotbilly)      #ok но не будет выполнено"
      ],
      "metadata": {
        "id": "uP3tKEH2EDTl"
      },
      "execution_count": null,
      "outputs": []
    },
    {
      "cell_type": "markdown",
      "source": [
        "Задание 1: Написать функцию, в которую подаются два аргумента - начало и конец. Функция **возвращает** список числе от начала и до конца включительно."
      ],
      "metadata": {
        "id": "D0RYuCLT__Za"
      }
    },
    {
      "cell_type": "code",
      "source": [],
      "metadata": {
        "id": "Zkv2jP_gAgAo"
      },
      "execution_count": null,
      "outputs": []
    },
    {
      "cell_type": "markdown",
      "source": [
        "Задание 2*: Для результата предыдущей функции подсчитать стандартное отклонение. (необходимо посчитать среднее, найти сумму квадратов разницы каждого элемента со средним, поделить на количество элементов и взять из этого корень). Результат не вернуть, а вывести принтом."
      ],
      "metadata": {
        "id": "PbTaMczLAhIZ"
      }
    },
    {
      "cell_type": "code",
      "source": [],
      "metadata": {
        "id": "WUGzJgVLBVHE"
      },
      "execution_count": null,
      "outputs": []
    },
    {
      "cell_type": "markdown",
      "source": [
        "Задание 3*: Подсчитать норму Пробениуса (Евклидова норма) (корень из суммы сумм квадратов элементов в матрице)"
      ],
      "metadata": {
        "id": "7ZH4P4SVBoPx"
      }
    },
    {
      "cell_type": "code",
      "source": [],
      "metadata": {
        "id": "3NUiWWePB4yc"
      },
      "execution_count": null,
      "outputs": []
    }
  ]
}