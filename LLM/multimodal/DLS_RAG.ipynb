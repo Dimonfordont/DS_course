{
  "nbformat": 4,
  "nbformat_minor": 0,
  "metadata": {
    "colab": {
      "provenance": [],
      "authorship_tag": "ABX9TyOzgbEvy61hNkQBwj60Kydp",
      "include_colab_link": true
    },
    "kernelspec": {
      "name": "python3",
      "display_name": "Python 3"
    },
    "language_info": {
      "name": "python"
    }
  },
  "cells": [
    {
      "cell_type": "markdown",
      "metadata": {
        "id": "view-in-github",
        "colab_type": "text"
      },
      "source": [
        "<a href=\"https://colab.research.google.com/github/Dimonfordont/DS_course/blob/main/LLM/multimodal/DLS_RAG.ipynb\" target=\"_parent\"><img src=\"https://colab.research.google.com/assets/colab-badge.svg\" alt=\"Open In Colab\"/></a>"
      ]
    },
    {
      "cell_type": "markdown",
      "source": [
        "# RAG for DLS"
      ],
      "metadata": {
        "id": "PvgLK308dM0S"
      }
    },
    {
      "cell_type": "markdown",
      "source": [
        "## Install libs"
      ],
      "metadata": {
        "id": "TCnTTIS2dTOq"
      }
    },
    {
      "cell_type": "code",
      "source": [
        "!pip install -q gdown torch transformers transformers accelerate bitsandbytes langchain sentence-transformers faiss-gpu openpyxl datasets langchain-community ragatouille umap-learn"
      ],
      "metadata": {
        "id": "xMM2R4ildSYe"
      },
      "execution_count": null,
      "outputs": []
    },
    {
      "cell_type": "markdown",
      "source": [
        "## Import libs"
      ],
      "metadata": {
        "id": "uTi9og6EdXjI"
      }
    },
    {
      "cell_type": "code",
      "source": [
        "import base64\n",
        "import gdown\n",
        "import matplotlib.pyplot as plt\n",
        "import numpy as np\n",
        "import pandas as pd\n",
        "import PIL\n",
        "import requests\n",
        "import torch\n",
        "\n",
        "from io import BytesIO\n",
        "from PIL import Image\n",
        "import plotly.express as px\n",
        "from tqdm.notebook import tqdm\n",
        "from typing import Optional, List, Tuple\n",
        "\n",
        "from langchain.docstore.document import Document as LangchainDocument\n",
        "from langchain_community.embeddings import HuggingFaceEmbeddings\n",
        "from langchain_community.vectorstores.utils import DistanceStrategy\n",
        "from langchain.vectorstores import FAISS\n",
        "from ragatouille import RAGPretrainedModel\n",
        "from sentence_transformers import SentenceTransformer\n",
        "from transformers import AutoTokenizer\n",
        "from transformers import pipeline\n",
        "from transformers import AutoTokenizer, AutoModelForCausalLM, BitsAndBytesConfig\n",
        "\n",
        "\n",
        "# from langchain.text_splitter import ...\n",
        "# pd.set_option(\"display.max_colwidth\", None)"
      ],
      "metadata": {
        "id": "NUXj45R7dShy"
      },
      "execution_count": null,
      "outputs": []
    },
    {
      "cell_type": "markdown",
      "source": [
        "## Load data"
      ],
      "metadata": {
        "id": "aM81NPv6dg2f"
      }
    },
    {
      "cell_type": "code",
      "execution_count": null,
      "metadata": {
        "id": "ohbges_fdMRM"
      },
      "outputs": [],
      "source": [
        "url = 'https://drive.google.com/uc?id=1P1BsvI2jPN3fEqjc2YZxmQ-MTs22WVUk'\n",
        "output = 'file.csv'\n",
        "\n",
        "gdown.download(url, output, quiet=False)\n",
        "\n",
        "data = pd.read_csv('file.csv')\n",
        "data.head()"
      ]
    },
    {
      "cell_type": "code",
      "source": [
        "def get_image(data):\n",
        "  image = Image.open(BytesIO(base64.b64decode(data))).convert('RGB')\n",
        "  return image\n",
        "\n",
        "get_image(data.sample(1)['image'].tolist()[0])"
      ],
      "metadata": {
        "id": "zvKtIp4IeON1"
      },
      "execution_count": null,
      "outputs": []
    },
    {
      "cell_type": "markdown",
      "source": [
        "### Clean data"
      ],
      "metadata": {
        "id": "12P9QJ-8eTxe"
      }
    },
    {
      "cell_type": "code",
      "source": [],
      "metadata": {
        "id": "RWpuVMbLebDO"
      },
      "execution_count": null,
      "outputs": []
    },
    {
      "cell_type": "markdown",
      "source": [
        "### Chunking\n"
      ],
      "metadata": {
        "id": "LCznMlLyeWjm"
      }
    },
    {
      "cell_type": "code",
      "source": [],
      "metadata": {
        "id": "rWAH0QLxebla"
      },
      "execution_count": null,
      "outputs": []
    },
    {
      "cell_type": "markdown",
      "source": [
        "## Embed"
      ],
      "metadata": {
        "id": "SXAktaUkedpY"
      }
    },
    {
      "cell_type": "code",
      "source": [],
      "metadata": {
        "id": "Y3qvkVNbeiTG"
      },
      "execution_count": null,
      "outputs": []
    },
    {
      "cell_type": "markdown",
      "source": [
        "\n",
        "### Visualize embeddings"
      ],
      "metadata": {
        "id": "y5-C-L4feieW"
      }
    },
    {
      "cell_type": "code",
      "source": [],
      "metadata": {
        "id": "mgCQEETHemRk"
      },
      "execution_count": null,
      "outputs": []
    }
  ]
}