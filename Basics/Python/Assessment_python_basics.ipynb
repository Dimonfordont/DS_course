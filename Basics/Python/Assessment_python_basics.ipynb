{
  "nbformat": 4,
  "nbformat_minor": 0,
  "metadata": {
    "colab": {
      "provenance": [],
      "authorship_tag": "ABX9TyM9eoVbbPeEWnTsTRAkwida",
      "include_colab_link": true
    },
    "kernelspec": {
      "name": "python3",
      "display_name": "Python 3"
    },
    "language_info": {
      "name": "python"
    }
  },
  "cells": [
    {
      "cell_type": "markdown",
      "metadata": {
        "id": "view-in-github",
        "colab_type": "text"
      },
      "source": [
        "<a href=\"https://colab.research.google.com/github/Dimonfordont/DS_course/blob/main/Basics/Python/Assessment_python_basics.ipynb\" target=\"_parent\"><img src=\"https://colab.research.google.com/assets/colab-badge.svg\" alt=\"Open In Colab\"/></a>"
      ]
    },
    {
      "cell_type": "markdown",
      "source": [
        "# Практическая работа по выученным материалам python basics"
      ],
      "metadata": {
        "id": "b2vph_-91MI-"
      }
    },
    {
      "cell_type": "markdown",
      "source": [
        "## Шаг 1: Переменные\n",
        "\n",
        "**Описание**: Создайте базовые характеристики героя.\n",
        "\n",
        "Создайте переменные:\n",
        "* hp (здоровье) 120\n",
        "* strength (сила) 10\n",
        "* name (имя) строка\n",
        "\n",
        "Выведите все переменные с помощью print."
      ],
      "metadata": {
        "id": "gOhBGYmd1aZ9"
      }
    },
    {
      "cell_type": "code",
      "source": [
        "# Ваш код тут\n",
        "\n",
        "hp =\n",
        "\n",
        "\n"
      ],
      "metadata": {
        "id": "MUpgZzHL1UzU"
      },
      "execution_count": null,
      "outputs": []
    },
    {
      "cell_type": "code",
      "source": [
        "assert hp == 120\n",
        "assert strength == 10\n",
        "assert type(name) == str\n",
        "print('all tests passed')"
      ],
      "metadata": {
        "id": "8cm9zdjS7lH2"
      },
      "execution_count": null,
      "outputs": []
    },
    {
      "cell_type": "markdown",
      "source": [
        "\n",
        "* Создайте булевую переменную alive = True.\n",
        "\n",
        "* Измените hp, уменьшив его на 20."
      ],
      "metadata": {
        "id": "mBs1CaCc7mWr"
      }
    },
    {
      "cell_type": "code",
      "source": [
        "# Ваш код тут\n"
      ],
      "metadata": {
        "id": "bWm1S9FZ7m5H"
      },
      "execution_count": null,
      "outputs": []
    },
    {
      "cell_type": "code",
      "execution_count": null,
      "metadata": {
        "id": "Td2tpXWy1LhZ"
      },
      "outputs": [],
      "source": [
        "assert hp == 100\n",
        "assert alive is True\n",
        "print('all tests passed')"
      ]
    },
    {
      "cell_type": "markdown",
      "source": [
        "## Шаг 2: Кортежи и списки\n",
        "\n",
        "**Описание**: Ваш герой находит сундук с предметами.\n",
        "\n",
        "\n",
        "* Создайте кортеж starting_items с элементами: \"меч\", \"щит\", \"зелье\".\n",
        "* Преобразуйте его в список под названием inventory.\n",
        "* Добавьте в inventory новый предмет \"золотая монета\".\n",
        "* Удалите \"щит\".\n",
        "* Найдите проверьте его наличие в инвентаре с помощью in\n",
        "* Создайте переменную potion_num и назначте ему индекс \"зелья\" inventory\n",
        "\n",
        "Выведите все переменные с помощью print."
      ],
      "metadata": {
        "id": "xmFLYVLk74pB"
      }
    },
    {
      "cell_type": "code",
      "source": [
        "# Ваш код тут\n",
        "\n"
      ],
      "metadata": {
        "id": "eadFa9uP8CVe"
      },
      "execution_count": null,
      "outputs": []
    },
    {
      "cell_type": "code",
      "source": [
        "assert starting_items == (\"меч\", \"щит\", \"зелье\")\n",
        "assert inventory == [\"меч\", \"зелье\", \"золотая монета\"]\n",
        "assert potion_num == inventory.index(\"зелье\")\n",
        "print('all tests passed')"
      ],
      "metadata": {
        "id": "o_1ovxkL8Byb"
      },
      "execution_count": null,
      "outputs": []
    },
    {
      "cell_type": "markdown",
      "source": [
        "## Шаг 3: Словари\n",
        "\n",
        "**Описание**: Герой встречает торговца, который предлагает ему купить товары.\n",
        "\n",
        "Задача:\n",
        "\n",
        "* Создайте словарь shop с товарами: \"зелье\" (10 золотых), \"лук\" (50 золотых), \"стрелы\" (1 золотая за штуку). Стоимость указываем в int"
      ],
      "metadata": {
        "id": "gzB7PHNO8BEd"
      }
    },
    {
      "cell_type": "code",
      "source": [
        "# Ваш код тут\n",
        "\n"
      ],
      "metadata": {
        "id": "fMxFRU4M9jvE"
      },
      "execution_count": null,
      "outputs": []
    },
    {
      "cell_type": "code",
      "source": [
        "assert shop[\"зелье\"] == 10\n",
        "assert len(shop.keys()) == 3\n",
        "assert \"лук\" in shop\n",
        "print('all tests passed')"
      ],
      "metadata": {
        "id": "eaXddjT99mmB"
      },
      "execution_count": null,
      "outputs": []
    },
    {
      "cell_type": "markdown",
      "source": [
        "\n",
        "* Добавьте в словарь новый ключ \"меч\" = 100 золотых.\n",
        "* Удалите ключ \"лук\".\n",
        "* Создайте копию словаря shop_copy"
      ],
      "metadata": {
        "id": "N5IPA_Qz9vkG"
      }
    },
    {
      "cell_type": "code",
      "source": [
        "# Ваш код тут\n",
        "\n"
      ],
      "metadata": {
        "id": "pyrmDKmY-Apt"
      },
      "execution_count": null,
      "outputs": []
    },
    {
      "cell_type": "code",
      "source": [
        "assert shop[\"меч\"] == 100\n",
        "assert \"лук\" not in shop\n",
        "assert shop_copy == shop\n",
        "print('all tests passed')"
      ],
      "metadata": {
        "id": "zhA4KuXp9wB_"
      },
      "execution_count": null,
      "outputs": []
    },
    {
      "cell_type": "markdown",
      "source": [
        "## Шаг 4: Условия\n",
        "\n",
        "**Описание**: Герой сражается с монстром который нанес ему 65 урона. Вычтите это значение из переменной hp."
      ],
      "metadata": {
        "id": "MCmSx-PS-Jt0"
      }
    },
    {
      "cell_type": "code",
      "source": [
        "# Ваш код тут\n",
        "\n"
      ],
      "metadata": {
        "id": "gfMOCdjg-HhU"
      },
      "execution_count": null,
      "outputs": []
    },
    {
      "cell_type": "code",
      "source": [
        "assert hp == ord('#')"
      ],
      "metadata": {
        "id": "O-t7Kucc-lhu"
      },
      "execution_count": 6,
      "outputs": []
    },
    {
      "cell_type": "markdown",
      "source": [
        "Если здоровье ниже 50, он должен выпить зелье.\n",
        "\n",
        "Задача:\n",
        "\n",
        "* Если hp < 0 то поменяйте имя героя и утановите значение hp 80.\n",
        "* В ином случае, если hp < 50, то увеличьте hp на 70 и удалите зелье из inventory.\n",
        "* Если hp в диапазоне 50–100, оставьте его без изменений.\n",
        "* Если hp > 100, установите его значение на 100. Это отдельная проверка."
      ],
      "metadata": {
        "id": "llb3t0we_T-x"
      }
    },
    {
      "cell_type": "code",
      "source": [
        "# Ваш код тут\n"
      ],
      "metadata": {
        "id": "_Fl5sOiH_TYe"
      },
      "execution_count": 11,
      "outputs": []
    },
    {
      "cell_type": "code",
      "source": [
        "assert hp == ord('d')\n",
        "assert \"зелье\" not in inventory\n",
        "print('all tests passed')"
      ],
      "metadata": {
        "id": "9ulJ_c7E_mUV"
      },
      "execution_count": null,
      "outputs": []
    },
    {
      "cell_type": "markdown",
      "source": [
        "## Шаг 5: Циклы\n",
        "**Описание**: Герой исследует подземелье с множеством комнат.\n",
        "\n",
        "Задача:\n",
        "\n",
        "* Создайте список комнат rooms с именами: \"комната 1\", \"комната 2\", ..., \"комната 5\".\n",
        "* Используйте цикл for, чтобы вывести название каждой комнаты."
      ],
      "metadata": {
        "id": "0yP2ZRmoAWQO"
      }
    },
    {
      "cell_type": "code",
      "source": [
        "# Ваш код тут\n",
        "\n",
        "\n"
      ],
      "metadata": {
        "id": "amBIRweTAnbN"
      },
      "execution_count": null,
      "outputs": []
    },
    {
      "cell_type": "code",
      "source": [
        "assert rooms == [f\"комната {str(x)}\" for x in range (1,6)]"
      ],
      "metadata": {
        "id": "kMnaaactAbsP"
      },
      "execution_count": null,
      "outputs": []
    },
    {
      "cell_type": "markdown",
      "source": [
        "Герой перемещается по комнатам собирая лут. Однако в комнате 2 лута нет.\n",
        "\n",
        "* Создайте переменную money равную 0\n",
        "* Используйте цикл while для перемещения по rooms, каждый раз увеличивайте значение money на 10 * номер комнаты (используйте слайсинг строк и преобразование и инты) пока герой не найдет \"комната 4\". Заберите и из нее лут остановитесь, если нашли. Однако в комнате 2 ничего нет, поэтому ее мы пропускаем с помощью continue (есть и другие способы но мы используем этот)."
      ],
      "metadata": {
        "id": "Lj1nTU92AxBm"
      }
    },
    {
      "cell_type": "code",
      "source": [
        "# Ваш код тут\n",
        "\n",
        "\n",
        "\n",
        "\n"
      ],
      "metadata": {
        "id": "sykLFGyUAvSC"
      },
      "execution_count": null,
      "outputs": []
    },
    {
      "cell_type": "code",
      "source": [
        "assert money == ord('P')"
      ],
      "metadata": {
        "id": "DojJSwzBBqst"
      },
      "execution_count": 15,
      "outputs": []
    },
    {
      "cell_type": "markdown",
      "source": [
        "##Шаг 6: Функции\n",
        "Описание: Герой был сильно ранен и должен использовать магию для лечения.\n",
        "\n",
        "Задача:\n",
        "\n",
        "* Напишите функцию heal принимающую два аргумента (hp, amount) и возвращающую новое значение, которая увеличивает здоровье.\n",
        "* Подумайте как установить новое значение здоровья героя. Используя функцию, вылечите хп героя до 100 определив новое значение в переменную.\n",
        "* Используйте тайпхинты для типов аргументов и того что функция возвращает\n",
        "\n",
        "* напишите докстринг для heal начинающися со слова \"Излечивает \"\n",
        "\n",
        "* Используйте лямбда-функцию для вычисления нанесенного урона:get_damage (damage) => hp - damage. Помните про область видимости здоровья."
      ],
      "metadata": {
        "id": "sOxN4GzsCKXJ"
      }
    },
    {
      "cell_type": "code",
      "source": [
        "hp = 10\n",
        "# Ваш код тут\n",
        "\n",
        "\n",
        "\n",
        "\n",
        "\n"
      ],
      "metadata": {
        "id": "-YTv6OM5CNWX"
      },
      "execution_count": null,
      "outputs": []
    },
    {
      "cell_type": "code",
      "source": [
        "assert hp == ord('d')\n",
        "assert list(map(ord, list(heal.__doc__.split()[0].lower()))) == 10807\n",
        "assert heal(50, 20) == 70\n",
        "assert get_damage(30) == 70"
      ],
      "metadata": {
        "id": "5l1Jj4-RCkgy"
      },
      "execution_count": null,
      "outputs": []
    },
    {
      "cell_type": "markdown",
      "source": [
        "## Шаг 7: Исключения\n",
        "Задача:\n",
        "**Описание**: Герой открывает сундук, но он может быть ловушкой. Нужно обработать возможные ошибки и подсчитать количество операций, выполненных в разных блоках.\n",
        "\n",
        "Задача:\n",
        "\n",
        "* Напишите функцию open_chest(chest_type), которая:\n",
        "* Если chest_type == \"ловушка\", вызывает ValueError(\"Это ловушка!\").\n",
        "* Если chest_type == \"пустой\", возвращает None.\n",
        "* Если chest_type == \"полный\", возвращает \"Сундук с сокровищами!\".\n",
        "* Используйте блоки try, except, else, и finally для обработки:\n",
        "* Если возникает ValueError, пропустите эту ошибку и увеличьте счетчик ошибок.\n",
        "* Если сундук успешно открыт, увеличьте счетчик успешных открытий.\n",
        "* В любом случае (включая ошибки), увеличьте общий счетчик попыток.\n",
        "* Проверьте работу на следующих сундуках: \"ловушка\", \"пустой\", \"полный\".\n"
      ],
      "metadata": {
        "id": "8aJ-XM-CCjp4"
      }
    },
    {
      "cell_type": "code",
      "source": [
        "errors = 0\n",
        "successes = 0\n",
        "total_attempts = 0\n",
        "\n",
        "# Ваш код тут\n",
        "\n",
        "def open_chest(chest_type: str):\n",
        "  if chest type==      # Ваш код тут\n",
        "    raise   ValueError(\"Это ловушка!\")\n",
        "    elif chest_type ==  # Ваш код тут\n",
        "        return  # Ваш код тут\n",
        "    elif  # Ваш код тут\n",
        "         # Ваш код тут\n",
        "    else:\n",
        "        raise TypeError( # Ваш код тут\n",
        "\n",
        "\n",
        "# Часть ниже не трогать\n",
        "\n",
        "\n",
        "for chest in [\"ловушка\", \"пустой\", \"полный\"]:\n",
        "    try:\n",
        "        result = open_chest(chest)\n",
        "    except ValueError:  # Пропускаем ловушку\n",
        "        errors += 1\n",
        "    except Exception as e:  # Ловим остальные ошибки\n",
        "        print(f\"Неизвестная ошибка: {e}\")\n",
        "    else:\n",
        "        successes += 1  # Увеличиваем счетчик успешных открытий\n",
        "        assert result is not None, \"Результат открытия сундука не должен быть None\"\n",
        "    finally:\n",
        "        total_attempts += 1  # Всегда увеличиваем общий счетчик\n",
        "\n",
        "\n",
        "\n",
        "\n",
        "assert errors == 1\n",
        "assert successes == 2\n",
        "assert total_attempts == 3"
      ],
      "metadata": {
        "id": "r5En8zVcEu3t"
      },
      "execution_count": null,
      "outputs": []
    },
    {
      "cell_type": "markdown",
      "source": [
        "## Если все ассерты верны - поздравляю, вы закночили свою работу!"
      ],
      "metadata": {
        "id": "I5x5iPkTGzWO"
      }
    }
  ]
}